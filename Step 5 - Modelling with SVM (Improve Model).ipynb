{
 "cells": [
  {
   "cell_type": "markdown",
   "id": "57b57e0d",
   "metadata": {},
   "source": [
    "# Overview\n",
    "### English"
   ]
  },
  {
   "cell_type": "markdown",
   "id": "db24fe9d",
   "metadata": {},
   "source": [
    "#### In (Step 3) I have created a model to predict boarding prices using ML (Machine Learning) & the data I obtained in scraping (Step 1). After evaluation, it turned out that my model was far from expected. The model could not predict the data well and had a very high error value.\n",
    "#### So this time I decided to improve the model with the information I got in EDA (Step 4) previously."
   ]
  },
  {
   "cell_type": "markdown",
   "id": "3bcf3f14",
   "metadata": {},
   "source": [
    "# Ringkasan"
   ]
  },
  {
   "cell_type": "markdown",
   "id": "018b62b8",
   "metadata": {},
   "source": [
    "### Bahasa Indonesia"
   ]
  },
  {
   "cell_type": "markdown",
   "id": "41238076",
   "metadata": {},
   "source": [
    "#### pada (Step 3) saya sudah membuat model untuk memprediksi harga kos dengan ML (Machine Learning) & data yang saya peroleh dalam scraping (Step 1). Setelah di evaluasi ternyata model saya jauh dari yang diharapkan, Model itu tidak dapat memprediksi data dengan baik dan memiliki nilai error yang sangat tinggi.\n",
    "#### Jadi kali ini saya memutuskan untuk improve model tersebut dengan informasi informasi yang saya dapatkan di EDA (Step 4) Sebelumnya. "
   ]
  },
  {
   "cell_type": "code",
   "execution_count": 1,
   "id": "7ea850f0",
   "metadata": {},
   "outputs": [],
   "source": [
    "# import common package\n",
    "import pandas as pd\n",
    "import numpy as np\n",
    "\n",
    "import warnings\n",
    "warnings.filterwarnings('ignore')"
   ]
  },
  {
   "cell_type": "code",
   "execution_count": 2,
   "id": "8cf1075d",
   "metadata": {},
   "outputs": [
    {
     "data": {
      "text/html": [
       "<div>\n",
       "<style scoped>\n",
       "    .dataframe tbody tr th:only-of-type {\n",
       "        vertical-align: middle;\n",
       "    }\n",
       "\n",
       "    .dataframe tbody tr th {\n",
       "        vertical-align: top;\n",
       "    }\n",
       "\n",
       "    .dataframe thead th {\n",
       "        text-align: right;\n",
       "    }\n",
       "</style>\n",
       "<table border=\"1\" class=\"dataframe\">\n",
       "  <thead>\n",
       "    <tr style=\"text-align: right;\">\n",
       "      <th></th>\n",
       "      <th>Nama Kos</th>\n",
       "      <th>Lokasi</th>\n",
       "      <th>Fasilitas</th>\n",
       "      <th>Ratings</th>\n",
       "      <th>Harga per Bulan</th>\n",
       "    </tr>\n",
       "  </thead>\n",
       "  <tbody>\n",
       "    <tr>\n",
       "      <th>0</th>\n",
       "      <td>Kost Wisma Kencana Hidayah</td>\n",
       "      <td>Lowokwaru</td>\n",
       "      <td>WiFi, Kasur, Akses 24 Jam</td>\n",
       "      <td>4.1</td>\n",
       "      <td>600000</td>\n",
       "    </tr>\n",
       "    <tr>\n",
       "      <th>1</th>\n",
       "      <td>Kost Omah Tipe 1</td>\n",
       "      <td>Lowokwaru</td>\n",
       "      <td>K. Mandi Dalam, WiFi, Kloset Duduk, Kasur, Aks...</td>\n",
       "      <td>NaN</td>\n",
       "      <td>950000</td>\n",
       "    </tr>\n",
       "    <tr>\n",
       "      <th>2</th>\n",
       "      <td>Kost Graha Kamila Tipe Standar</td>\n",
       "      <td>Lowokwaru</td>\n",
       "      <td>WiFi, Kloset Duduk, Kasur, Akses 24 Jam</td>\n",
       "      <td>NaN</td>\n",
       "      <td>1000000</td>\n",
       "    </tr>\n",
       "    <tr>\n",
       "      <th>3</th>\n",
       "      <td>Kost Semanggi</td>\n",
       "      <td>Lowokwaru</td>\n",
       "      <td>Kasur</td>\n",
       "      <td>NaN</td>\n",
       "      <td>500000</td>\n",
       "    </tr>\n",
       "    <tr>\n",
       "      <th>4</th>\n",
       "      <td>Kost CM6</td>\n",
       "      <td>Lowokwaru</td>\n",
       "      <td>WiFi, Kasur, Akses 24 Jam</td>\n",
       "      <td>NaN</td>\n",
       "      <td>950000</td>\n",
       "    </tr>\n",
       "    <tr>\n",
       "      <th>...</th>\n",
       "      <td>...</td>\n",
       "      <td>...</td>\n",
       "      <td>...</td>\n",
       "      <td>...</td>\n",
       "      <td>...</td>\n",
       "    </tr>\n",
       "    <tr>\n",
       "      <th>235</th>\n",
       "      <td>Kost Syariah Kertosentono</td>\n",
       "      <td>Lowokwaru</td>\n",
       "      <td>WiFi, Kasur, Akses 24 Jam</td>\n",
       "      <td>NaN</td>\n",
       "      <td>650000</td>\n",
       "    </tr>\n",
       "    <tr>\n",
       "      <th>236</th>\n",
       "      <td>Kost Candi Mendut Tipe A1</td>\n",
       "      <td>Lowokwaru</td>\n",
       "      <td>K. Mandi Dalam, Kloset Duduk, Kasur, Akses 24 Jam</td>\n",
       "      <td>NaN</td>\n",
       "      <td>900000</td>\n",
       "    </tr>\n",
       "    <tr>\n",
       "      <th>237</th>\n",
       "      <td>Kost Borobudur Utara</td>\n",
       "      <td>Lowokwaru</td>\n",
       "      <td>WiFi, Kloset Duduk, Kasur, Akses 24 Jam</td>\n",
       "      <td>NaN</td>\n",
       "      <td>500000</td>\n",
       "    </tr>\n",
       "    <tr>\n",
       "      <th>238</th>\n",
       "      <td>Kost CMG Tipe Vip</td>\n",
       "      <td>Lowokwaru</td>\n",
       "      <td>K. Mandi Dalam, WiFi, Kloset Duduk, Kasur</td>\n",
       "      <td>NaN</td>\n",
       "      <td>900000</td>\n",
       "    </tr>\n",
       "    <tr>\n",
       "      <th>239</th>\n",
       "      <td>Kost Ilham Tipe Standard</td>\n",
       "      <td>Lowokwaru</td>\n",
       "      <td>WiFi, Kasur, Akses 24 Jam</td>\n",
       "      <td>NaN</td>\n",
       "      <td>580000</td>\n",
       "    </tr>\n",
       "  </tbody>\n",
       "</table>\n",
       "<p>240 rows × 5 columns</p>\n",
       "</div>"
      ],
      "text/plain": [
       "                           Nama Kos     Lokasi  \\\n",
       "0        Kost Wisma Kencana Hidayah  Lowokwaru   \n",
       "1                  Kost Omah Tipe 1  Lowokwaru   \n",
       "2    Kost Graha Kamila Tipe Standar  Lowokwaru   \n",
       "3                     Kost Semanggi  Lowokwaru   \n",
       "4                          Kost CM6  Lowokwaru   \n",
       "..                              ...        ...   \n",
       "235       Kost Syariah Kertosentono  Lowokwaru   \n",
       "236       Kost Candi Mendut Tipe A1  Lowokwaru   \n",
       "237            Kost Borobudur Utara  Lowokwaru   \n",
       "238               Kost CMG Tipe Vip  Lowokwaru   \n",
       "239        Kost Ilham Tipe Standard  Lowokwaru   \n",
       "\n",
       "                                             Fasilitas  Ratings  \\\n",
       "0                            WiFi, Kasur, Akses 24 Jam      4.1   \n",
       "1    K. Mandi Dalam, WiFi, Kloset Duduk, Kasur, Aks...      NaN   \n",
       "2              WiFi, Kloset Duduk, Kasur, Akses 24 Jam      NaN   \n",
       "3                                                Kasur      NaN   \n",
       "4                            WiFi, Kasur, Akses 24 Jam      NaN   \n",
       "..                                                 ...      ...   \n",
       "235                          WiFi, Kasur, Akses 24 Jam      NaN   \n",
       "236  K. Mandi Dalam, Kloset Duduk, Kasur, Akses 24 Jam      NaN   \n",
       "237            WiFi, Kloset Duduk, Kasur, Akses 24 Jam      NaN   \n",
       "238          K. Mandi Dalam, WiFi, Kloset Duduk, Kasur      NaN   \n",
       "239                          WiFi, Kasur, Akses 24 Jam      NaN   \n",
       "\n",
       "     Harga per Bulan  \n",
       "0             600000  \n",
       "1             950000  \n",
       "2            1000000  \n",
       "3             500000  \n",
       "4             950000  \n",
       "..               ...  \n",
       "235           650000  \n",
       "236           900000  \n",
       "237           500000  \n",
       "238           900000  \n",
       "239           580000  \n",
       "\n",
       "[240 rows x 5 columns]"
      ]
     },
     "execution_count": 2,
     "metadata": {},
     "output_type": "execute_result"
    }
   ],
   "source": [
    "data = pd.read_csv('data/data_kos_malang_clean.csv')\n",
    "data"
   ]
  },
  {
   "cell_type": "markdown",
   "id": "5bcc5829",
   "metadata": {},
   "source": [
    "# Data Spliting"
   ]
  },
  {
   "cell_type": "markdown",
   "id": "edf4069c",
   "metadata": {},
   "source": [
    "#### This time I tried to use the \"Ratings\" column also as a feature because there is information that can be useful (According to EDA in Step 3) and removed the \"Location\" column because it has no effect on predicting the model."
   ]
  },
  {
   "cell_type": "markdown",
   "id": "a5e62090",
   "metadata": {},
   "source": [
    "#### Kali ini saya mencoba untuk menggunakan kolom \"Ratings\" juga sebagai fitur karena ada informasi yang bisa berguna (Menurut EDA pada Step 3) dan menghapus kolom \"Lokasi\" karena tidak berpengaruh untuk memprediksi model."
   ]
  },
  {
   "cell_type": "code",
   "execution_count": 3,
   "id": "83ac9306",
   "metadata": {},
   "outputs": [
    {
     "data": {
      "text/plain": [
       "((180, 2), (180,))"
      ]
     },
     "execution_count": 3,
     "metadata": {},
     "output_type": "execute_result"
    }
   ],
   "source": [
    "from sklearn.model_selection import train_test_split\n",
    "\n",
    "# drop colum Lokasi & Nama\n",
    "data.drop(['Nama Kos','Lokasi'], axis=1, inplace=True)\n",
    "\n",
    "# define Feature (X) & Label (y)\n",
    "X = data.drop('Harga per Bulan', axis=1)\n",
    "y = data['Harga per Bulan']\n",
    "\n",
    "# spliting\n",
    "X_train, X_test, y_train, y_test = train_test_split(X,y,\n",
    "                                                   test_size=0.25,\n",
    "                                                   random_state=42)\n",
    "\n",
    "# check \n",
    "X_train.shape, y_train.shape"
   ]
  },
  {
   "cell_type": "markdown",
   "id": "78db9dd1",
   "metadata": {},
   "source": [
    "# Make Function"
   ]
  },
  {
   "cell_type": "markdown",
   "id": "129244ea",
   "metadata": {},
   "source": [
    "#### First I will create a function to get data on the number of boarding facilities"
   ]
  },
  {
   "cell_type": "markdown",
   "id": "aeda4601",
   "metadata": {},
   "source": [
    "#### Pertama saya akan membuat fungsi untuk mendapatkan data berapa jumlah fasilitas kos"
   ]
  },
  {
   "cell_type": "code",
   "execution_count": 4,
   "id": "4fb56e35",
   "metadata": {},
   "outputs": [],
   "source": [
    "def get_count_facilities(DATA):\n",
    "    \n",
    "    # copy data\n",
    "    D = DATA.copy(deep=True)\n",
    "    \n",
    "    # looping for get data\n",
    "    for i in D.index:\n",
    "        d = len(D.loc[i, 'Fasilitas'].split(', '))\n",
    "        D.loc[i, 'Jumlah Fasilitas'] = d\n",
    "        \n",
    "    return D\n",
    "        "
   ]
  },
  {
   "cell_type": "code",
   "execution_count": 5,
   "id": "de292ed6",
   "metadata": {},
   "outputs": [
    {
     "data": {
      "text/html": [
       "<div>\n",
       "<style scoped>\n",
       "    .dataframe tbody tr th:only-of-type {\n",
       "        vertical-align: middle;\n",
       "    }\n",
       "\n",
       "    .dataframe tbody tr th {\n",
       "        vertical-align: top;\n",
       "    }\n",
       "\n",
       "    .dataframe thead th {\n",
       "        text-align: right;\n",
       "    }\n",
       "</style>\n",
       "<table border=\"1\" class=\"dataframe\">\n",
       "  <thead>\n",
       "    <tr style=\"text-align: right;\">\n",
       "      <th></th>\n",
       "      <th>Fasilitas</th>\n",
       "      <th>Ratings</th>\n",
       "      <th>Jumlah Fasilitas</th>\n",
       "    </tr>\n",
       "  </thead>\n",
       "  <tbody>\n",
       "    <tr>\n",
       "      <th>95</th>\n",
       "      <td>WiFi, Kasur, Akses 24 Jam</td>\n",
       "      <td>NaN</td>\n",
       "      <td>3.0</td>\n",
       "    </tr>\n",
       "    <tr>\n",
       "      <th>126</th>\n",
       "      <td>WiFi, Kasur, Akses 24 Jam</td>\n",
       "      <td>NaN</td>\n",
       "      <td>3.0</td>\n",
       "    </tr>\n",
       "    <tr>\n",
       "      <th>120</th>\n",
       "      <td>WiFi, Kasur, Akses 24 Jam</td>\n",
       "      <td>NaN</td>\n",
       "      <td>3.0</td>\n",
       "    </tr>\n",
       "    <tr>\n",
       "      <th>67</th>\n",
       "      <td>WiFi, Akses 24 Jam</td>\n",
       "      <td>NaN</td>\n",
       "      <td>2.0</td>\n",
       "    </tr>\n",
       "    <tr>\n",
       "      <th>101</th>\n",
       "      <td>Kasur, Akses 24 Jam</td>\n",
       "      <td>NaN</td>\n",
       "      <td>2.0</td>\n",
       "    </tr>\n",
       "  </tbody>\n",
       "</table>\n",
       "</div>"
      ],
      "text/plain": [
       "                     Fasilitas  Ratings  Jumlah Fasilitas\n",
       "95   WiFi, Kasur, Akses 24 Jam      NaN               3.0\n",
       "126  WiFi, Kasur, Akses 24 Jam      NaN               3.0\n",
       "120  WiFi, Kasur, Akses 24 Jam      NaN               3.0\n",
       "67          WiFi, Akses 24 Jam      NaN               2.0\n",
       "101        Kasur, Akses 24 Jam      NaN               2.0"
      ]
     },
     "execution_count": 5,
     "metadata": {},
     "output_type": "execute_result"
    }
   ],
   "source": [
    "# check fungtion\n",
    "get_count_facilities(X_train.head())"
   ]
  },
  {
   "cell_type": "markdown",
   "id": "57d48004",
   "metadata": {},
   "source": [
    "#### Secondly, I will separate each facility column and assign a value [0, 1] to each column."
   ]
  },
  {
   "cell_type": "markdown",
   "id": "4eb844ca",
   "metadata": {},
   "source": [
    "#### Yang kedua saya akan memisah setiap kolom fasilitas dan memberikan nilai [0, 1] pada setiap kolomnya."
   ]
  },
  {
   "cell_type": "code",
   "execution_count": 6,
   "id": "ce4ff934",
   "metadata": {},
   "outputs": [],
   "source": [
    "def get_facilities(DATA):\n",
    "    \n",
    "    # unique values\n",
    "    unique_facility = ['WiFi', 'Kasur', 'Akses 24 Jam', 'K. Mandi Dalam', 'Kloset Duduk', 'AC']\n",
    "    \n",
    "    # list for new unique value\n",
    "    wifi = []\n",
    "    kasur = []\n",
    "    akses = []\n",
    "    KMD = []\n",
    "    KD = []\n",
    "    AC = []\n",
    "\n",
    "    D = DATA.copy(deep=True) # copy dataframe\n",
    "    \n",
    "    # looping for index in colum of dataframe\n",
    "    for d in D['Fasilitas']:\n",
    "        L = d.split(', ') # split value\n",
    "        \n",
    "        for uf,new in zip(unique_facility,[wifi, kasur, akses, KMD, KD, AC]):\n",
    "            if uf in L:\n",
    "                new.append(1)\n",
    "            else:\n",
    "                new.append(0)\n",
    "    \n",
    "    D.drop('Fasilitas', axis=1, inplace=True)\n",
    "    new_df = pd.DataFrame({\n",
    "        'Wifi': wifi,\n",
    "        'Kasur': kasur,\n",
    "        'Akses 24 Jam': akses,\n",
    "        'K. Mandi Dalam': KMD,\n",
    "        'Kloset Duduk': KD,\n",
    "        'AC': AC\n",
    "    })\n",
    "    \n",
    "    # suitable index\n",
    "    new_df.index = D.index\n",
    "    \n",
    "    return pd.concat([D, new_df], axis=1)"
   ]
  },
  {
   "cell_type": "code",
   "execution_count": 7,
   "id": "b4ebe8e3",
   "metadata": {},
   "outputs": [
    {
     "data": {
      "text/html": [
       "<div>\n",
       "<style scoped>\n",
       "    .dataframe tbody tr th:only-of-type {\n",
       "        vertical-align: middle;\n",
       "    }\n",
       "\n",
       "    .dataframe tbody tr th {\n",
       "        vertical-align: top;\n",
       "    }\n",
       "\n",
       "    .dataframe thead th {\n",
       "        text-align: right;\n",
       "    }\n",
       "</style>\n",
       "<table border=\"1\" class=\"dataframe\">\n",
       "  <thead>\n",
       "    <tr style=\"text-align: right;\">\n",
       "      <th></th>\n",
       "      <th>Ratings</th>\n",
       "      <th>Jumlah Fasilitas</th>\n",
       "      <th>Wifi</th>\n",
       "      <th>Kasur</th>\n",
       "      <th>Akses 24 Jam</th>\n",
       "      <th>K. Mandi Dalam</th>\n",
       "      <th>Kloset Duduk</th>\n",
       "      <th>AC</th>\n",
       "    </tr>\n",
       "  </thead>\n",
       "  <tbody>\n",
       "    <tr>\n",
       "      <th>95</th>\n",
       "      <td>NaN</td>\n",
       "      <td>3.0</td>\n",
       "      <td>1</td>\n",
       "      <td>1</td>\n",
       "      <td>1</td>\n",
       "      <td>0</td>\n",
       "      <td>0</td>\n",
       "      <td>0</td>\n",
       "    </tr>\n",
       "    <tr>\n",
       "      <th>126</th>\n",
       "      <td>NaN</td>\n",
       "      <td>3.0</td>\n",
       "      <td>1</td>\n",
       "      <td>1</td>\n",
       "      <td>1</td>\n",
       "      <td>0</td>\n",
       "      <td>0</td>\n",
       "      <td>0</td>\n",
       "    </tr>\n",
       "    <tr>\n",
       "      <th>120</th>\n",
       "      <td>NaN</td>\n",
       "      <td>3.0</td>\n",
       "      <td>1</td>\n",
       "      <td>1</td>\n",
       "      <td>1</td>\n",
       "      <td>0</td>\n",
       "      <td>0</td>\n",
       "      <td>0</td>\n",
       "    </tr>\n",
       "    <tr>\n",
       "      <th>67</th>\n",
       "      <td>NaN</td>\n",
       "      <td>2.0</td>\n",
       "      <td>1</td>\n",
       "      <td>0</td>\n",
       "      <td>1</td>\n",
       "      <td>0</td>\n",
       "      <td>0</td>\n",
       "      <td>0</td>\n",
       "    </tr>\n",
       "    <tr>\n",
       "      <th>101</th>\n",
       "      <td>NaN</td>\n",
       "      <td>2.0</td>\n",
       "      <td>0</td>\n",
       "      <td>1</td>\n",
       "      <td>1</td>\n",
       "      <td>0</td>\n",
       "      <td>0</td>\n",
       "      <td>0</td>\n",
       "    </tr>\n",
       "  </tbody>\n",
       "</table>\n",
       "</div>"
      ],
      "text/plain": [
       "     Ratings  Jumlah Fasilitas  Wifi  Kasur  Akses 24 Jam  K. Mandi Dalam  \\\n",
       "95       NaN               3.0     1      1             1               0   \n",
       "126      NaN               3.0     1      1             1               0   \n",
       "120      NaN               3.0     1      1             1               0   \n",
       "67       NaN               2.0     1      0             1               0   \n",
       "101      NaN               2.0     0      1             1               0   \n",
       "\n",
       "     Kloset Duduk  AC  \n",
       "95              0   0  \n",
       "126             0   0  \n",
       "120             0   0  \n",
       "67              0   0  \n",
       "101             0   0  "
      ]
     },
     "execution_count": 7,
     "metadata": {},
     "output_type": "execute_result"
    }
   ],
   "source": [
    "# check\n",
    "get_facilities(get_count_facilities(X_train.head()))"
   ]
  },
  {
   "cell_type": "markdown",
   "id": "f33ad48a",
   "metadata": {},
   "source": [
    "#### Last Step, I want to bin the rating column where if the rating is > 3 then the value is 2, if <=3 the value is 0 and if there is no data (nan) then the value is 0, the resulting output will be 0,1,2 (sequentially) based on the average price obtained from the previous EDA (Step 4)."
   ]
  },
  {
   "cell_type": "markdown",
   "id": "a6e4b916",
   "metadata": {},
   "source": [
    "#### Yang terakhir, saya mau binig kolom rating dimana jika rating > 3 maka nilainya 2, jika <=3 nilainya 0 dan jika tidak ada data (nan) maka nilainya 0, output yang dihasilkan adalah 0,1,2 (berurutan) berdasarkan rata rata harga yang diperoleh dari EDA (Step 4) sebelumnya."
   ]
  },
  {
   "cell_type": "code",
   "execution_count": 8,
   "id": "d14a38f8",
   "metadata": {},
   "outputs": [],
   "source": [
    "def bining_ratings(DATA):\n",
    "    \n",
    "    # copy data\n",
    "    D = DATA.copy(deep=True)\n",
    "    \n",
    "    # looping for get data\n",
    "    for i in D.index:\n",
    "        d = D.loc[i, 'Ratings']\n",
    "        \n",
    "        # decision\n",
    "        if d > 3:\n",
    "            D.loc[i, 'Ratings'] = 2\n",
    "        elif d <= 3:\n",
    "            D.loc[i, 'Ratings'] = 0\n",
    "        else:\n",
    "            D.loc[i, 'Ratings'] = 1\n",
    "        \n",
    "    return D"
   ]
  },
  {
   "cell_type": "code",
   "execution_count": 9,
   "id": "a1c93050",
   "metadata": {},
   "outputs": [
    {
     "data": {
      "text/html": [
       "<div>\n",
       "<style scoped>\n",
       "    .dataframe tbody tr th:only-of-type {\n",
       "        vertical-align: middle;\n",
       "    }\n",
       "\n",
       "    .dataframe tbody tr th {\n",
       "        vertical-align: top;\n",
       "    }\n",
       "\n",
       "    .dataframe thead th {\n",
       "        text-align: right;\n",
       "    }\n",
       "</style>\n",
       "<table border=\"1\" class=\"dataframe\">\n",
       "  <thead>\n",
       "    <tr style=\"text-align: right;\">\n",
       "      <th></th>\n",
       "      <th>Fasilitas</th>\n",
       "      <th>Ratings</th>\n",
       "      <th>Harga per Bulan</th>\n",
       "    </tr>\n",
       "  </thead>\n",
       "  <tbody>\n",
       "    <tr>\n",
       "      <th>0</th>\n",
       "      <td>WiFi, Kasur, Akses 24 Jam</td>\n",
       "      <td>2.0</td>\n",
       "      <td>600000</td>\n",
       "    </tr>\n",
       "    <tr>\n",
       "      <th>1</th>\n",
       "      <td>K. Mandi Dalam, WiFi, Kloset Duduk, Kasur, Aks...</td>\n",
       "      <td>1.0</td>\n",
       "      <td>950000</td>\n",
       "    </tr>\n",
       "    <tr>\n",
       "      <th>2</th>\n",
       "      <td>WiFi, Kloset Duduk, Kasur, Akses 24 Jam</td>\n",
       "      <td>1.0</td>\n",
       "      <td>1000000</td>\n",
       "    </tr>\n",
       "    <tr>\n",
       "      <th>3</th>\n",
       "      <td>Kasur</td>\n",
       "      <td>1.0</td>\n",
       "      <td>500000</td>\n",
       "    </tr>\n",
       "    <tr>\n",
       "      <th>4</th>\n",
       "      <td>WiFi, Kasur, Akses 24 Jam</td>\n",
       "      <td>1.0</td>\n",
       "      <td>950000</td>\n",
       "    </tr>\n",
       "  </tbody>\n",
       "</table>\n",
       "</div>"
      ],
      "text/plain": [
       "                                           Fasilitas  Ratings  Harga per Bulan\n",
       "0                          WiFi, Kasur, Akses 24 Jam      2.0           600000\n",
       "1  K. Mandi Dalam, WiFi, Kloset Duduk, Kasur, Aks...      1.0           950000\n",
       "2            WiFi, Kloset Duduk, Kasur, Akses 24 Jam      1.0          1000000\n",
       "3                                              Kasur      1.0           500000\n",
       "4                          WiFi, Kasur, Akses 24 Jam      1.0           950000"
      ]
     },
     "execution_count": 9,
     "metadata": {},
     "output_type": "execute_result"
    }
   ],
   "source": [
    "# check function output\n",
    "bining_ratings(data.head())"
   ]
  },
  {
   "cell_type": "code",
   "execution_count": 10,
   "id": "afc53ccd",
   "metadata": {},
   "outputs": [
    {
     "data": {
      "text/html": [
       "<div>\n",
       "<style scoped>\n",
       "    .dataframe tbody tr th:only-of-type {\n",
       "        vertical-align: middle;\n",
       "    }\n",
       "\n",
       "    .dataframe tbody tr th {\n",
       "        vertical-align: top;\n",
       "    }\n",
       "\n",
       "    .dataframe thead th {\n",
       "        text-align: right;\n",
       "    }\n",
       "</style>\n",
       "<table border=\"1\" class=\"dataframe\">\n",
       "  <thead>\n",
       "    <tr style=\"text-align: right;\">\n",
       "      <th></th>\n",
       "      <th>Fasilitas</th>\n",
       "      <th>Ratings</th>\n",
       "      <th>Harga per Bulan</th>\n",
       "    </tr>\n",
       "  </thead>\n",
       "  <tbody>\n",
       "    <tr>\n",
       "      <th>0</th>\n",
       "      <td>WiFi, Kasur, Akses 24 Jam</td>\n",
       "      <td>4.1</td>\n",
       "      <td>600000</td>\n",
       "    </tr>\n",
       "    <tr>\n",
       "      <th>1</th>\n",
       "      <td>K. Mandi Dalam, WiFi, Kloset Duduk, Kasur, Aks...</td>\n",
       "      <td>NaN</td>\n",
       "      <td>950000</td>\n",
       "    </tr>\n",
       "    <tr>\n",
       "      <th>2</th>\n",
       "      <td>WiFi, Kloset Duduk, Kasur, Akses 24 Jam</td>\n",
       "      <td>NaN</td>\n",
       "      <td>1000000</td>\n",
       "    </tr>\n",
       "    <tr>\n",
       "      <th>3</th>\n",
       "      <td>Kasur</td>\n",
       "      <td>NaN</td>\n",
       "      <td>500000</td>\n",
       "    </tr>\n",
       "    <tr>\n",
       "      <th>4</th>\n",
       "      <td>WiFi, Kasur, Akses 24 Jam</td>\n",
       "      <td>NaN</td>\n",
       "      <td>950000</td>\n",
       "    </tr>\n",
       "  </tbody>\n",
       "</table>\n",
       "</div>"
      ],
      "text/plain": [
       "                                           Fasilitas  Ratings  Harga per Bulan\n",
       "0                          WiFi, Kasur, Akses 24 Jam      4.1           600000\n",
       "1  K. Mandi Dalam, WiFi, Kloset Duduk, Kasur, Aks...      NaN           950000\n",
       "2            WiFi, Kloset Duduk, Kasur, Akses 24 Jam      NaN          1000000\n",
       "3                                              Kasur      NaN           500000\n",
       "4                          WiFi, Kasur, Akses 24 Jam      NaN           950000"
      ]
     },
     "execution_count": 10,
     "metadata": {},
     "output_type": "execute_result"
    }
   ],
   "source": [
    "# validation\n",
    "data.head()"
   ]
  },
  {
   "cell_type": "markdown",
   "id": "76f88cb5",
   "metadata": {},
   "source": [
    "# Modeling"
   ]
  },
  {
   "cell_type": "markdown",
   "id": "fbe24fe2",
   "metadata": {},
   "source": [
    "#### Create a pipeline to process the dataframe until it is ready for use"
   ]
  },
  {
   "cell_type": "markdown",
   "id": "97a6293d",
   "metadata": {},
   "source": [
    "#### Membuat pipeline untuk memproses dataframe hingga siap digunakan\n"
   ]
  },
  {
   "cell_type": "code",
   "execution_count": 11,
   "id": "83ef86ff",
   "metadata": {},
   "outputs": [],
   "source": [
    "# import required package\n",
    "from sklearn.preprocessing import FunctionTransformer, MinMaxScaler\n",
    "from sklearn.pipeline import Pipeline\n",
    "from sklearn.svm import SVR"
   ]
  },
  {
   "cell_type": "code",
   "execution_count": 12,
   "id": "72c8e1dc",
   "metadata": {},
   "outputs": [],
   "source": [
    "# make pipeline\n",
    "\n",
    "df_pipeline = Pipeline([\n",
    "    ('GCF',FunctionTransformer(get_count_facilities)),\n",
    "    ('GF',FunctionTransformer(get_facilities)),\n",
    "    ('BR',FunctionTransformer(bining_ratings))\n",
    "])\n",
    "\n"
   ]
  },
  {
   "cell_type": "code",
   "execution_count": 13,
   "id": "88960ad7",
   "metadata": {},
   "outputs": [
    {
     "data": {
      "text/html": [
       "<div>\n",
       "<style scoped>\n",
       "    .dataframe tbody tr th:only-of-type {\n",
       "        vertical-align: middle;\n",
       "    }\n",
       "\n",
       "    .dataframe tbody tr th {\n",
       "        vertical-align: top;\n",
       "    }\n",
       "\n",
       "    .dataframe thead th {\n",
       "        text-align: right;\n",
       "    }\n",
       "</style>\n",
       "<table border=\"1\" class=\"dataframe\">\n",
       "  <thead>\n",
       "    <tr style=\"text-align: right;\">\n",
       "      <th></th>\n",
       "      <th>Ratings</th>\n",
       "      <th>Jumlah Fasilitas</th>\n",
       "      <th>Wifi</th>\n",
       "      <th>Kasur</th>\n",
       "      <th>Akses 24 Jam</th>\n",
       "      <th>K. Mandi Dalam</th>\n",
       "      <th>Kloset Duduk</th>\n",
       "      <th>AC</th>\n",
       "    </tr>\n",
       "  </thead>\n",
       "  <tbody>\n",
       "    <tr>\n",
       "      <th>95</th>\n",
       "      <td>1.0</td>\n",
       "      <td>3.0</td>\n",
       "      <td>1</td>\n",
       "      <td>1</td>\n",
       "      <td>1</td>\n",
       "      <td>0</td>\n",
       "      <td>0</td>\n",
       "      <td>0</td>\n",
       "    </tr>\n",
       "    <tr>\n",
       "      <th>126</th>\n",
       "      <td>1.0</td>\n",
       "      <td>3.0</td>\n",
       "      <td>1</td>\n",
       "      <td>1</td>\n",
       "      <td>1</td>\n",
       "      <td>0</td>\n",
       "      <td>0</td>\n",
       "      <td>0</td>\n",
       "    </tr>\n",
       "    <tr>\n",
       "      <th>120</th>\n",
       "      <td>1.0</td>\n",
       "      <td>3.0</td>\n",
       "      <td>1</td>\n",
       "      <td>1</td>\n",
       "      <td>1</td>\n",
       "      <td>0</td>\n",
       "      <td>0</td>\n",
       "      <td>0</td>\n",
       "    </tr>\n",
       "    <tr>\n",
       "      <th>67</th>\n",
       "      <td>1.0</td>\n",
       "      <td>2.0</td>\n",
       "      <td>1</td>\n",
       "      <td>0</td>\n",
       "      <td>1</td>\n",
       "      <td>0</td>\n",
       "      <td>0</td>\n",
       "      <td>0</td>\n",
       "    </tr>\n",
       "    <tr>\n",
       "      <th>101</th>\n",
       "      <td>1.0</td>\n",
       "      <td>2.0</td>\n",
       "      <td>0</td>\n",
       "      <td>1</td>\n",
       "      <td>1</td>\n",
       "      <td>0</td>\n",
       "      <td>0</td>\n",
       "      <td>0</td>\n",
       "    </tr>\n",
       "  </tbody>\n",
       "</table>\n",
       "</div>"
      ],
      "text/plain": [
       "     Ratings  Jumlah Fasilitas  Wifi  Kasur  Akses 24 Jam  K. Mandi Dalam  \\\n",
       "95       1.0               3.0     1      1             1               0   \n",
       "126      1.0               3.0     1      1             1               0   \n",
       "120      1.0               3.0     1      1             1               0   \n",
       "67       1.0               2.0     1      0             1               0   \n",
       "101      1.0               2.0     0      1             1               0   \n",
       "\n",
       "     Kloset Duduk  AC  \n",
       "95              0   0  \n",
       "126             0   0  \n",
       "120             0   0  \n",
       "67              0   0  \n",
       "101             0   0  "
      ]
     },
     "execution_count": 13,
     "metadata": {},
     "output_type": "execute_result"
    }
   ],
   "source": [
    "# check\n",
    "df_pipeline.fit_transform(X_train).head()"
   ]
  },
  {
   "cell_type": "markdown",
   "id": "4e135cd8",
   "metadata": {},
   "source": [
    "#### create a model and tuning pipeline to get the best parameters"
   ]
  },
  {
   "cell_type": "markdown",
   "id": "5fcdd242",
   "metadata": {},
   "source": [
    "#### membuat pipeline model dan tuning untuk mendapatkan paramter terbaik"
   ]
  },
  {
   "cell_type": "code",
   "execution_count": 14,
   "id": "902fd1aa",
   "metadata": {},
   "outputs": [],
   "source": [
    "# model param\n",
    "param_grid = {\n",
    "    'algo__kernel': ['linear', 'rbf', 'poly'],\n",
    "    'algo__C': [0.1, 1, 10, 100],\n",
    "    'algo__gamma': ['scale', 'auto'],\n",
    "    'algo__epsilon': [0.1, 0.2, 0.5]\n",
    "}\n",
    "\n",
    "# model pipeline\n",
    "pipeline = Pipeline([\n",
    "    ('df_pipeline', df_pipeline),\n",
    "    ('scaler', MinMaxScaler(feature_range=(0,1))),\n",
    "    ('algo', SVR())\n",
    "])"
   ]
  },
  {
   "cell_type": "code",
   "execution_count": 15,
   "id": "034bba12",
   "metadata": {},
   "outputs": [
    {
     "name": "stdout",
     "output_type": "stream",
     "text": [
      "Fitting 3 folds for each of 72 candidates, totalling 216 fits\n"
     ]
    },
    {
     "data": {
      "text/html": [
       "<style>#sk-container-id-1 {color: black;background-color: white;}#sk-container-id-1 pre{padding: 0;}#sk-container-id-1 div.sk-toggleable {background-color: white;}#sk-container-id-1 label.sk-toggleable__label {cursor: pointer;display: block;width: 100%;margin-bottom: 0;padding: 0.3em;box-sizing: border-box;text-align: center;}#sk-container-id-1 label.sk-toggleable__label-arrow:before {content: \"▸\";float: left;margin-right: 0.25em;color: #696969;}#sk-container-id-1 label.sk-toggleable__label-arrow:hover:before {color: black;}#sk-container-id-1 div.sk-estimator:hover label.sk-toggleable__label-arrow:before {color: black;}#sk-container-id-1 div.sk-toggleable__content {max-height: 0;max-width: 0;overflow: hidden;text-align: left;background-color: #f0f8ff;}#sk-container-id-1 div.sk-toggleable__content pre {margin: 0.2em;color: black;border-radius: 0.25em;background-color: #f0f8ff;}#sk-container-id-1 input.sk-toggleable__control:checked~div.sk-toggleable__content {max-height: 200px;max-width: 100%;overflow: auto;}#sk-container-id-1 input.sk-toggleable__control:checked~label.sk-toggleable__label-arrow:before {content: \"▾\";}#sk-container-id-1 div.sk-estimator input.sk-toggleable__control:checked~label.sk-toggleable__label {background-color: #d4ebff;}#sk-container-id-1 div.sk-label input.sk-toggleable__control:checked~label.sk-toggleable__label {background-color: #d4ebff;}#sk-container-id-1 input.sk-hidden--visually {border: 0;clip: rect(1px 1px 1px 1px);clip: rect(1px, 1px, 1px, 1px);height: 1px;margin: -1px;overflow: hidden;padding: 0;position: absolute;width: 1px;}#sk-container-id-1 div.sk-estimator {font-family: monospace;background-color: #f0f8ff;border: 1px dotted black;border-radius: 0.25em;box-sizing: border-box;margin-bottom: 0.5em;}#sk-container-id-1 div.sk-estimator:hover {background-color: #d4ebff;}#sk-container-id-1 div.sk-parallel-item::after {content: \"\";width: 100%;border-bottom: 1px solid gray;flex-grow: 1;}#sk-container-id-1 div.sk-label:hover label.sk-toggleable__label {background-color: #d4ebff;}#sk-container-id-1 div.sk-serial::before {content: \"\";position: absolute;border-left: 1px solid gray;box-sizing: border-box;top: 0;bottom: 0;left: 50%;z-index: 0;}#sk-container-id-1 div.sk-serial {display: flex;flex-direction: column;align-items: center;background-color: white;padding-right: 0.2em;padding-left: 0.2em;position: relative;}#sk-container-id-1 div.sk-item {position: relative;z-index: 1;}#sk-container-id-1 div.sk-parallel {display: flex;align-items: stretch;justify-content: center;background-color: white;position: relative;}#sk-container-id-1 div.sk-item::before, #sk-container-id-1 div.sk-parallel-item::before {content: \"\";position: absolute;border-left: 1px solid gray;box-sizing: border-box;top: 0;bottom: 0;left: 50%;z-index: -1;}#sk-container-id-1 div.sk-parallel-item {display: flex;flex-direction: column;z-index: 1;position: relative;background-color: white;}#sk-container-id-1 div.sk-parallel-item:first-child::after {align-self: flex-end;width: 50%;}#sk-container-id-1 div.sk-parallel-item:last-child::after {align-self: flex-start;width: 50%;}#sk-container-id-1 div.sk-parallel-item:only-child::after {width: 0;}#sk-container-id-1 div.sk-dashed-wrapped {border: 1px dashed gray;margin: 0 0.4em 0.5em 0.4em;box-sizing: border-box;padding-bottom: 0.4em;background-color: white;}#sk-container-id-1 div.sk-label label {font-family: monospace;font-weight: bold;display: inline-block;line-height: 1.2em;}#sk-container-id-1 div.sk-label-container {text-align: center;}#sk-container-id-1 div.sk-container {/* jupyter's `normalize.less` sets `[hidden] { display: none; }` but bootstrap.min.css set `[hidden] { display: none !important; }` so we also need the `!important` here to be able to override the default hidden behavior on the sphinx rendered scikit-learn.org. See: https://github.com/scikit-learn/scikit-learn/issues/21755 */display: inline-block !important;position: relative;}#sk-container-id-1 div.sk-text-repr-fallback {display: none;}</style><div id=\"sk-container-id-1\" class=\"sk-top-container\"><div class=\"sk-text-repr-fallback\"><pre>GridSearchCV(cv=3,\n",
       "             estimator=Pipeline(steps=[(&#x27;df_pipeline&#x27;,\n",
       "                                        Pipeline(steps=[(&#x27;GCF&#x27;,\n",
       "                                                         FunctionTransformer(func=&lt;function get_count_facilities at 0x0000022E5016B380&gt;)),\n",
       "                                                        (&#x27;GF&#x27;,\n",
       "                                                         FunctionTransformer(func=&lt;function get_facilities at 0x0000022E5016BE20&gt;)),\n",
       "                                                        (&#x27;BR&#x27;,\n",
       "                                                         FunctionTransformer(func=&lt;function bining_ratings at 0x0000022E50198540&gt;))])),\n",
       "                                       (&#x27;scaler&#x27;, MinMaxScaler()),\n",
       "                                       (&#x27;algo&#x27;, SVR())]),\n",
       "             n_jobs=-1,\n",
       "             param_grid={&#x27;algo__C&#x27;: [0.1, 1, 10, 100],\n",
       "                         &#x27;algo__epsilon&#x27;: [0.1, 0.2, 0.5],\n",
       "                         &#x27;algo__gamma&#x27;: [&#x27;scale&#x27;, &#x27;auto&#x27;],\n",
       "                         &#x27;algo__kernel&#x27;: [&#x27;linear&#x27;, &#x27;rbf&#x27;, &#x27;poly&#x27;]},\n",
       "             scoring=&#x27;neg_mean_squared_error&#x27;, verbose=1)</pre><b>In a Jupyter environment, please rerun this cell to show the HTML representation or trust the notebook. <br />On GitHub, the HTML representation is unable to render, please try loading this page with nbviewer.org.</b></div><div class=\"sk-container\" hidden><div class=\"sk-item sk-dashed-wrapped\"><div class=\"sk-label-container\"><div class=\"sk-label sk-toggleable\"><input class=\"sk-toggleable__control sk-hidden--visually\" id=\"sk-estimator-id-1\" type=\"checkbox\" ><label for=\"sk-estimator-id-1\" class=\"sk-toggleable__label sk-toggleable__label-arrow\">GridSearchCV</label><div class=\"sk-toggleable__content\"><pre>GridSearchCV(cv=3,\n",
       "             estimator=Pipeline(steps=[(&#x27;df_pipeline&#x27;,\n",
       "                                        Pipeline(steps=[(&#x27;GCF&#x27;,\n",
       "                                                         FunctionTransformer(func=&lt;function get_count_facilities at 0x0000022E5016B380&gt;)),\n",
       "                                                        (&#x27;GF&#x27;,\n",
       "                                                         FunctionTransformer(func=&lt;function get_facilities at 0x0000022E5016BE20&gt;)),\n",
       "                                                        (&#x27;BR&#x27;,\n",
       "                                                         FunctionTransformer(func=&lt;function bining_ratings at 0x0000022E50198540&gt;))])),\n",
       "                                       (&#x27;scaler&#x27;, MinMaxScaler()),\n",
       "                                       (&#x27;algo&#x27;, SVR())]),\n",
       "             n_jobs=-1,\n",
       "             param_grid={&#x27;algo__C&#x27;: [0.1, 1, 10, 100],\n",
       "                         &#x27;algo__epsilon&#x27;: [0.1, 0.2, 0.5],\n",
       "                         &#x27;algo__gamma&#x27;: [&#x27;scale&#x27;, &#x27;auto&#x27;],\n",
       "                         &#x27;algo__kernel&#x27;: [&#x27;linear&#x27;, &#x27;rbf&#x27;, &#x27;poly&#x27;]},\n",
       "             scoring=&#x27;neg_mean_squared_error&#x27;, verbose=1)</pre></div></div></div><div class=\"sk-parallel\"><div class=\"sk-parallel-item\"><div class=\"sk-item\"><div class=\"sk-label-container\"><div class=\"sk-label sk-toggleable\"><input class=\"sk-toggleable__control sk-hidden--visually\" id=\"sk-estimator-id-2\" type=\"checkbox\" ><label for=\"sk-estimator-id-2\" class=\"sk-toggleable__label sk-toggleable__label-arrow\">estimator: Pipeline</label><div class=\"sk-toggleable__content\"><pre>Pipeline(steps=[(&#x27;df_pipeline&#x27;,\n",
       "                 Pipeline(steps=[(&#x27;GCF&#x27;,\n",
       "                                  FunctionTransformer(func=&lt;function get_count_facilities at 0x0000022E5016B380&gt;)),\n",
       "                                 (&#x27;GF&#x27;,\n",
       "                                  FunctionTransformer(func=&lt;function get_facilities at 0x0000022E5016BE20&gt;)),\n",
       "                                 (&#x27;BR&#x27;,\n",
       "                                  FunctionTransformer(func=&lt;function bining_ratings at 0x0000022E50198540&gt;))])),\n",
       "                (&#x27;scaler&#x27;, MinMaxScaler()), (&#x27;algo&#x27;, SVR())])</pre></div></div></div><div class=\"sk-serial\"><div class=\"sk-item\"><div class=\"sk-serial\"><div class=\"sk-item\"><div class=\"sk-label-container\"><div class=\"sk-label sk-toggleable\"><input class=\"sk-toggleable__control sk-hidden--visually\" id=\"sk-estimator-id-3\" type=\"checkbox\" ><label for=\"sk-estimator-id-3\" class=\"sk-toggleable__label sk-toggleable__label-arrow\">df_pipeline: Pipeline</label><div class=\"sk-toggleable__content\"><pre>Pipeline(steps=[(&#x27;GCF&#x27;,\n",
       "                 FunctionTransformer(func=&lt;function get_count_facilities at 0x0000022E5016B380&gt;)),\n",
       "                (&#x27;GF&#x27;,\n",
       "                 FunctionTransformer(func=&lt;function get_facilities at 0x0000022E5016BE20&gt;)),\n",
       "                (&#x27;BR&#x27;,\n",
       "                 FunctionTransformer(func=&lt;function bining_ratings at 0x0000022E50198540&gt;))])</pre></div></div></div><div class=\"sk-serial\"><div class=\"sk-item\"><div class=\"sk-estimator sk-toggleable\"><input class=\"sk-toggleable__control sk-hidden--visually\" id=\"sk-estimator-id-4\" type=\"checkbox\" ><label for=\"sk-estimator-id-4\" class=\"sk-toggleable__label sk-toggleable__label-arrow\">FunctionTransformer</label><div class=\"sk-toggleable__content\"><pre>FunctionTransformer(func=&lt;function get_count_facilities at 0x0000022E5016B380&gt;)</pre></div></div></div><div class=\"sk-item\"><div class=\"sk-estimator sk-toggleable\"><input class=\"sk-toggleable__control sk-hidden--visually\" id=\"sk-estimator-id-5\" type=\"checkbox\" ><label for=\"sk-estimator-id-5\" class=\"sk-toggleable__label sk-toggleable__label-arrow\">FunctionTransformer</label><div class=\"sk-toggleable__content\"><pre>FunctionTransformer(func=&lt;function get_facilities at 0x0000022E5016BE20&gt;)</pre></div></div></div><div class=\"sk-item\"><div class=\"sk-estimator sk-toggleable\"><input class=\"sk-toggleable__control sk-hidden--visually\" id=\"sk-estimator-id-6\" type=\"checkbox\" ><label for=\"sk-estimator-id-6\" class=\"sk-toggleable__label sk-toggleable__label-arrow\">FunctionTransformer</label><div class=\"sk-toggleable__content\"><pre>FunctionTransformer(func=&lt;function bining_ratings at 0x0000022E50198540&gt;)</pre></div></div></div></div></div><div class=\"sk-item\"><div class=\"sk-estimator sk-toggleable\"><input class=\"sk-toggleable__control sk-hidden--visually\" id=\"sk-estimator-id-7\" type=\"checkbox\" ><label for=\"sk-estimator-id-7\" class=\"sk-toggleable__label sk-toggleable__label-arrow\">MinMaxScaler</label><div class=\"sk-toggleable__content\"><pre>MinMaxScaler()</pre></div></div></div><div class=\"sk-item\"><div class=\"sk-estimator sk-toggleable\"><input class=\"sk-toggleable__control sk-hidden--visually\" id=\"sk-estimator-id-8\" type=\"checkbox\" ><label for=\"sk-estimator-id-8\" class=\"sk-toggleable__label sk-toggleable__label-arrow\">SVR</label><div class=\"sk-toggleable__content\"><pre>SVR()</pre></div></div></div></div></div></div></div></div></div></div></div></div>"
      ],
      "text/plain": [
       "GridSearchCV(cv=3,\n",
       "             estimator=Pipeline(steps=[('df_pipeline',\n",
       "                                        Pipeline(steps=[('GCF',\n",
       "                                                         FunctionTransformer(func=<function get_count_facilities at 0x0000022E5016B380>)),\n",
       "                                                        ('GF',\n",
       "                                                         FunctionTransformer(func=<function get_facilities at 0x0000022E5016BE20>)),\n",
       "                                                        ('BR',\n",
       "                                                         FunctionTransformer(func=<function bining_ratings at 0x0000022E50198540>))])),\n",
       "                                       ('scaler', MinMaxScaler()),\n",
       "                                       ('algo', SVR())]),\n",
       "             n_jobs=-1,\n",
       "             param_grid={'algo__C': [0.1, 1, 10, 100],\n",
       "                         'algo__epsilon': [0.1, 0.2, 0.5],\n",
       "                         'algo__gamma': ['scale', 'auto'],\n",
       "                         'algo__kernel': ['linear', 'rbf', 'poly']},\n",
       "             scoring='neg_mean_squared_error', verbose=1)"
      ]
     },
     "execution_count": 15,
     "metadata": {},
     "output_type": "execute_result"
    }
   ],
   "source": [
    "from sklearn.model_selection import GridSearchCV\n",
    "\n",
    "# tuning model\n",
    "model = GridSearchCV(pipeline, param_grid=param_grid, cv=3, scoring='neg_mean_squared_error', n_jobs=-1, verbose=1)\n",
    "model.fit(X_train, y_train)\n"
   ]
  },
  {
   "cell_type": "markdown",
   "id": "765d15e8",
   "metadata": {},
   "source": [
    "# Evaluasi Model"
   ]
  },
  {
   "cell_type": "code",
   "execution_count": 16,
   "id": "bab06259",
   "metadata": {},
   "outputs": [
    {
     "name": "stdout",
     "output_type": "stream",
     "text": [
      "best param : {'algo__C': 100, 'algo__epsilon': 0.5, 'algo__gamma': 'scale', 'algo__kernel': 'poly'}\n",
      "Validation : -23676554528.32372\n",
      "Testing : -20448543165.536846\n"
     ]
    }
   ],
   "source": [
    "# evaluate data\n",
    "print(f'best param : {model.best_params_}')\n",
    "print(f'Validation : {model.score(X_train, y_train)}')\n",
    "print(f'Testing : {model.score(X_test, y_test)}')"
   ]
  },
  {
   "cell_type": "code",
   "execution_count": 17,
   "id": "c5e090b3",
   "metadata": {},
   "outputs": [
    {
     "data": {
      "image/png": "[encoded data removed]",
      "text/plain": [
       "<Figure size 640x480 with 1 Axes>"
      ]
     },
     "metadata": {},
     "output_type": "display_data"
    }
   ],
   "source": [
    "# visualisation model prediction & actual data.\n",
    "import matplotlib.pyplot as plt\n",
    "import seaborn as sns\n",
    "\n",
    "# make prediction\n",
    "y_pred = model.predict(X_test)\n",
    "\n",
    "sns.lineplot(x=range(1,len(X_test)+1), y=y_test, label='Data Actual')\n",
    "sns.lineplot(x=range(1,len(X_test)+1), y=y_pred, label='Prediction')\n",
    "plt.legend()\n",
    "plt.show()"
   ]
  },
  {
   "cell_type": "markdown",
   "id": "47e728fc",
   "metadata": {},
   "source": [
    "# Improvement Model"
   ]
  },
  {
   "cell_type": "markdown",
   "id": "e3ecd3d3",
   "metadata": {},
   "source": [
    "#### Improve the model by trying different feature range tuning in each colum"
   ]
  },
  {
   "cell_type": "markdown",
   "id": "b10a9678",
   "metadata": {},
   "source": [
    "#### Improvement model dengan mencoba tuning feature range berbeda di setiap kolomnya"
   ]
  },
  {
   "cell_type": "code",
   "execution_count": 18,
   "id": "ce1119e0",
   "metadata": {},
   "outputs": [
    {
     "data": {
      "text/plain": [
       "Index(['Ratings', 'Jumlah Fasilitas', 'Wifi', 'Kasur', 'Akses 24 Jam',\n",
       "       'K. Mandi Dalam', 'Kloset Duduk', 'AC'],\n",
       "      dtype='object')"
      ]
     },
     "execution_count": 18,
     "metadata": {},
     "output_type": "execute_result"
    }
   ],
   "source": [
    "# check n cols after df transformation\n",
    "df_pipeline.transform(X_train).columns"
   ]
  },
  {
   "cell_type": "code",
   "execution_count": 19,
   "id": "dad0809a",
   "metadata": {},
   "outputs": [],
   "source": [
    "from sklearn.compose import ColumnTransformer\n",
    "from sklearn.model_selection import RandomizedSearchCV\n",
    "\n",
    "# make column transformer for scaler\n",
    "scaler_each_colum = ColumnTransformer([\n",
    "    ('scl_ratings', MinMaxScaler(), ['Ratings']),\n",
    "    ('scl_cf', MinMaxScaler(), ['Jumlah Fasilitas']),\n",
    "    ('scl_f', MinMaxScaler(), ['Wifi', 'Kasur', 'Akses 24 Jam', \n",
    "                               'K. Mandi Dalam', 'Kloset Duduk', 'AC'])\n",
    "])\n",
    "\n",
    "# pipeline model\n",
    "pipeline2 = Pipeline([\n",
    "    ('df_pipeline', df_pipeline),\n",
    "    ('scaler', scaler_each_colum),\n",
    "    ('algo', SVR())\n",
    "])"
   ]
  },
  {
   "cell_type": "code",
   "execution_count": 20,
   "id": "52e870a5",
   "metadata": {},
   "outputs": [
    {
     "name": "stdout",
     "output_type": "stream",
     "text": [
      "Fitting 5 folds for each of 50 candidates, totalling 250 fits\n"
     ]
    },
    {
     "data": {
      "text/html": [
       "<style>#sk-container-id-2 {color: black;background-color: white;}#sk-container-id-2 pre{padding: 0;}#sk-container-id-2 div.sk-toggleable {background-color: white;}#sk-container-id-2 label.sk-toggleable__label {cursor: pointer;display: block;width: 100%;margin-bottom: 0;padding: 0.3em;box-sizing: border-box;text-align: center;}#sk-container-id-2 label.sk-toggleable__label-arrow:before {content: \"▸\";float: left;margin-right: 0.25em;color: #696969;}#sk-container-id-2 label.sk-toggleable__label-arrow:hover:before {color: black;}#sk-container-id-2 div.sk-estimator:hover label.sk-toggleable__label-arrow:before {color: black;}#sk-container-id-2 div.sk-toggleable__content {max-height: 0;max-width: 0;overflow: hidden;text-align: left;background-color: #f0f8ff;}#sk-container-id-2 div.sk-toggleable__content pre {margin: 0.2em;color: black;border-radius: 0.25em;background-color: #f0f8ff;}#sk-container-id-2 input.sk-toggleable__control:checked~div.sk-toggleable__content {max-height: 200px;max-width: 100%;overflow: auto;}#sk-container-id-2 input.sk-toggleable__control:checked~label.sk-toggleable__label-arrow:before {content: \"▾\";}#sk-container-id-2 div.sk-estimator input.sk-toggleable__control:checked~label.sk-toggleable__label {background-color: #d4ebff;}#sk-container-id-2 div.sk-label input.sk-toggleable__control:checked~label.sk-toggleable__label {background-color: #d4ebff;}#sk-container-id-2 input.sk-hidden--visually {border: 0;clip: rect(1px 1px 1px 1px);clip: rect(1px, 1px, 1px, 1px);height: 1px;margin: -1px;overflow: hidden;padding: 0;position: absolute;width: 1px;}#sk-container-id-2 div.sk-estimator {font-family: monospace;background-color: #f0f8ff;border: 1px dotted black;border-radius: 0.25em;box-sizing: border-box;margin-bottom: 0.5em;}#sk-container-id-2 div.sk-estimator:hover {background-color: #d4ebff;}#sk-container-id-2 div.sk-parallel-item::after {content: \"\";width: 100%;border-bottom: 1px solid gray;flex-grow: 1;}#sk-container-id-2 div.sk-label:hover label.sk-toggleable__label {background-color: #d4ebff;}#sk-container-id-2 div.sk-serial::before {content: \"\";position: absolute;border-left: 1px solid gray;box-sizing: border-box;top: 0;bottom: 0;left: 50%;z-index: 0;}#sk-container-id-2 div.sk-serial {display: flex;flex-direction: column;align-items: center;background-color: white;padding-right: 0.2em;padding-left: 0.2em;position: relative;}#sk-container-id-2 div.sk-item {position: relative;z-index: 1;}#sk-container-id-2 div.sk-parallel {display: flex;align-items: stretch;justify-content: center;background-color: white;position: relative;}#sk-container-id-2 div.sk-item::before, #sk-container-id-2 div.sk-parallel-item::before {content: \"\";position: absolute;border-left: 1px solid gray;box-sizing: border-box;top: 0;bottom: 0;left: 50%;z-index: -1;}#sk-container-id-2 div.sk-parallel-item {display: flex;flex-direction: column;z-index: 1;position: relative;background-color: white;}#sk-container-id-2 div.sk-parallel-item:first-child::after {align-self: flex-end;width: 50%;}#sk-container-id-2 div.sk-parallel-item:last-child::after {align-self: flex-start;width: 50%;}#sk-container-id-2 div.sk-parallel-item:only-child::after {width: 0;}#sk-container-id-2 div.sk-dashed-wrapped {border: 1px dashed gray;margin: 0 0.4em 0.5em 0.4em;box-sizing: border-box;padding-bottom: 0.4em;background-color: white;}#sk-container-id-2 div.sk-label label {font-family: monospace;font-weight: bold;display: inline-block;line-height: 1.2em;}#sk-container-id-2 div.sk-label-container {text-align: center;}#sk-container-id-2 div.sk-container {/* jupyter's `normalize.less` sets `[hidden] { display: none; }` but bootstrap.min.css set `[hidden] { display: none !important; }` so we also need the `!important` here to be able to override the default hidden behavior on the sphinx rendered scikit-learn.org. See: https://github.com/scikit-learn/scikit-learn/issues/21755 */display: inline-block !important;position: relative;}#sk-container-id-2 div.sk-text-repr-fallback {display: none;}</style><div id=\"sk-container-id-2\" class=\"sk-top-container\"><div class=\"sk-text-repr-fallback\"><pre>RandomizedSearchCV(estimator=Pipeline(steps=[(&#x27;df_pipeline&#x27;,\n",
       "                                              Pipeline(steps=[(&#x27;GCF&#x27;,\n",
       "                                                               FunctionTransformer(func=&lt;function get_count_facilities at 0x0000022E5016B380&gt;)),\n",
       "                                                              (&#x27;GF&#x27;,\n",
       "                                                               FunctionTransformer(func=&lt;function get_facilities at 0x0000022E5016BE20&gt;)),\n",
       "                                                              (&#x27;BR&#x27;,\n",
       "                                                               FunctionTransformer(func=&lt;function bining_ratings at 0x0000022E50198540&gt;))])),\n",
       "                                             (&#x27;scaler&#x27;,\n",
       "                                              ColumnTransformer(tr...\n",
       "                   param_distributions={&#x27;algo__C&#x27;: [0.1, 1, 10, 100],\n",
       "                                        &#x27;algo__epsilon&#x27;: [0.1, 0.2, 0.5],\n",
       "                                        &#x27;algo__gamma&#x27;: [&#x27;scale&#x27;, &#x27;auto&#x27;],\n",
       "                                        &#x27;algo__kernel&#x27;: [&#x27;linear&#x27;, &#x27;rbf&#x27;,\n",
       "                                                         &#x27;poly&#x27;],\n",
       "                                        &#x27;scaler__scl_cf__feature_range&#x27;: [(0,\n",
       "                                                                           1),\n",
       "                                                                          (0,\n",
       "                                                                           2),\n",
       "                                                                          (0,\n",
       "                                                                           3),\n",
       "                                                                          (0,\n",
       "                                                                           5)],\n",
       "                                        &#x27;scaler__scl_f__feature_range&#x27;: [(0, 1),\n",
       "                                                                         (0, 2),\n",
       "                                                                         (0, 3),\n",
       "                                                                         (0,\n",
       "                                                                          5)],\n",
       "                                        &#x27;scaler__scl_ratings__feature_range&#x27;: [(0,\n",
       "                                                                                1),\n",
       "                                                                               (0,\n",
       "                                                                                2),\n",
       "                                                                               (0,\n",
       "                                                                                3),\n",
       "                                                                               (0,\n",
       "                                                                                5)]},\n",
       "                   scoring=&#x27;neg_mean_squared_error&#x27;, verbose=1)</pre><b>In a Jupyter environment, please rerun this cell to show the HTML representation or trust the notebook. <br />On GitHub, the HTML representation is unable to render, please try loading this page with nbviewer.org.</b></div><div class=\"sk-container\" hidden><div class=\"sk-item sk-dashed-wrapped\"><div class=\"sk-label-container\"><div class=\"sk-label sk-toggleable\"><input class=\"sk-toggleable__control sk-hidden--visually\" id=\"sk-estimator-id-9\" type=\"checkbox\" ><label for=\"sk-estimator-id-9\" class=\"sk-toggleable__label sk-toggleable__label-arrow\">RandomizedSearchCV</label><div class=\"sk-toggleable__content\"><pre>RandomizedSearchCV(estimator=Pipeline(steps=[(&#x27;df_pipeline&#x27;,\n",
       "                                              Pipeline(steps=[(&#x27;GCF&#x27;,\n",
       "                                                               FunctionTransformer(func=&lt;function get_count_facilities at 0x0000022E5016B380&gt;)),\n",
       "                                                              (&#x27;GF&#x27;,\n",
       "                                                               FunctionTransformer(func=&lt;function get_facilities at 0x0000022E5016BE20&gt;)),\n",
       "                                                              (&#x27;BR&#x27;,\n",
       "                                                               FunctionTransformer(func=&lt;function bining_ratings at 0x0000022E50198540&gt;))])),\n",
       "                                             (&#x27;scaler&#x27;,\n",
       "                                              ColumnTransformer(tr...\n",
       "                   param_distributions={&#x27;algo__C&#x27;: [0.1, 1, 10, 100],\n",
       "                                        &#x27;algo__epsilon&#x27;: [0.1, 0.2, 0.5],\n",
       "                                        &#x27;algo__gamma&#x27;: [&#x27;scale&#x27;, &#x27;auto&#x27;],\n",
       "                                        &#x27;algo__kernel&#x27;: [&#x27;linear&#x27;, &#x27;rbf&#x27;,\n",
       "                                                         &#x27;poly&#x27;],\n",
       "                                        &#x27;scaler__scl_cf__feature_range&#x27;: [(0,\n",
       "                                                                           1),\n",
       "                                                                          (0,\n",
       "                                                                           2),\n",
       "                                                                          (0,\n",
       "                                                                           3),\n",
       "                                                                          (0,\n",
       "                                                                           5)],\n",
       "                                        &#x27;scaler__scl_f__feature_range&#x27;: [(0, 1),\n",
       "                                                                         (0, 2),\n",
       "                                                                         (0, 3),\n",
       "                                                                         (0,\n",
       "                                                                          5)],\n",
       "                                        &#x27;scaler__scl_ratings__feature_range&#x27;: [(0,\n",
       "                                                                                1),\n",
       "                                                                               (0,\n",
       "                                                                                2),\n",
       "                                                                               (0,\n",
       "                                                                                3),\n",
       "                                                                               (0,\n",
       "                                                                                5)]},\n",
       "                   scoring=&#x27;neg_mean_squared_error&#x27;, verbose=1)</pre></div></div></div><div class=\"sk-parallel\"><div class=\"sk-parallel-item\"><div class=\"sk-item\"><div class=\"sk-label-container\"><div class=\"sk-label sk-toggleable\"><input class=\"sk-toggleable__control sk-hidden--visually\" id=\"sk-estimator-id-10\" type=\"checkbox\" ><label for=\"sk-estimator-id-10\" class=\"sk-toggleable__label sk-toggleable__label-arrow\">estimator: Pipeline</label><div class=\"sk-toggleable__content\"><pre>Pipeline(steps=[(&#x27;df_pipeline&#x27;,\n",
       "                 Pipeline(steps=[(&#x27;GCF&#x27;,\n",
       "                                  FunctionTransformer(func=&lt;function get_count_facilities at 0x0000022E5016B380&gt;)),\n",
       "                                 (&#x27;GF&#x27;,\n",
       "                                  FunctionTransformer(func=&lt;function get_facilities at 0x0000022E5016BE20&gt;)),\n",
       "                                 (&#x27;BR&#x27;,\n",
       "                                  FunctionTransformer(func=&lt;function bining_ratings at 0x0000022E50198540&gt;))])),\n",
       "                (&#x27;scaler&#x27;,\n",
       "                 ColumnTransformer(transformers=[(&#x27;scl_ratings&#x27;, MinMaxScaler(),\n",
       "                                                  [&#x27;Ratings&#x27;]),\n",
       "                                                 (&#x27;scl_cf&#x27;, MinMaxScaler(),\n",
       "                                                  [&#x27;Jumlah Fasilitas&#x27;]),\n",
       "                                                 (&#x27;scl_f&#x27;, MinMaxScaler(),\n",
       "                                                  [&#x27;Wifi&#x27;, &#x27;Kasur&#x27;,\n",
       "                                                   &#x27;Akses 24 Jam&#x27;,\n",
       "                                                   &#x27;K. Mandi Dalam&#x27;,\n",
       "                                                   &#x27;Kloset Duduk&#x27;, &#x27;AC&#x27;])])),\n",
       "                (&#x27;algo&#x27;, SVR())])</pre></div></div></div><div class=\"sk-serial\"><div class=\"sk-item\"><div class=\"sk-serial\"><div class=\"sk-item\"><div class=\"sk-label-container\"><div class=\"sk-label sk-toggleable\"><input class=\"sk-toggleable__control sk-hidden--visually\" id=\"sk-estimator-id-11\" type=\"checkbox\" ><label for=\"sk-estimator-id-11\" class=\"sk-toggleable__label sk-toggleable__label-arrow\">df_pipeline: Pipeline</label><div class=\"sk-toggleable__content\"><pre>Pipeline(steps=[(&#x27;GCF&#x27;,\n",
       "                 FunctionTransformer(func=&lt;function get_count_facilities at 0x0000022E5016B380&gt;)),\n",
       "                (&#x27;GF&#x27;,\n",
       "                 FunctionTransformer(func=&lt;function get_facilities at 0x0000022E5016BE20&gt;)),\n",
       "                (&#x27;BR&#x27;,\n",
       "                 FunctionTransformer(func=&lt;function bining_ratings at 0x0000022E50198540&gt;))])</pre></div></div></div><div class=\"sk-serial\"><div class=\"sk-item\"><div class=\"sk-estimator sk-toggleable\"><input class=\"sk-toggleable__control sk-hidden--visually\" id=\"sk-estimator-id-12\" type=\"checkbox\" ><label for=\"sk-estimator-id-12\" class=\"sk-toggleable__label sk-toggleable__label-arrow\">FunctionTransformer</label><div class=\"sk-toggleable__content\"><pre>FunctionTransformer(func=&lt;function get_count_facilities at 0x0000022E5016B380&gt;)</pre></div></div></div><div class=\"sk-item\"><div class=\"sk-estimator sk-toggleable\"><input class=\"sk-toggleable__control sk-hidden--visually\" id=\"sk-estimator-id-13\" type=\"checkbox\" ><label for=\"sk-estimator-id-13\" class=\"sk-toggleable__label sk-toggleable__label-arrow\">FunctionTransformer</label><div class=\"sk-toggleable__content\"><pre>FunctionTransformer(func=&lt;function get_facilities at 0x0000022E5016BE20&gt;)</pre></div></div></div><div class=\"sk-item\"><div class=\"sk-estimator sk-toggleable\"><input class=\"sk-toggleable__control sk-hidden--visually\" id=\"sk-estimator-id-14\" type=\"checkbox\" ><label for=\"sk-estimator-id-14\" class=\"sk-toggleable__label sk-toggleable__label-arrow\">FunctionTransformer</label><div class=\"sk-toggleable__content\"><pre>FunctionTransformer(func=&lt;function bining_ratings at 0x0000022E50198540&gt;)</pre></div></div></div></div></div><div class=\"sk-item sk-dashed-wrapped\"><div class=\"sk-label-container\"><div class=\"sk-label sk-toggleable\"><input class=\"sk-toggleable__control sk-hidden--visually\" id=\"sk-estimator-id-15\" type=\"checkbox\" ><label for=\"sk-estimator-id-15\" class=\"sk-toggleable__label sk-toggleable__label-arrow\">scaler: ColumnTransformer</label><div class=\"sk-toggleable__content\"><pre>ColumnTransformer(transformers=[(&#x27;scl_ratings&#x27;, MinMaxScaler(), [&#x27;Ratings&#x27;]),\n",
       "                                (&#x27;scl_cf&#x27;, MinMaxScaler(),\n",
       "                                 [&#x27;Jumlah Fasilitas&#x27;]),\n",
       "                                (&#x27;scl_f&#x27;, MinMaxScaler(),\n",
       "                                 [&#x27;Wifi&#x27;, &#x27;Kasur&#x27;, &#x27;Akses 24 Jam&#x27;,\n",
       "                                  &#x27;K. Mandi Dalam&#x27;, &#x27;Kloset Duduk&#x27;, &#x27;AC&#x27;])])</pre></div></div></div><div class=\"sk-parallel\"><div class=\"sk-parallel-item\"><div class=\"sk-item\"><div class=\"sk-label-container\"><div class=\"sk-label sk-toggleable\"><input class=\"sk-toggleable__control sk-hidden--visually\" id=\"sk-estimator-id-16\" type=\"checkbox\" ><label for=\"sk-estimator-id-16\" class=\"sk-toggleable__label sk-toggleable__label-arrow\">scl_ratings</label><div class=\"sk-toggleable__content\"><pre>[&#x27;Ratings&#x27;]</pre></div></div></div><div class=\"sk-serial\"><div class=\"sk-item\"><div class=\"sk-estimator sk-toggleable\"><input class=\"sk-toggleable__control sk-hidden--visually\" id=\"sk-estimator-id-17\" type=\"checkbox\" ><label for=\"sk-estimator-id-17\" class=\"sk-toggleable__label sk-toggleable__label-arrow\">MinMaxScaler</label><div class=\"sk-toggleable__content\"><pre>MinMaxScaler()</pre></div></div></div></div></div></div><div class=\"sk-parallel-item\"><div class=\"sk-item\"><div class=\"sk-label-container\"><div class=\"sk-label sk-toggleable\"><input class=\"sk-toggleable__control sk-hidden--visually\" id=\"sk-estimator-id-18\" type=\"checkbox\" ><label for=\"sk-estimator-id-18\" class=\"sk-toggleable__label sk-toggleable__label-arrow\">scl_cf</label><div class=\"sk-toggleable__content\"><pre>[&#x27;Jumlah Fasilitas&#x27;]</pre></div></div></div><div class=\"sk-serial\"><div class=\"sk-item\"><div class=\"sk-estimator sk-toggleable\"><input class=\"sk-toggleable__control sk-hidden--visually\" id=\"sk-estimator-id-19\" type=\"checkbox\" ><label for=\"sk-estimator-id-19\" class=\"sk-toggleable__label sk-toggleable__label-arrow\">MinMaxScaler</label><div class=\"sk-toggleable__content\"><pre>MinMaxScaler()</pre></div></div></div></div></div></div><div class=\"sk-parallel-item\"><div class=\"sk-item\"><div class=\"sk-label-container\"><div class=\"sk-label sk-toggleable\"><input class=\"sk-toggleable__control sk-hidden--visually\" id=\"sk-estimator-id-20\" type=\"checkbox\" ><label for=\"sk-estimator-id-20\" class=\"sk-toggleable__label sk-toggleable__label-arrow\">scl_f</label><div class=\"sk-toggleable__content\"><pre>[&#x27;Wifi&#x27;, &#x27;Kasur&#x27;, &#x27;Akses 24 Jam&#x27;, &#x27;K. Mandi Dalam&#x27;, &#x27;Kloset Duduk&#x27;, &#x27;AC&#x27;]</pre></div></div></div><div class=\"sk-serial\"><div class=\"sk-item\"><div class=\"sk-estimator sk-toggleable\"><input class=\"sk-toggleable__control sk-hidden--visually\" id=\"sk-estimator-id-21\" type=\"checkbox\" ><label for=\"sk-estimator-id-21\" class=\"sk-toggleable__label sk-toggleable__label-arrow\">MinMaxScaler</label><div class=\"sk-toggleable__content\"><pre>MinMaxScaler()</pre></div></div></div></div></div></div></div></div><div class=\"sk-item\"><div class=\"sk-estimator sk-toggleable\"><input class=\"sk-toggleable__control sk-hidden--visually\" id=\"sk-estimator-id-22\" type=\"checkbox\" ><label for=\"sk-estimator-id-22\" class=\"sk-toggleable__label sk-toggleable__label-arrow\">SVR</label><div class=\"sk-toggleable__content\"><pre>SVR()</pre></div></div></div></div></div></div></div></div></div></div></div></div>"
      ],
      "text/plain": [
       "RandomizedSearchCV(estimator=Pipeline(steps=[('df_pipeline',\n",
       "                                              Pipeline(steps=[('GCF',\n",
       "                                                               FunctionTransformer(func=<function get_count_facilities at 0x0000022E5016B380>)),\n",
       "                                                              ('GF',\n",
       "                                                               FunctionTransformer(func=<function get_facilities at 0x0000022E5016BE20>)),\n",
       "                                                              ('BR',\n",
       "                                                               FunctionTransformer(func=<function bining_ratings at 0x0000022E50198540>))])),\n",
       "                                             ('scaler',\n",
       "                                              ColumnTransformer(tr...\n",
       "                   param_distributions={'algo__C': [0.1, 1, 10, 100],\n",
       "                                        'algo__epsilon': [0.1, 0.2, 0.5],\n",
       "                                        'algo__gamma': ['scale', 'auto'],\n",
       "                                        'algo__kernel': ['linear', 'rbf',\n",
       "                                                         'poly'],\n",
       "                                        'scaler__scl_cf__feature_range': [(0,\n",
       "                                                                           1),\n",
       "                                                                          (0,\n",
       "                                                                           2),\n",
       "                                                                          (0,\n",
       "                                                                           3),\n",
       "                                                                          (0,\n",
       "                                                                           5)],\n",
       "                                        'scaler__scl_f__feature_range': [(0, 1),\n",
       "                                                                         (0, 2),\n",
       "                                                                         (0, 3),\n",
       "                                                                         (0,\n",
       "                                                                          5)],\n",
       "                                        'scaler__scl_ratings__feature_range': [(0,\n",
       "                                                                                1),\n",
       "                                                                               (0,\n",
       "                                                                                2),\n",
       "                                                                               (0,\n",
       "                                                                                3),\n",
       "                                                                               (0,\n",
       "                                                                                5)]},\n",
       "                   scoring='neg_mean_squared_error', verbose=1)"
      ]
     },
     "execution_count": 20,
     "metadata": {},
     "output_type": "execute_result"
    }
   ],
   "source": [
    "# params\n",
    "params = {\n",
    "    'scaler__scl_ratings__feature_range' : [(0,1),(0,2),(0,3),(0,5)],\n",
    "    'scaler__scl_cf__feature_range' : [(0,1),(0,2),(0,3),(0,5)],\n",
    "    'scaler__scl_f__feature_range' : [(0,1),(0,2),(0,3),(0,5)], \n",
    "    'algo__kernel': ['linear', 'rbf', 'poly'],\n",
    "    'algo__C': [0.1, 1, 10, 100],\n",
    "    'algo__gamma': ['scale', 'auto'],\n",
    "    'algo__epsilon': [0.1, 0.2, 0.5]\n",
    "}\n",
    "\n",
    "from sklearn.model_selection import RandomizedSearchCV\n",
    "model2 = RandomizedSearchCV(pipeline2, param_distributions=params, scoring='neg_mean_squared_error', n_iter=50, n_jobs=-1, verbose=1)\n",
    "model2.fit(X_train, y_train)"
   ]
  },
  {
   "cell_type": "code",
   "execution_count": 21,
   "id": "d0ac1f76",
   "metadata": {},
   "outputs": [
    {
     "data": {
      "text/plain": [
       "{'scaler__scl_ratings__feature_range': (0, 5),\n",
       " 'scaler__scl_f__feature_range': (0, 3),\n",
       " 'scaler__scl_cf__feature_range': (0, 5),\n",
       " 'algo__kernel': 'poly',\n",
       " 'algo__gamma': 'auto',\n",
       " 'algo__epsilon': 0.2,\n",
       " 'algo__C': 100}"
      ]
     },
     "execution_count": 21,
     "metadata": {},
     "output_type": "execute_result"
    }
   ],
   "source": [
    "model2.best_params_"
   ]
  },
  {
   "cell_type": "markdown",
   "id": "7195fd19",
   "metadata": {},
   "source": [
    "# Evaluasi Model part 2"
   ]
  },
  {
   "cell_type": "code",
   "execution_count": 22,
   "id": "6d348812",
   "metadata": {},
   "outputs": [
    {
     "name": "stdout",
     "output_type": "stream",
     "text": [
      "best param : {'scaler__scl_ratings__feature_range': (0, 5), 'scaler__scl_f__feature_range': (0, 3), 'scaler__scl_cf__feature_range': (0, 5), 'algo__kernel': 'poly', 'algo__gamma': 'auto', 'algo__epsilon': 0.2, 'algo__C': 100}\n",
      "Validation : -17761472181.282917\n",
      "Testing : -18657642550.69443\n"
     ]
    }
   ],
   "source": [
    "# evaluate data\n",
    "print(f'best param : {model2.best_params_}')\n",
    "print(f'Validation : {model2.score(X_train, y_train)}')\n",
    "print(f'Testing : {model2.score(X_test, y_test)}')"
   ]
  },
  {
   "cell_type": "code",
   "execution_count": 23,
   "id": "f654dcb2",
   "metadata": {},
   "outputs": [
    {
     "data": {
      "image/png": "[encoded data removed]",
      "text/plain": [
       "<Figure size 640x480 with 1 Axes>"
      ]
     },
     "metadata": {},
     "output_type": "display_data"
    }
   ],
   "source": [
    "# visualisation model prediction & actual data.\n",
    "import matplotlib.pyplot as plt\n",
    "import seaborn as sns\n",
    "\n",
    "# make prediction\n",
    "y_pred = model2.predict(X_test)\n",
    "\n",
    "sns.lineplot(x=range(1,len(X_test)+1), y=y_test, label='Data Actual')\n",
    "sns.lineplot(x=range(1,len(X_test)+1), y=y_pred, label='Model')\n",
    "plt.legend()\n",
    "plt.show()"
   ]
  },
  {
   "cell_type": "markdown",
   "id": "77c9667b",
   "metadata": {},
   "source": [
    "# Improvement Model part 2"
   ]
  },
  {
   "cell_type": "markdown",
   "id": "40d691a8",
   "metadata": {},
   "source": [
    "#### Change the bolean value in each facility column, based on the order of the average cost price for the facility and the results are added (SUM) and divided by the number of facilities (Facility Sum) to make a new column (Value)."
   ]
  },
  {
   "cell_type": "markdown",
   "id": "2265a4d1",
   "metadata": {},
   "source": [
    "#### Mengubah nilai bolean pada setiap kolom fasilitas, berdasarkat urutan harga rata rata kos berdasarkar fasilitas tersebut dan hasilnya ditambahkan (SUM) dan di bagi banyak fasilitas (Jumlah Fasilitas) untuk dijadikan kolom baru (Value)."
   ]
  },
  {
   "cell_type": "code",
   "execution_count": 24,
   "id": "67b30fac",
   "metadata": {},
   "outputs": [],
   "source": [
    "# function to handle the task above\n",
    "def get_value_facilities(DATA):\n",
    "    \n",
    "    # unique values\n",
    "    unique_facility = ['WiFi', 'Kasur', 'Akses 24 Jam', 'K. Mandi Dalam', 'Kloset Duduk', 'AC']\n",
    "    \n",
    "    # list for value_facilities\n",
    "    value_of_facilities = []\n",
    "\n",
    "    D = DATA.copy(deep=True) # copy dataframe\n",
    "    \n",
    "    # looping for index in colum of dataframe\n",
    "    for d in D['Fasilitas']:\n",
    "        L = d.split(', ') # split value\n",
    "        \n",
    "        value = 0 # value each data\n",
    "        \n",
    "        # filter and get value \n",
    "        for uf,v in zip(unique_facility, [3,2,1,5,4,6]):\n",
    "            if uf in L:\n",
    "                value += v\n",
    "            else:\n",
    "                continue\n",
    "                \n",
    "        value_of_facilities.append(value)\n",
    "        \n",
    "    \n",
    "    D.drop('Fasilitas', axis=1, inplace=True) # drop original colum\n",
    "    \n",
    "    new_df = pd.DataFrame({\n",
    "        'Jumlah Value' : value_of_facilities\n",
    "    }, index=D.index)\n",
    "    D = pd.concat([D, new_df], axis=1)\n",
    "    D['Value'] = D['Jumlah Value'] / D['Jumlah Fasilitas']\n",
    "    return D.drop('Jumlah Value', axis=1)"
   ]
  },
  {
   "cell_type": "code",
   "execution_count": 25,
   "id": "dace90f0",
   "metadata": {},
   "outputs": [],
   "source": [
    "# pipeline model\n",
    "df_pipeline3 = Pipeline([\n",
    "    ('GCF',FunctionTransformer(get_count_facilities)),\n",
    "    ('GF',FunctionTransformer(get_value_facilities)),\n",
    "    ('BR',FunctionTransformer(bining_ratings))\n",
    "])\n",
    "\n",
    "scaler_each_colum3 = ColumnTransformer([\n",
    "    ('scl_ratings', MinMaxScaler(), ['Ratings']),\n",
    "    ('scl_cf', MinMaxScaler(), ['Jumlah Fasilitas']),\n",
    "    ('scl_vf', MinMaxScaler(), ['Value'])\n",
    "])\n",
    "\n",
    "pipeline3 = Pipeline([\n",
    "    ('df_pipeline', df_pipeline3),\n",
    "    ('scaler', scaler_each_colum3),\n",
    "    ('algo', SVR())\n",
    "])"
   ]
  },
  {
   "cell_type": "code",
   "execution_count": 26,
   "id": "b61424cd",
   "metadata": {},
   "outputs": [
    {
     "data": {
      "text/html": [
       "<div>\n",
       "<style scoped>\n",
       "    .dataframe tbody tr th:only-of-type {\n",
       "        vertical-align: middle;\n",
       "    }\n",
       "\n",
       "    .dataframe tbody tr th {\n",
       "        vertical-align: top;\n",
       "    }\n",
       "\n",
       "    .dataframe thead th {\n",
       "        text-align: right;\n",
       "    }\n",
       "</style>\n",
       "<table border=\"1\" class=\"dataframe\">\n",
       "  <thead>\n",
       "    <tr style=\"text-align: right;\">\n",
       "      <th></th>\n",
       "      <th>Ratings</th>\n",
       "      <th>Jumlah Fasilitas</th>\n",
       "      <th>Value</th>\n",
       "    </tr>\n",
       "  </thead>\n",
       "  <tbody>\n",
       "    <tr>\n",
       "      <th>95</th>\n",
       "      <td>1.0</td>\n",
       "      <td>3.0</td>\n",
       "      <td>2.0</td>\n",
       "    </tr>\n",
       "    <tr>\n",
       "      <th>126</th>\n",
       "      <td>1.0</td>\n",
       "      <td>3.0</td>\n",
       "      <td>2.0</td>\n",
       "    </tr>\n",
       "    <tr>\n",
       "      <th>120</th>\n",
       "      <td>1.0</td>\n",
       "      <td>3.0</td>\n",
       "      <td>2.0</td>\n",
       "    </tr>\n",
       "    <tr>\n",
       "      <th>67</th>\n",
       "      <td>1.0</td>\n",
       "      <td>2.0</td>\n",
       "      <td>2.0</td>\n",
       "    </tr>\n",
       "    <tr>\n",
       "      <th>101</th>\n",
       "      <td>1.0</td>\n",
       "      <td>2.0</td>\n",
       "      <td>1.5</td>\n",
       "    </tr>\n",
       "  </tbody>\n",
       "</table>\n",
       "</div>"
      ],
      "text/plain": [
       "     Ratings  Jumlah Fasilitas  Value\n",
       "95       1.0               3.0    2.0\n",
       "126      1.0               3.0    2.0\n",
       "120      1.0               3.0    2.0\n",
       "67       1.0               2.0    2.0\n",
       "101      1.0               2.0    1.5"
      ]
     },
     "execution_count": 26,
     "metadata": {},
     "output_type": "execute_result"
    }
   ],
   "source": [
    "df_pipeline3.fit_transform(X_train.head())"
   ]
  },
  {
   "cell_type": "code",
   "execution_count": 27,
   "id": "b044c9c0",
   "metadata": {},
   "outputs": [
    {
     "data": {
      "text/html": [
       "<div>\n",
       "<style scoped>\n",
       "    .dataframe tbody tr th:only-of-type {\n",
       "        vertical-align: middle;\n",
       "    }\n",
       "\n",
       "    .dataframe tbody tr th {\n",
       "        vertical-align: top;\n",
       "    }\n",
       "\n",
       "    .dataframe thead th {\n",
       "        text-align: right;\n",
       "    }\n",
       "</style>\n",
       "<table border=\"1\" class=\"dataframe\">\n",
       "  <thead>\n",
       "    <tr style=\"text-align: right;\">\n",
       "      <th></th>\n",
       "      <th>Fasilitas</th>\n",
       "      <th>Ratings</th>\n",
       "    </tr>\n",
       "  </thead>\n",
       "  <tbody>\n",
       "    <tr>\n",
       "      <th>95</th>\n",
       "      <td>WiFi, Kasur, Akses 24 Jam</td>\n",
       "      <td>NaN</td>\n",
       "    </tr>\n",
       "    <tr>\n",
       "      <th>126</th>\n",
       "      <td>WiFi, Kasur, Akses 24 Jam</td>\n",
       "      <td>NaN</td>\n",
       "    </tr>\n",
       "    <tr>\n",
       "      <th>120</th>\n",
       "      <td>WiFi, Kasur, Akses 24 Jam</td>\n",
       "      <td>NaN</td>\n",
       "    </tr>\n",
       "    <tr>\n",
       "      <th>67</th>\n",
       "      <td>WiFi, Akses 24 Jam</td>\n",
       "      <td>NaN</td>\n",
       "    </tr>\n",
       "    <tr>\n",
       "      <th>101</th>\n",
       "      <td>Kasur, Akses 24 Jam</td>\n",
       "      <td>NaN</td>\n",
       "    </tr>\n",
       "  </tbody>\n",
       "</table>\n",
       "</div>"
      ],
      "text/plain": [
       "                     Fasilitas  Ratings\n",
       "95   WiFi, Kasur, Akses 24 Jam      NaN\n",
       "126  WiFi, Kasur, Akses 24 Jam      NaN\n",
       "120  WiFi, Kasur, Akses 24 Jam      NaN\n",
       "67          WiFi, Akses 24 Jam      NaN\n",
       "101        Kasur, Akses 24 Jam      NaN"
      ]
     },
     "execution_count": 27,
     "metadata": {},
     "output_type": "execute_result"
    }
   ],
   "source": [
    "X_train.head()"
   ]
  },
  {
   "cell_type": "code",
   "execution_count": 28,
   "id": "a5710d0e",
   "metadata": {},
   "outputs": [
    {
     "name": "stdout",
     "output_type": "stream",
     "text": [
      "Fitting 5 folds for each of 50 candidates, totalling 250 fits\n"
     ]
    },
    {
     "data": {
      "text/html": [
       "<style>#sk-container-id-3 {color: black;background-color: white;}#sk-container-id-3 pre{padding: 0;}#sk-container-id-3 div.sk-toggleable {background-color: white;}#sk-container-id-3 label.sk-toggleable__label {cursor: pointer;display: block;width: 100%;margin-bottom: 0;padding: 0.3em;box-sizing: border-box;text-align: center;}#sk-container-id-3 label.sk-toggleable__label-arrow:before {content: \"▸\";float: left;margin-right: 0.25em;color: #696969;}#sk-container-id-3 label.sk-toggleable__label-arrow:hover:before {color: black;}#sk-container-id-3 div.sk-estimator:hover label.sk-toggleable__label-arrow:before {color: black;}#sk-container-id-3 div.sk-toggleable__content {max-height: 0;max-width: 0;overflow: hidden;text-align: left;background-color: #f0f8ff;}#sk-container-id-3 div.sk-toggleable__content pre {margin: 0.2em;color: black;border-radius: 0.25em;background-color: #f0f8ff;}#sk-container-id-3 input.sk-toggleable__control:checked~div.sk-toggleable__content {max-height: 200px;max-width: 100%;overflow: auto;}#sk-container-id-3 input.sk-toggleable__control:checked~label.sk-toggleable__label-arrow:before {content: \"▾\";}#sk-container-id-3 div.sk-estimator input.sk-toggleable__control:checked~label.sk-toggleable__label {background-color: #d4ebff;}#sk-container-id-3 div.sk-label input.sk-toggleable__control:checked~label.sk-toggleable__label {background-color: #d4ebff;}#sk-container-id-3 input.sk-hidden--visually {border: 0;clip: rect(1px 1px 1px 1px);clip: rect(1px, 1px, 1px, 1px);height: 1px;margin: -1px;overflow: hidden;padding: 0;position: absolute;width: 1px;}#sk-container-id-3 div.sk-estimator {font-family: monospace;background-color: #f0f8ff;border: 1px dotted black;border-radius: 0.25em;box-sizing: border-box;margin-bottom: 0.5em;}#sk-container-id-3 div.sk-estimator:hover {background-color: #d4ebff;}#sk-container-id-3 div.sk-parallel-item::after {content: \"\";width: 100%;border-bottom: 1px solid gray;flex-grow: 1;}#sk-container-id-3 div.sk-label:hover label.sk-toggleable__label {background-color: #d4ebff;}#sk-container-id-3 div.sk-serial::before {content: \"\";position: absolute;border-left: 1px solid gray;box-sizing: border-box;top: 0;bottom: 0;left: 50%;z-index: 0;}#sk-container-id-3 div.sk-serial {display: flex;flex-direction: column;align-items: center;background-color: white;padding-right: 0.2em;padding-left: 0.2em;position: relative;}#sk-container-id-3 div.sk-item {position: relative;z-index: 1;}#sk-container-id-3 div.sk-parallel {display: flex;align-items: stretch;justify-content: center;background-color: white;position: relative;}#sk-container-id-3 div.sk-item::before, #sk-container-id-3 div.sk-parallel-item::before {content: \"\";position: absolute;border-left: 1px solid gray;box-sizing: border-box;top: 0;bottom: 0;left: 50%;z-index: -1;}#sk-container-id-3 div.sk-parallel-item {display: flex;flex-direction: column;z-index: 1;position: relative;background-color: white;}#sk-container-id-3 div.sk-parallel-item:first-child::after {align-self: flex-end;width: 50%;}#sk-container-id-3 div.sk-parallel-item:last-child::after {align-self: flex-start;width: 50%;}#sk-container-id-3 div.sk-parallel-item:only-child::after {width: 0;}#sk-container-id-3 div.sk-dashed-wrapped {border: 1px dashed gray;margin: 0 0.4em 0.5em 0.4em;box-sizing: border-box;padding-bottom: 0.4em;background-color: white;}#sk-container-id-3 div.sk-label label {font-family: monospace;font-weight: bold;display: inline-block;line-height: 1.2em;}#sk-container-id-3 div.sk-label-container {text-align: center;}#sk-container-id-3 div.sk-container {/* jupyter's `normalize.less` sets `[hidden] { display: none; }` but bootstrap.min.css set `[hidden] { display: none !important; }` so we also need the `!important` here to be able to override the default hidden behavior on the sphinx rendered scikit-learn.org. See: https://github.com/scikit-learn/scikit-learn/issues/21755 */display: inline-block !important;position: relative;}#sk-container-id-3 div.sk-text-repr-fallback {display: none;}</style><div id=\"sk-container-id-3\" class=\"sk-top-container\"><div class=\"sk-text-repr-fallback\"><pre>RandomizedSearchCV(estimator=Pipeline(steps=[(&#x27;df_pipeline&#x27;,\n",
       "                                              Pipeline(steps=[(&#x27;GCF&#x27;,\n",
       "                                                               FunctionTransformer(func=&lt;function get_count_facilities at 0x0000022E5016B380&gt;)),\n",
       "                                                              (&#x27;GF&#x27;,\n",
       "                                                               FunctionTransformer(func=&lt;function get_value_facilities at 0x0000022E52CEDEE0&gt;)),\n",
       "                                                              (&#x27;BR&#x27;,\n",
       "                                                               FunctionTransformer(func=&lt;function bining_ratings at 0x0000022E50198540&gt;))])),\n",
       "                                             (&#x27;scaler&#x27;,\n",
       "                                              ColumnTransfor...\n",
       "                   param_distributions={&#x27;algo__C&#x27;: [0.1, 1, 10, 100],\n",
       "                                        &#x27;algo__epsilon&#x27;: [0.1, 0.2, 0.5],\n",
       "                                        &#x27;algo__gamma&#x27;: [&#x27;scale&#x27;, &#x27;auto&#x27;],\n",
       "                                        &#x27;algo__kernel&#x27;: [&#x27;linear&#x27;, &#x27;rbf&#x27;,\n",
       "                                                         &#x27;poly&#x27;],\n",
       "                                        &#x27;scaler__scl_cf__feature_range&#x27;: [(0,\n",
       "                                                                           1),\n",
       "                                                                          (0,\n",
       "                                                                           2),\n",
       "                                                                          (0,\n",
       "                                                                           3),\n",
       "                                                                          (0,\n",
       "                                                                           5)],\n",
       "                                        &#x27;scaler__scl_ratings__feature_range&#x27;: [(0,\n",
       "                                                                                1),\n",
       "                                                                               (0,\n",
       "                                                                                2),\n",
       "                                                                               (0,\n",
       "                                                                                3),\n",
       "                                                                               (0,\n",
       "                                                                                5)],\n",
       "                                        &#x27;scaler__scl_vf__feature_range&#x27;: [(0,\n",
       "                                                                           1),\n",
       "                                                                          (0,\n",
       "                                                                           2),\n",
       "                                                                          (0,\n",
       "                                                                           3),\n",
       "                                                                          (0,\n",
       "                                                                           5)]},\n",
       "                   scoring=&#x27;neg_mean_squared_error&#x27;, verbose=1)</pre><b>In a Jupyter environment, please rerun this cell to show the HTML representation or trust the notebook. <br />On GitHub, the HTML representation is unable to render, please try loading this page with nbviewer.org.</b></div><div class=\"sk-container\" hidden><div class=\"sk-item sk-dashed-wrapped\"><div class=\"sk-label-container\"><div class=\"sk-label sk-toggleable\"><input class=\"sk-toggleable__control sk-hidden--visually\" id=\"sk-estimator-id-23\" type=\"checkbox\" ><label for=\"sk-estimator-id-23\" class=\"sk-toggleable__label sk-toggleable__label-arrow\">RandomizedSearchCV</label><div class=\"sk-toggleable__content\"><pre>RandomizedSearchCV(estimator=Pipeline(steps=[(&#x27;df_pipeline&#x27;,\n",
       "                                              Pipeline(steps=[(&#x27;GCF&#x27;,\n",
       "                                                               FunctionTransformer(func=&lt;function get_count_facilities at 0x0000022E5016B380&gt;)),\n",
       "                                                              (&#x27;GF&#x27;,\n",
       "                                                               FunctionTransformer(func=&lt;function get_value_facilities at 0x0000022E52CEDEE0&gt;)),\n",
       "                                                              (&#x27;BR&#x27;,\n",
       "                                                               FunctionTransformer(func=&lt;function bining_ratings at 0x0000022E50198540&gt;))])),\n",
       "                                             (&#x27;scaler&#x27;,\n",
       "                                              ColumnTransfor...\n",
       "                   param_distributions={&#x27;algo__C&#x27;: [0.1, 1, 10, 100],\n",
       "                                        &#x27;algo__epsilon&#x27;: [0.1, 0.2, 0.5],\n",
       "                                        &#x27;algo__gamma&#x27;: [&#x27;scale&#x27;, &#x27;auto&#x27;],\n",
       "                                        &#x27;algo__kernel&#x27;: [&#x27;linear&#x27;, &#x27;rbf&#x27;,\n",
       "                                                         &#x27;poly&#x27;],\n",
       "                                        &#x27;scaler__scl_cf__feature_range&#x27;: [(0,\n",
       "                                                                           1),\n",
       "                                                                          (0,\n",
       "                                                                           2),\n",
       "                                                                          (0,\n",
       "                                                                           3),\n",
       "                                                                          (0,\n",
       "                                                                           5)],\n",
       "                                        &#x27;scaler__scl_ratings__feature_range&#x27;: [(0,\n",
       "                                                                                1),\n",
       "                                                                               (0,\n",
       "                                                                                2),\n",
       "                                                                               (0,\n",
       "                                                                                3),\n",
       "                                                                               (0,\n",
       "                                                                                5)],\n",
       "                                        &#x27;scaler__scl_vf__feature_range&#x27;: [(0,\n",
       "                                                                           1),\n",
       "                                                                          (0,\n",
       "                                                                           2),\n",
       "                                                                          (0,\n",
       "                                                                           3),\n",
       "                                                                          (0,\n",
       "                                                                           5)]},\n",
       "                   scoring=&#x27;neg_mean_squared_error&#x27;, verbose=1)</pre></div></div></div><div class=\"sk-parallel\"><div class=\"sk-parallel-item\"><div class=\"sk-item\"><div class=\"sk-label-container\"><div class=\"sk-label sk-toggleable\"><input class=\"sk-toggleable__control sk-hidden--visually\" id=\"sk-estimator-id-24\" type=\"checkbox\" ><label for=\"sk-estimator-id-24\" class=\"sk-toggleable__label sk-toggleable__label-arrow\">estimator: Pipeline</label><div class=\"sk-toggleable__content\"><pre>Pipeline(steps=[(&#x27;df_pipeline&#x27;,\n",
       "                 Pipeline(steps=[(&#x27;GCF&#x27;,\n",
       "                                  FunctionTransformer(func=&lt;function get_count_facilities at 0x0000022E5016B380&gt;)),\n",
       "                                 (&#x27;GF&#x27;,\n",
       "                                  FunctionTransformer(func=&lt;function get_value_facilities at 0x0000022E52CEDEE0&gt;)),\n",
       "                                 (&#x27;BR&#x27;,\n",
       "                                  FunctionTransformer(func=&lt;function bining_ratings at 0x0000022E50198540&gt;))])),\n",
       "                (&#x27;scaler&#x27;,\n",
       "                 ColumnTransformer(transformers=[(&#x27;scl_ratings&#x27;, MinMaxScaler(),\n",
       "                                                  [&#x27;Ratings&#x27;]),\n",
       "                                                 (&#x27;scl_cf&#x27;, MinMaxScaler(),\n",
       "                                                  [&#x27;Jumlah Fasilitas&#x27;]),\n",
       "                                                 (&#x27;scl_vf&#x27;, MinMaxScaler(),\n",
       "                                                  [&#x27;Value&#x27;])])),\n",
       "                (&#x27;algo&#x27;, SVR())])</pre></div></div></div><div class=\"sk-serial\"><div class=\"sk-item\"><div class=\"sk-serial\"><div class=\"sk-item\"><div class=\"sk-label-container\"><div class=\"sk-label sk-toggleable\"><input class=\"sk-toggleable__control sk-hidden--visually\" id=\"sk-estimator-id-25\" type=\"checkbox\" ><label for=\"sk-estimator-id-25\" class=\"sk-toggleable__label sk-toggleable__label-arrow\">df_pipeline: Pipeline</label><div class=\"sk-toggleable__content\"><pre>Pipeline(steps=[(&#x27;GCF&#x27;,\n",
       "                 FunctionTransformer(func=&lt;function get_count_facilities at 0x0000022E5016B380&gt;)),\n",
       "                (&#x27;GF&#x27;,\n",
       "                 FunctionTransformer(func=&lt;function get_value_facilities at 0x0000022E52CEDEE0&gt;)),\n",
       "                (&#x27;BR&#x27;,\n",
       "                 FunctionTransformer(func=&lt;function bining_ratings at 0x0000022E50198540&gt;))])</pre></div></div></div><div class=\"sk-serial\"><div class=\"sk-item\"><div class=\"sk-estimator sk-toggleable\"><input class=\"sk-toggleable__control sk-hidden--visually\" id=\"sk-estimator-id-26\" type=\"checkbox\" ><label for=\"sk-estimator-id-26\" class=\"sk-toggleable__label sk-toggleable__label-arrow\">FunctionTransformer</label><div class=\"sk-toggleable__content\"><pre>FunctionTransformer(func=&lt;function get_count_facilities at 0x0000022E5016B380&gt;)</pre></div></div></div><div class=\"sk-item\"><div class=\"sk-estimator sk-toggleable\"><input class=\"sk-toggleable__control sk-hidden--visually\" id=\"sk-estimator-id-27\" type=\"checkbox\" ><label for=\"sk-estimator-id-27\" class=\"sk-toggleable__label sk-toggleable__label-arrow\">FunctionTransformer</label><div class=\"sk-toggleable__content\"><pre>FunctionTransformer(func=&lt;function get_value_facilities at 0x0000022E52CEDEE0&gt;)</pre></div></div></div><div class=\"sk-item\"><div class=\"sk-estimator sk-toggleable\"><input class=\"sk-toggleable__control sk-hidden--visually\" id=\"sk-estimator-id-28\" type=\"checkbox\" ><label for=\"sk-estimator-id-28\" class=\"sk-toggleable__label sk-toggleable__label-arrow\">FunctionTransformer</label><div class=\"sk-toggleable__content\"><pre>FunctionTransformer(func=&lt;function bining_ratings at 0x0000022E50198540&gt;)</pre></div></div></div></div></div><div class=\"sk-item sk-dashed-wrapped\"><div class=\"sk-label-container\"><div class=\"sk-label sk-toggleable\"><input class=\"sk-toggleable__control sk-hidden--visually\" id=\"sk-estimator-id-29\" type=\"checkbox\" ><label for=\"sk-estimator-id-29\" class=\"sk-toggleable__label sk-toggleable__label-arrow\">scaler: ColumnTransformer</label><div class=\"sk-toggleable__content\"><pre>ColumnTransformer(transformers=[(&#x27;scl_ratings&#x27;, MinMaxScaler(), [&#x27;Ratings&#x27;]),\n",
       "                                (&#x27;scl_cf&#x27;, MinMaxScaler(),\n",
       "                                 [&#x27;Jumlah Fasilitas&#x27;]),\n",
       "                                (&#x27;scl_vf&#x27;, MinMaxScaler(), [&#x27;Value&#x27;])])</pre></div></div></div><div class=\"sk-parallel\"><div class=\"sk-parallel-item\"><div class=\"sk-item\"><div class=\"sk-label-container\"><div class=\"sk-label sk-toggleable\"><input class=\"sk-toggleable__control sk-hidden--visually\" id=\"sk-estimator-id-30\" type=\"checkbox\" ><label for=\"sk-estimator-id-30\" class=\"sk-toggleable__label sk-toggleable__label-arrow\">scl_ratings</label><div class=\"sk-toggleable__content\"><pre>[&#x27;Ratings&#x27;]</pre></div></div></div><div class=\"sk-serial\"><div class=\"sk-item\"><div class=\"sk-estimator sk-toggleable\"><input class=\"sk-toggleable__control sk-hidden--visually\" id=\"sk-estimator-id-31\" type=\"checkbox\" ><label for=\"sk-estimator-id-31\" class=\"sk-toggleable__label sk-toggleable__label-arrow\">MinMaxScaler</label><div class=\"sk-toggleable__content\"><pre>MinMaxScaler()</pre></div></div></div></div></div></div><div class=\"sk-parallel-item\"><div class=\"sk-item\"><div class=\"sk-label-container\"><div class=\"sk-label sk-toggleable\"><input class=\"sk-toggleable__control sk-hidden--visually\" id=\"sk-estimator-id-32\" type=\"checkbox\" ><label for=\"sk-estimator-id-32\" class=\"sk-toggleable__label sk-toggleable__label-arrow\">scl_cf</label><div class=\"sk-toggleable__content\"><pre>[&#x27;Jumlah Fasilitas&#x27;]</pre></div></div></div><div class=\"sk-serial\"><div class=\"sk-item\"><div class=\"sk-estimator sk-toggleable\"><input class=\"sk-toggleable__control sk-hidden--visually\" id=\"sk-estimator-id-33\" type=\"checkbox\" ><label for=\"sk-estimator-id-33\" class=\"sk-toggleable__label sk-toggleable__label-arrow\">MinMaxScaler</label><div class=\"sk-toggleable__content\"><pre>MinMaxScaler()</pre></div></div></div></div></div></div><div class=\"sk-parallel-item\"><div class=\"sk-item\"><div class=\"sk-label-container\"><div class=\"sk-label sk-toggleable\"><input class=\"sk-toggleable__control sk-hidden--visually\" id=\"sk-estimator-id-34\" type=\"checkbox\" ><label for=\"sk-estimator-id-34\" class=\"sk-toggleable__label sk-toggleable__label-arrow\">scl_vf</label><div class=\"sk-toggleable__content\"><pre>[&#x27;Value&#x27;]</pre></div></div></div><div class=\"sk-serial\"><div class=\"sk-item\"><div class=\"sk-estimator sk-toggleable\"><input class=\"sk-toggleable__control sk-hidden--visually\" id=\"sk-estimator-id-35\" type=\"checkbox\" ><label for=\"sk-estimator-id-35\" class=\"sk-toggleable__label sk-toggleable__label-arrow\">MinMaxScaler</label><div class=\"sk-toggleable__content\"><pre>MinMaxScaler()</pre></div></div></div></div></div></div></div></div><div class=\"sk-item\"><div class=\"sk-estimator sk-toggleable\"><input class=\"sk-toggleable__control sk-hidden--visually\" id=\"sk-estimator-id-36\" type=\"checkbox\" ><label for=\"sk-estimator-id-36\" class=\"sk-toggleable__label sk-toggleable__label-arrow\">SVR</label><div class=\"sk-toggleable__content\"><pre>SVR()</pre></div></div></div></div></div></div></div></div></div></div></div></div>"
      ],
      "text/plain": [
       "RandomizedSearchCV(estimator=Pipeline(steps=[('df_pipeline',\n",
       "                                              Pipeline(steps=[('GCF',\n",
       "                                                               FunctionTransformer(func=<function get_count_facilities at 0x0000022E5016B380>)),\n",
       "                                                              ('GF',\n",
       "                                                               FunctionTransformer(func=<function get_value_facilities at 0x0000022E52CEDEE0>)),\n",
       "                                                              ('BR',\n",
       "                                                               FunctionTransformer(func=<function bining_ratings at 0x0000022E50198540>))])),\n",
       "                                             ('scaler',\n",
       "                                              ColumnTransfor...\n",
       "                   param_distributions={'algo__C': [0.1, 1, 10, 100],\n",
       "                                        'algo__epsilon': [0.1, 0.2, 0.5],\n",
       "                                        'algo__gamma': ['scale', 'auto'],\n",
       "                                        'algo__kernel': ['linear', 'rbf',\n",
       "                                                         'poly'],\n",
       "                                        'scaler__scl_cf__feature_range': [(0,\n",
       "                                                                           1),\n",
       "                                                                          (0,\n",
       "                                                                           2),\n",
       "                                                                          (0,\n",
       "                                                                           3),\n",
       "                                                                          (0,\n",
       "                                                                           5)],\n",
       "                                        'scaler__scl_ratings__feature_range': [(0,\n",
       "                                                                                1),\n",
       "                                                                               (0,\n",
       "                                                                                2),\n",
       "                                                                               (0,\n",
       "                                                                                3),\n",
       "                                                                               (0,\n",
       "                                                                                5)],\n",
       "                                        'scaler__scl_vf__feature_range': [(0,\n",
       "                                                                           1),\n",
       "                                                                          (0,\n",
       "                                                                           2),\n",
       "                                                                          (0,\n",
       "                                                                           3),\n",
       "                                                                          (0,\n",
       "                                                                           5)]},\n",
       "                   scoring='neg_mean_squared_error', verbose=1)"
      ]
     },
     "execution_count": 28,
     "metadata": {},
     "output_type": "execute_result"
    }
   ],
   "source": [
    "#\n",
    "params = {\n",
    "    'scaler__scl_ratings__feature_range' : [(0,1),(0,2),(0,3),(0,5)],\n",
    "    'scaler__scl_cf__feature_range' : [(0,1),(0,2),(0,3),(0,5)],\n",
    "    'scaler__scl_vf__feature_range' : [(0,1),(0,2),(0,3),(0,5)], \n",
    "    'algo__kernel': ['linear', 'rbf', 'poly'],\n",
    "    'algo__C': [0.1, 1, 10, 100],\n",
    "    'algo__gamma': ['scale', 'auto'],\n",
    "    'algo__epsilon': [0.1, 0.2, 0.5]\n",
    "}\n",
    "\n",
    "# tuning\n",
    "from sklearn.model_selection import RandomizedSearchCV\n",
    "model3 = RandomizedSearchCV(pipeline3, param_distributions=params, scoring='neg_mean_squared_error', n_iter=50, n_jobs=-1, verbose=1)\n",
    "model3.fit(X_train, y_train)"
   ]
  },
  {
   "cell_type": "markdown",
   "id": "51084422",
   "metadata": {},
   "source": [
    "# Evaluasi Model part 3"
   ]
  },
  {
   "cell_type": "code",
   "execution_count": 29,
   "id": "9ce2ea7a",
   "metadata": {},
   "outputs": [
    {
     "name": "stdout",
     "output_type": "stream",
     "text": [
      "best param : {'scaler__scl_vf__feature_range': (0, 3), 'scaler__scl_ratings__feature_range': (0, 2), 'scaler__scl_cf__feature_range': (0, 2), 'algo__kernel': 'poly', 'algo__gamma': 'scale', 'algo__epsilon': 0.5, 'algo__C': 100}\n",
      "Validation : -16348122515.689962\n",
      "Testing : -20778200351.375927\n"
     ]
    }
   ],
   "source": [
    "# evaluate data\n",
    "print(f'best param : {model3.best_params_}')\n",
    "print(f'Validation : {model3.score(X_train, y_train)}')\n",
    "print(f'Testing : {model3.score(X_test, y_test)}')"
   ]
  },
  {
   "cell_type": "code",
   "execution_count": 30,
   "id": "66ab9321",
   "metadata": {},
   "outputs": [
    {
     "data": {
      "image/png": "[encoded data removed]",
      "text/plain": [
       "<Figure size 640x480 with 1 Axes>"
      ]
     },
     "metadata": {},
     "output_type": "display_data"
    }
   ],
   "source": [
    "# visualisation model prediction & actual data.\n",
    "import matplotlib.pyplot as plt\n",
    "import seaborn as sns\n",
    "\n",
    "# make prediction\n",
    "y_pred = model3.predict(X_test)\n",
    "\n",
    "sns.lineplot(x=range(1,len(X_test)+1), y=y_test, label='Data Actual')\n",
    "sns.lineplot(x=range(1,len(X_test)+1), y=y_pred, label='Model')\n",
    "plt.legend()\n",
    "plt.show()"
   ]
  },
  {
   "cell_type": "markdown",
   "id": "4e6e8238",
   "metadata": {},
   "source": [
    "# Conclusion \n",
    "#### Here you can see that the best model (with the fewest errors) is in the model2 variable, so I decided to save that model as the final project. It should be noted that this model is not perfect, in fact, in my opinion, it is not good due to the lack of feature data and the data volume is still relatively small.\n",
    "### Thank You"
   ]
  },
  {
   "cell_type": "markdown",
   "id": "971692d5",
   "metadata": {},
   "source": [
    "# Kesimpulan \n",
    "#### Disini terlihat bahwa model yang paling bagus (paling sedikit error) ada pada variabel model2, jadi saya memutuskan untuk menyimpan model tersebut sebagai final project. Harus diketahui bahwa model ini belum sempurna bahkan menurut saya kurang bagus dikarenakan kurangnya data fitur dan volume data yang masih relatif kecil.\n",
    "### Terima kasih"
   ]
  },
  {
   "cell_type": "code",
   "execution_count": 31,
   "id": "ac7f73f9",
   "metadata": {},
   "outputs": [],
   "source": [
    "import pickle\n",
    "with open('model/svm_regression_v2.pkl','wb') as file:\n",
    "    pickle.dump(model2, file)"
   ]
  },
  {
   "cell_type": "code",
   "execution_count": null,
   "id": "79cd4a67",
   "metadata": {},
   "outputs": [],
   "source": []
  }
 ],
 "metadata": {
  "kernelspec": {
   "display_name": "Python [conda env:employee_project]",
   "language": "python",
   "name": "conda-env-employee_project-py"
  },
  "language_info": {
   "codemirror_mode": {
    "name": "ipython",
    "version": 3
   },
   "file_extension": ".py",
   "mimetype": "text/x-python",
   "name": "python",
   "nbconvert_exporter": "python",
   "pygments_lexer": "ipython3",
   "version": "3.11.4"
  }
 },
 "nbformat": 4,
 "nbformat_minor": 5
}
