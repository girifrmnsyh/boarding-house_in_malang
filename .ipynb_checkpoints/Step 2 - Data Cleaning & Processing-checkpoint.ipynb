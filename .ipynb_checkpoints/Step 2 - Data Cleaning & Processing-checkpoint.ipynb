{
 "cells": [
  {
   "cell_type": "markdown",
   "id": "f2cd61e2",
   "metadata": {},
   "source": [
    "# Project Overview\n",
    "### (English)"
   ]
  },
  {
   "cell_type": "markdown",
   "id": "f822e169",
   "metadata": {},
   "source": [
    "#### This time I will make the data in the previous Notebook (data_kos_malang.csv) subject to a cleaning process, changing inappropriate formats, removing strange characters, etc."
   ]
  },
  {
   "cell_type": "markdown",
   "id": "9e073d9f",
   "metadata": {},
   "source": [
    "# Ringkasan Project\n",
    "### (Bahasa Indonesia)"
   ]
  },
  {
   "cell_type": "markdown",
   "id": "6773498c",
   "metadata": {},
   "source": [
    "#### Kali ini saya akan membuat data di Notebook sebelumnya (data_kos_malang.csv) dikenakan proses pembersihan, perubahan format yang tidak tepat, menghilangkan karakter karakter aneh dll."
   ]
  },
  {
   "cell_type": "code",
   "execution_count": 1,
   "id": "ad1b34c6",
   "metadata": {},
   "outputs": [],
   "source": [
    "import pandas as pd\n",
    "import numpy as np"
   ]
  },
  {
   "cell_type": "code",
   "execution_count": 2,
   "id": "56356515",
   "metadata": {},
   "outputs": [
    {
     "data": {
      "text/html": [
       "<div>\n",
       "<style scoped>\n",
       "    .dataframe tbody tr th:only-of-type {\n",
       "        vertical-align: middle;\n",
       "    }\n",
       "\n",
       "    .dataframe tbody tr th {\n",
       "        vertical-align: top;\n",
       "    }\n",
       "\n",
       "    .dataframe thead th {\n",
       "        text-align: right;\n",
       "    }\n",
       "</style>\n",
       "<table border=\"1\" class=\"dataframe\">\n",
       "  <thead>\n",
       "    <tr style=\"text-align: right;\">\n",
       "      <th></th>\n",
       "      <th>Nama Kos</th>\n",
       "      <th>Lokasi</th>\n",
       "      <th>Fasilitas</th>\n",
       "      <th>Harga</th>\n",
       "      <th>Peride Bayar</th>\n",
       "    </tr>\n",
       "  </thead>\n",
       "  <tbody>\n",
       "    <tr>\n",
       "      <th>0</th>\n",
       "      <td>Kost Wisma Kencana Hidayah Lowokwaru Malang</td>\n",
       "      <td>Lowokwaru</td>\n",
       "      <td>WiFi ·Kasur ·Akses 24 Jam-4.1</td>\n",
       "      <td>Rp600.000</td>\n",
       "      <td>/bulan</td>\n",
       "    </tr>\n",
       "    <tr>\n",
       "      <th>1</th>\n",
       "      <td>Kost Omah Tipe 1 Lowokwaru Malang</td>\n",
       "      <td>Lowokwaru</td>\n",
       "      <td>K. Mandi Dalam ·WiFi ·Kloset Duduk ·Kasur ·Aks...</td>\n",
       "      <td>Rp950.000</td>\n",
       "      <td>/bulan</td>\n",
       "    </tr>\n",
       "    <tr>\n",
       "      <th>2</th>\n",
       "      <td>Kost Graha Kamila Tipe Standar Lowokwaru Malang</td>\n",
       "      <td>Lowokwaru</td>\n",
       "      <td>WiFi ·Kloset Duduk ·Kasur ·Akses 24 Jam</td>\n",
       "      <td>Rp1.000.000</td>\n",
       "      <td>/bulan</td>\n",
       "    </tr>\n",
       "    <tr>\n",
       "      <th>3</th>\n",
       "      <td>Kost Semanggi Lowokwaru Malang</td>\n",
       "      <td>Lowokwaru</td>\n",
       "      <td>Kasur</td>\n",
       "      <td>Rp500.000</td>\n",
       "      <td>/bulan</td>\n",
       "    </tr>\n",
       "    <tr>\n",
       "      <th>4</th>\n",
       "      <td>Kost CM6 Lowokwaru Malang</td>\n",
       "      <td>Lowokwaru</td>\n",
       "      <td>WiFi ·Kasur ·Akses 24 Jam</td>\n",
       "      <td>Rp950.000</td>\n",
       "      <td>/bulan</td>\n",
       "    </tr>\n",
       "  </tbody>\n",
       "</table>\n",
       "</div>"
      ],
      "text/plain": [
       "                                          Nama Kos     Lokasi  \\\n",
       "0      Kost Wisma Kencana Hidayah Lowokwaru Malang  Lowokwaru   \n",
       "1                Kost Omah Tipe 1 Lowokwaru Malang  Lowokwaru   \n",
       "2  Kost Graha Kamila Tipe Standar Lowokwaru Malang  Lowokwaru   \n",
       "3                   Kost Semanggi Lowokwaru Malang  Lowokwaru   \n",
       "4                        Kost CM6 Lowokwaru Malang  Lowokwaru   \n",
       "\n",
       "                                           Fasilitas        Harga Peride Bayar  \n",
       "0                      WiFi ·Kasur ·Akses 24 Jam-4.1    Rp600.000       /bulan  \n",
       "1  K. Mandi Dalam ·WiFi ·Kloset Duduk ·Kasur ·Aks...    Rp950.000       /bulan  \n",
       "2            WiFi ·Kloset Duduk ·Kasur ·Akses 24 Jam  Rp1.000.000       /bulan  \n",
       "3                                              Kasur    Rp500.000       /bulan  \n",
       "4                          WiFi ·Kasur ·Akses 24 Jam    Rp950.000       /bulan  "
      ]
     },
     "execution_count": 2,
     "metadata": {},
     "output_type": "execute_result"
    }
   ],
   "source": [
    "# load data\n",
    "data = pd.read_csv('data/data_kos_malang.csv')\n",
    "data.head()"
   ]
  },
  {
   "cell_type": "markdown",
   "id": "daaf16db",
   "metadata": {},
   "source": [
    "## Opening\n",
    "#### The first step I will see is there any duplicate data (delete if any) and look at each column, how many percent of the data is missing there"
   ]
  },
  {
   "cell_type": "markdown",
   "id": "1772abf3",
   "metadata": {},
   "source": [
    "## Pembukaan\n",
    "#### Step pertama saya akan lihat apakah ada data (hapus jika ada) duplicat dan melihat setiap kolom ada berapa peresen data yang bolong disana"
   ]
  },
  {
   "cell_type": "code",
   "execution_count": 3,
   "id": "89a07120",
   "metadata": {},
   "outputs": [
    {
     "data": {
      "text/plain": [
       "Nama Kos        0\n",
       "Lokasi          0\n",
       "Fasilitas       0\n",
       "Harga           0\n",
       "Peride Bayar    0\n",
       "dtype: int64"
      ]
     },
     "execution_count": 3,
     "metadata": {},
     "output_type": "execute_result"
    }
   ],
   "source": [
    "# check null\n",
    "data.isna().sum()"
   ]
  },
  {
   "cell_type": "code",
   "execution_count": 4,
   "id": "8b2a5887",
   "metadata": {},
   "outputs": [
    {
     "data": {
      "text/plain": [
       "1308"
      ]
     },
     "execution_count": 4,
     "metadata": {},
     "output_type": "execute_result"
    }
   ],
   "source": [
    "# check length rows\n",
    "len(data)"
   ]
  },
  {
   "cell_type": "code",
   "execution_count": 5,
   "id": "3ffac1a6",
   "metadata": {},
   "outputs": [
    {
     "data": {
      "text/plain": [
       "1068"
      ]
     },
     "execution_count": 5,
     "metadata": {},
     "output_type": "execute_result"
    }
   ],
   "source": [
    "# duplicate data\n",
    "data.duplicated().sum()"
   ]
  },
  {
   "cell_type": "code",
   "execution_count": 6,
   "id": "16c5326f",
   "metadata": {},
   "outputs": [
    {
     "data": {
      "text/html": [
       "<div>\n",
       "<style scoped>\n",
       "    .dataframe tbody tr th:only-of-type {\n",
       "        vertical-align: middle;\n",
       "    }\n",
       "\n",
       "    .dataframe tbody tr th {\n",
       "        vertical-align: top;\n",
       "    }\n",
       "\n",
       "    .dataframe thead th {\n",
       "        text-align: right;\n",
       "    }\n",
       "</style>\n",
       "<table border=\"1\" class=\"dataframe\">\n",
       "  <thead>\n",
       "    <tr style=\"text-align: right;\">\n",
       "      <th></th>\n",
       "      <th>Nama Kos</th>\n",
       "      <th>Lokasi</th>\n",
       "      <th>Fasilitas</th>\n",
       "      <th>Harga</th>\n",
       "      <th>Peride Bayar</th>\n",
       "    </tr>\n",
       "  </thead>\n",
       "  <tbody>\n",
       "    <tr>\n",
       "      <th>0</th>\n",
       "      <td>Kost Wisma Kencana Hidayah Lowokwaru Malang</td>\n",
       "      <td>Lowokwaru</td>\n",
       "      <td>WiFi ·Kasur ·Akses 24 Jam-4.1</td>\n",
       "      <td>Rp600.000</td>\n",
       "      <td>/bulan</td>\n",
       "    </tr>\n",
       "    <tr>\n",
       "      <th>1</th>\n",
       "      <td>Kost Omah Tipe 1 Lowokwaru Malang</td>\n",
       "      <td>Lowokwaru</td>\n",
       "      <td>K. Mandi Dalam ·WiFi ·Kloset Duduk ·Kasur ·Aks...</td>\n",
       "      <td>Rp950.000</td>\n",
       "      <td>/bulan</td>\n",
       "    </tr>\n",
       "    <tr>\n",
       "      <th>2</th>\n",
       "      <td>Kost Graha Kamila Tipe Standar Lowokwaru Malang</td>\n",
       "      <td>Lowokwaru</td>\n",
       "      <td>WiFi ·Kloset Duduk ·Kasur ·Akses 24 Jam</td>\n",
       "      <td>Rp1.000.000</td>\n",
       "      <td>/bulan</td>\n",
       "    </tr>\n",
       "    <tr>\n",
       "      <th>3</th>\n",
       "      <td>Kost Semanggi Lowokwaru Malang</td>\n",
       "      <td>Lowokwaru</td>\n",
       "      <td>Kasur</td>\n",
       "      <td>Rp500.000</td>\n",
       "      <td>/bulan</td>\n",
       "    </tr>\n",
       "    <tr>\n",
       "      <th>4</th>\n",
       "      <td>Kost CM6 Lowokwaru Malang</td>\n",
       "      <td>Lowokwaru</td>\n",
       "      <td>WiFi ·Kasur ·Akses 24 Jam</td>\n",
       "      <td>Rp950.000</td>\n",
       "      <td>/bulan</td>\n",
       "    </tr>\n",
       "  </tbody>\n",
       "</table>\n",
       "</div>"
      ],
      "text/plain": [
       "                                          Nama Kos     Lokasi  \\\n",
       "0      Kost Wisma Kencana Hidayah Lowokwaru Malang  Lowokwaru   \n",
       "1                Kost Omah Tipe 1 Lowokwaru Malang  Lowokwaru   \n",
       "2  Kost Graha Kamila Tipe Standar Lowokwaru Malang  Lowokwaru   \n",
       "3                   Kost Semanggi Lowokwaru Malang  Lowokwaru   \n",
       "4                        Kost CM6 Lowokwaru Malang  Lowokwaru   \n",
       "\n",
       "                                           Fasilitas        Harga Peride Bayar  \n",
       "0                      WiFi ·Kasur ·Akses 24 Jam-4.1    Rp600.000       /bulan  \n",
       "1  K. Mandi Dalam ·WiFi ·Kloset Duduk ·Kasur ·Aks...    Rp950.000       /bulan  \n",
       "2            WiFi ·Kloset Duduk ·Kasur ·Akses 24 Jam  Rp1.000.000       /bulan  \n",
       "3                                              Kasur    Rp500.000       /bulan  \n",
       "4                          WiFi ·Kasur ·Akses 24 Jam    Rp950.000       /bulan  "
      ]
     },
     "execution_count": 6,
     "metadata": {},
     "output_type": "execute_result"
    }
   ],
   "source": [
    "data = data.drop_duplicates()\n",
    "data.head()"
   ]
  },
  {
   "cell_type": "code",
   "execution_count": 7,
   "id": "8f3a62d9",
   "metadata": {},
   "outputs": [
    {
     "name": "stdout",
     "output_type": "stream",
     "text": [
      "Lokasi\n",
      "8\n",
      "\n",
      "Fasilitas\n",
      "50\n",
      "\n",
      "Peride Bayar\n",
      "1\n",
      "\n"
     ]
    }
   ],
   "source": [
    "# check n unique each categorical colum\n",
    "for i in ['Lokasi','Fasilitas','Peride Bayar']:\n",
    "    print(i)\n",
    "    print(data[i].nunique())\n",
    "    print()"
   ]
  },
  {
   "cell_type": "code",
   "execution_count": 8,
   "id": "91f3d214",
   "metadata": {},
   "outputs": [],
   "source": [
    "# drop peride colum because just have a unique value\n",
    "data.drop('Peride Bayar', axis=1, inplace=True)"
   ]
  },
  {
   "cell_type": "markdown",
   "id": "829bac76",
   "metadata": {},
   "source": [
    "## Colum \"Nama Kos\"\n",
    "#### Here I found that all the data has a location affixed, for example \"Kost Wisma Kencana Hidayah Lowokwaru Malang\", the value \"Lowokwaru Malang\" is the name of the location of the boarding house, and we have to delete it because for our location data it has its own column."
   ]
  },
  {
   "cell_type": "markdown",
   "id": "19b16a6c",
   "metadata": {},
   "source": [
    "## Kolom \"Nama Kos\"\n",
    "#### Disini saya menemukan bahwa seluruh data memiliki imbuhan lokasi, contohnya \"Kost Wisma Kencana Hidayah Lowokwaru Malang\", value \"Lowokwaru Malang\" adalah nama lokasi dari kos tersebut, dan kita harus menghapusnya karena untuk data lokasi kita ada kolonya sendiri."
   ]
  },
  {
   "cell_type": "code",
   "execution_count": 9,
   "id": "e873e5ad",
   "metadata": {},
   "outputs": [
    {
     "data": {
      "text/plain": [
       "0          Kost Wisma Kencana Hidayah Lowokwaru Malang\n",
       "1                    Kost Omah Tipe 1 Lowokwaru Malang\n",
       "2      Kost Graha Kamila Tipe Standar Lowokwaru Malang\n",
       "3                       Kost Semanggi Lowokwaru Malang\n",
       "4                            Kost CM6 Lowokwaru Malang\n",
       "                            ...                       \n",
       "334         Kost Syariah Kertosentono Lowokwaru Malang\n",
       "335         Kost Candi Mendut Tipe A1 Lowokwaru Malang\n",
       "336              Kost Borobudur Utara Lowokwaru Malang\n",
       "337                 Kost CMG Tipe Vip Lowokwaru Malang\n",
       "338          Kost Ilham Tipe Standard Lowokwaru Malang\n",
       "Name: Nama Kos, Length: 240, dtype: object"
      ]
     },
     "execution_count": 9,
     "metadata": {},
     "output_type": "execute_result"
    }
   ],
   "source": [
    "# check 5 first rows\n",
    "data['Nama Kos']"
   ]
  },
  {
   "cell_type": "code",
   "execution_count": 10,
   "id": "28a2183c",
   "metadata": {},
   "outputs": [],
   "source": [
    "# make function to cleaning data Nama Kos\n",
    "def split_by_second_last_space(DATA):\n",
    "    # list for new values\n",
    "    new_values = []\n",
    "    \n",
    "    # looping each value\n",
    "    for d in DATA:\n",
    "        d_split = d.split(' ')\n",
    "        d_clean = d_split[:-2]\n",
    "        d_ready = ' '.join(d_clean)\n",
    "        new_values.append(d_ready)\n",
    "    return new_values"
   ]
  },
  {
   "cell_type": "code",
   "execution_count": 11,
   "id": "3bae5be9",
   "metadata": {},
   "outputs": [
    {
     "data": {
      "text/plain": [
       "0            Kost Wisma Kencana Hidayah\n",
       "1                      Kost Omah Tipe 1\n",
       "2        Kost Graha Kamila Tipe Standar\n",
       "3                         Kost Semanggi\n",
       "4                              Kost CM6\n",
       "5               Kost Cozy Dozy 1 Tipe A\n",
       "6             Kost Putra Cantewa Tipe B\n",
       "7    Kost Bangkit Boarding House Tipe A\n",
       "Name: Nama Kos, dtype: object"
      ]
     },
     "execution_count": 11,
     "metadata": {},
     "output_type": "execute_result"
    }
   ],
   "source": [
    "# change data\n",
    "data['Nama Kos'] = split_by_second_last_space(data['Nama Kos'])\n",
    "data['Nama Kos'].head(8)"
   ]
  },
  {
   "cell_type": "markdown",
   "id": "e2ef6823",
   "metadata": {},
   "source": [
    "## Colum \"Lokasi\"\n",
    "#### Actually there is nothing that needs to be changed, but I found that there is some data that has the word \"District\" added to it even though the location of the data is actually the same, for example \"Lowokwaru District\" & \"Lowokwaru\".\n",
    "#### So here I will remove all values that have the word \"District\" so that these values are not considered different."
   ]
  },
  {
   "cell_type": "markdown",
   "id": "e475a63a",
   "metadata": {},
   "source": [
    "## Kolom \"Lokasi\"\n",
    "#### Sebenarnya tidak ada yang perlu diubah, tetapi saya menemukan ada beberapa data yang berimbuhan kata \"Kecamatan\" padahal sebenarnya lokasi dari data tersebut sama, contoh \"Kecamatan Lowokwaru\" & \"Lowokwaru\".\n",
    "#### Jadi disini saya akan menghilangkan semua value yang memiliki kata \"Kecamatan\" supaya value tersebut tidak dianggap berbeda."
   ]
  },
  {
   "cell_type": "code",
   "execution_count": 12,
   "id": "982e2bd1",
   "metadata": {},
   "outputs": [
    {
     "data": {
      "text/plain": [
       "0                Lowokwaru\n",
       "1                Lowokwaru\n",
       "2                Lowokwaru\n",
       "3                Lowokwaru\n",
       "4                Lowokwaru\n",
       "              ...         \n",
       "334    Kecamatan Lowokwaru\n",
       "335              Lowokwaru\n",
       "336    Kecamatan Lowokwaru\n",
       "337              Lowokwaru\n",
       "338              Lowokwaru\n",
       "Name: Lokasi, Length: 240, dtype: object"
      ]
     },
     "execution_count": 12,
     "metadata": {},
     "output_type": "execute_result"
    }
   ],
   "source": [
    "# check 5 rows \n",
    "data['Lokasi']"
   ]
  },
  {
   "cell_type": "code",
   "execution_count": 13,
   "id": "8571cab6",
   "metadata": {},
   "outputs": [
    {
     "data": {
      "text/plain": [
       "array(['Lowokwaru', 'Blimbing', 'Kecamatan Lowokwaru', 'Klojen', 'Sukun',\n",
       "       'Kecamatan Klojen', 'Kecamatan Sukun', 'Kecamatan Blimbing'],\n",
       "      dtype=object)"
      ]
     },
     "execution_count": 13,
     "metadata": {},
     "output_type": "execute_result"
    }
   ],
   "source": [
    "# check unique values\n",
    "data['Lokasi'].unique()"
   ]
  },
  {
   "cell_type": "code",
   "execution_count": 14,
   "id": "ff837fd4",
   "metadata": {},
   "outputs": [
    {
     "data": {
      "text/plain": [
       "array(['Lowokwaru', 'Blimbing', 'Klojen', 'Sukun'], dtype=object)"
      ]
     },
     "execution_count": 14,
     "metadata": {},
     "output_type": "execute_result"
    }
   ],
   "source": [
    "# edit data Lokasi\n",
    "data['Lokasi'] = data['Lokasi'].str.replace('Kecamatan ','')\n",
    "data['Lokasi'].unique()"
   ]
  },
  {
   "cell_type": "markdown",
   "id": "e9bfda10",
   "metadata": {},
   "source": [
    "## Colum \"Fasilitas\"\n",
    "#### This column is quite challenging, I found information that there were value ratings that were taken when scraping the previous data, and the rating data was entered into the facility column.\n",
    "#### What's challenging about this is, not every row of data has rating data, so we have to be careful if we want to create a new column (Ratings)."
   ]
  },
  {
   "cell_type": "markdown",
   "id": "84dd3831",
   "metadata": {},
   "source": [
    "## Kolom \"Fasilitas\"\n",
    "#### Kolom yang ini cukup menantang, saya menemukan informasi bahwa ada ada value ratings yang ikut ke ambil waktu scraping data sebelumnya, dan data rating itu masuk ke kolom fasilitas\n",
    "#### Yang menantang dari ini adalah, tidak setiap baris data ada data rating nya, jadi kita harus hati hati jika ingin membuat kolom baru (Ratings)."
   ]
  },
  {
   "cell_type": "code",
   "execution_count": 15,
   "id": "6f1d01c7",
   "metadata": {},
   "outputs": [
    {
     "data": {
      "text/plain": [
       "0                        WiFi ·Kasur ·Akses 24 Jam-4.1\n",
       "1    K. Mandi Dalam ·WiFi ·Kloset Duduk ·Kasur ·Aks...\n",
       "2              WiFi ·Kloset Duduk ·Kasur ·Akses 24 Jam\n",
       "3                                                Kasur\n",
       "4                            WiFi ·Kasur ·Akses 24 Jam\n",
       "Name: Fasilitas, dtype: object"
      ]
     },
     "execution_count": 15,
     "metadata": {},
     "output_type": "execute_result"
    }
   ],
   "source": [
    "# check 5 first rows\n",
    "data['Fasilitas'].head()"
   ]
  },
  {
   "cell_type": "code",
   "execution_count": 16,
   "id": "b1bffa89",
   "metadata": {},
   "outputs": [
    {
     "data": {
      "text/plain": [
       "'WiFi ·Kasur ·Akses 24 Jam-4.1'"
      ]
     },
     "execution_count": 16,
     "metadata": {},
     "output_type": "execute_result"
    }
   ],
   "source": [
    "# check first data\n",
    "data.loc[0,'Fasilitas']"
   ]
  },
  {
   "cell_type": "code",
   "execution_count": 17,
   "id": "0a968e11",
   "metadata": {},
   "outputs": [],
   "source": [
    "# function for handle Fasilitas column\n",
    "def handle_facilities_column(FASILITIES):\n",
    "    # list for new values\n",
    "    facilities = []\n",
    "    ratings = []\n",
    "    \n",
    "    for F in FASILITIES:\n",
    "        \n",
    "        # split beetwen facilities and ratings\n",
    "        d = F.split('-')\n",
    "        \n",
    "        # decision\n",
    "        if len(d) != 1:\n",
    "            f = d[0] # value of facility\n",
    "            r = d[1] # value of rating\n",
    "            facilities.append(f.replace(' ·',', '))\n",
    "            ratings.append(r)\n",
    "            \n",
    "        else:\n",
    "            facilities.append(F.replace(' ·',', '))\n",
    "            ratings.append(np.nan)\n",
    "\n",
    "    return facilities, ratings"
   ]
  },
  {
   "cell_type": "code",
   "execution_count": 18,
   "id": "9643aa5f",
   "metadata": {},
   "outputs": [],
   "source": [
    "# get data\n",
    "facilities, ratings = handle_facilities_column(data['Fasilitas'])"
   ]
  },
  {
   "cell_type": "code",
   "execution_count": 19,
   "id": "63de7889",
   "metadata": {},
   "outputs": [
    {
     "name": "stdout",
     "output_type": "stream",
     "text": [
      "['WiFi, Kasur, Akses 24 Jam', 'K. Mandi Dalam, WiFi, Kloset Duduk, Kasur, Akses 24 Jam', 'WiFi, Kloset Duduk, Kasur, Akses 24 Jam', 'Kasur', 'WiFi, Kasur, Akses 24 Jam']\n",
      "\n",
      "['4.1', nan, nan, nan, nan]\n"
     ]
    }
   ],
   "source": [
    "# check values\n",
    "print(facilities[:5])\n",
    "print()\n",
    "print(ratings[:5])"
   ]
  },
  {
   "cell_type": "code",
   "execution_count": 20,
   "id": "5a5c80b2",
   "metadata": {},
   "outputs": [
    {
     "data": {
      "text/plain": [
       "(240, 240)"
      ]
     },
     "execution_count": 20,
     "metadata": {},
     "output_type": "execute_result"
    }
   ],
   "source": [
    "# check length\n",
    "len(facilities), len(ratings)"
   ]
  },
  {
   "cell_type": "code",
   "execution_count": 21,
   "id": "c5a332a8",
   "metadata": {},
   "outputs": [],
   "source": [
    "# change and insert colum\n",
    "data['Fasilitas'] = facilities\n",
    "\n",
    "data.insert(3,'Ratings', ratings)"
   ]
  },
  {
   "cell_type": "code",
   "execution_count": 22,
   "id": "b07a21c3",
   "metadata": {},
   "outputs": [
    {
     "data": {
      "text/html": [
       "<div>\n",
       "<style scoped>\n",
       "    .dataframe tbody tr th:only-of-type {\n",
       "        vertical-align: middle;\n",
       "    }\n",
       "\n",
       "    .dataframe tbody tr th {\n",
       "        vertical-align: top;\n",
       "    }\n",
       "\n",
       "    .dataframe thead th {\n",
       "        text-align: right;\n",
       "    }\n",
       "</style>\n",
       "<table border=\"1\" class=\"dataframe\">\n",
       "  <thead>\n",
       "    <tr style=\"text-align: right;\">\n",
       "      <th></th>\n",
       "      <th>Nama Kos</th>\n",
       "      <th>Lokasi</th>\n",
       "      <th>Fasilitas</th>\n",
       "      <th>Ratings</th>\n",
       "      <th>Harga</th>\n",
       "    </tr>\n",
       "  </thead>\n",
       "  <tbody>\n",
       "    <tr>\n",
       "      <th>0</th>\n",
       "      <td>Kost Wisma Kencana Hidayah</td>\n",
       "      <td>Lowokwaru</td>\n",
       "      <td>WiFi, Kasur, Akses 24 Jam</td>\n",
       "      <td>4.1</td>\n",
       "      <td>Rp600.000</td>\n",
       "    </tr>\n",
       "    <tr>\n",
       "      <th>1</th>\n",
       "      <td>Kost Omah Tipe 1</td>\n",
       "      <td>Lowokwaru</td>\n",
       "      <td>K. Mandi Dalam, WiFi, Kloset Duduk, Kasur, Aks...</td>\n",
       "      <td>NaN</td>\n",
       "      <td>Rp950.000</td>\n",
       "    </tr>\n",
       "    <tr>\n",
       "      <th>2</th>\n",
       "      <td>Kost Graha Kamila Tipe Standar</td>\n",
       "      <td>Lowokwaru</td>\n",
       "      <td>WiFi, Kloset Duduk, Kasur, Akses 24 Jam</td>\n",
       "      <td>NaN</td>\n",
       "      <td>Rp1.000.000</td>\n",
       "    </tr>\n",
       "    <tr>\n",
       "      <th>3</th>\n",
       "      <td>Kost Semanggi</td>\n",
       "      <td>Lowokwaru</td>\n",
       "      <td>Kasur</td>\n",
       "      <td>NaN</td>\n",
       "      <td>Rp500.000</td>\n",
       "    </tr>\n",
       "    <tr>\n",
       "      <th>4</th>\n",
       "      <td>Kost CM6</td>\n",
       "      <td>Lowokwaru</td>\n",
       "      <td>WiFi, Kasur, Akses 24 Jam</td>\n",
       "      <td>NaN</td>\n",
       "      <td>Rp950.000</td>\n",
       "    </tr>\n",
       "    <tr>\n",
       "      <th>5</th>\n",
       "      <td>Kost Cozy Dozy 1 Tipe A</td>\n",
       "      <td>Lowokwaru</td>\n",
       "      <td>WiFi, Kasur, Akses 24 Jam</td>\n",
       "      <td>4.9</td>\n",
       "      <td>Rp500.000</td>\n",
       "    </tr>\n",
       "    <tr>\n",
       "      <th>6</th>\n",
       "      <td>Kost Putra Cantewa Tipe B</td>\n",
       "      <td>Lowokwaru</td>\n",
       "      <td>K. Mandi Dalam, WiFi, Kasur, Akses 24 Jam</td>\n",
       "      <td>NaN</td>\n",
       "      <td>Rp850.000</td>\n",
       "    </tr>\n",
       "    <tr>\n",
       "      <th>7</th>\n",
       "      <td>Kost Bangkit Boarding House Tipe A</td>\n",
       "      <td>Lowokwaru</td>\n",
       "      <td>WiFi, Kasur, Akses 24 Jam</td>\n",
       "      <td>NaN</td>\n",
       "      <td>Rp650.000</td>\n",
       "    </tr>\n",
       "    <tr>\n",
       "      <th>8</th>\n",
       "      <td>Kost Bantaran IIID</td>\n",
       "      <td>Lowokwaru</td>\n",
       "      <td>WiFi, Kasur, Akses 24 Jam</td>\n",
       "      <td>5.0</td>\n",
       "      <td>Rp550.000</td>\n",
       "    </tr>\n",
       "    <tr>\n",
       "      <th>9</th>\n",
       "      <td>Kost Basecamp</td>\n",
       "      <td>Blimbing</td>\n",
       "      <td>K. Mandi Dalam, WiFi, Kasur, Akses 24 Jam</td>\n",
       "      <td>4.1</td>\n",
       "      <td>Rp680.000</td>\n",
       "    </tr>\n",
       "  </tbody>\n",
       "</table>\n",
       "</div>"
      ],
      "text/plain": [
       "                             Nama Kos     Lokasi  \\\n",
       "0          Kost Wisma Kencana Hidayah  Lowokwaru   \n",
       "1                    Kost Omah Tipe 1  Lowokwaru   \n",
       "2      Kost Graha Kamila Tipe Standar  Lowokwaru   \n",
       "3                       Kost Semanggi  Lowokwaru   \n",
       "4                            Kost CM6  Lowokwaru   \n",
       "5             Kost Cozy Dozy 1 Tipe A  Lowokwaru   \n",
       "6           Kost Putra Cantewa Tipe B  Lowokwaru   \n",
       "7  Kost Bangkit Boarding House Tipe A  Lowokwaru   \n",
       "8                  Kost Bantaran IIID  Lowokwaru   \n",
       "9                       Kost Basecamp   Blimbing   \n",
       "\n",
       "                                           Fasilitas Ratings        Harga  \n",
       "0                          WiFi, Kasur, Akses 24 Jam     4.1    Rp600.000  \n",
       "1  K. Mandi Dalam, WiFi, Kloset Duduk, Kasur, Aks...     NaN    Rp950.000  \n",
       "2            WiFi, Kloset Duduk, Kasur, Akses 24 Jam     NaN  Rp1.000.000  \n",
       "3                                              Kasur     NaN    Rp500.000  \n",
       "4                          WiFi, Kasur, Akses 24 Jam     NaN    Rp950.000  \n",
       "5                          WiFi, Kasur, Akses 24 Jam     4.9    Rp500.000  \n",
       "6          K. Mandi Dalam, WiFi, Kasur, Akses 24 Jam     NaN    Rp850.000  \n",
       "7                          WiFi, Kasur, Akses 24 Jam     NaN    Rp650.000  \n",
       "8                          WiFi, Kasur, Akses 24 Jam     5.0    Rp550.000  \n",
       "9          K. Mandi Dalam, WiFi, Kasur, Akses 24 Jam     4.1    Rp680.000  "
      ]
     },
     "execution_count": 22,
     "metadata": {},
     "output_type": "execute_result"
    }
   ],
   "source": [
    "data.head(10)"
   ]
  },
  {
   "cell_type": "markdown",
   "id": "c82b3a5c",
   "metadata": {},
   "source": [
    "## Colum \"Harga\"\n",
    "#### For this column, I plan to change its type to number (int), and before that I have to clean up elements that could interfere with the data type transformation process."
   ]
  },
  {
   "cell_type": "markdown",
   "id": "62adc11e",
   "metadata": {},
   "source": [
    "## Kolom \"Harga\"\n",
    "#### Untuk kolom ini rencananya saya mau mengubah tipenya menjadi angka (int), dan sebelumnya saya harus melakukan pembersihan terhadap elemen elemen yang bisa mengganggu prooses transformasi tipe data itu."
   ]
  },
  {
   "cell_type": "code",
   "execution_count": 23,
   "id": "b032599a",
   "metadata": {},
   "outputs": [],
   "source": [
    "# cleaning Harga\n",
    "data['Harga'] = data['Harga'].str.replace('Rp','').str.replace('.','')"
   ]
  },
  {
   "cell_type": "code",
   "execution_count": 24,
   "id": "a5601b47",
   "metadata": {},
   "outputs": [
    {
     "data": {
      "text/plain": [
       "<bound method NDFrame.head of 0       600000\n",
       "1       950000\n",
       "2      1000000\n",
       "3       500000\n",
       "4       950000\n",
       "        ...   \n",
       "334     650000\n",
       "335     900000\n",
       "336     500000\n",
       "337     900000\n",
       "338     580000\n",
       "Name: Harga, Length: 240, dtype: object>"
      ]
     },
     "execution_count": 24,
     "metadata": {},
     "output_type": "execute_result"
    }
   ],
   "source": [
    "# check\n",
    "data['Harga'].head"
   ]
  },
  {
   "cell_type": "markdown",
   "id": "c45cea94",
   "metadata": {},
   "source": [
    "## Last Step\n",
    "#### 1. Change the data type of 2 columns, namely \"Ratings\" to float & \"Price\" to int.\n",
    "#### 2. Changed the name of the \"Price\" column to \"Price per Month\" because all the cost data that I got was informed that the price was the price per month, which column we had dropped in the opening step.\n",
    "#### 3. Save data named \"data_kos_malang_clean.csv\""
   ]
  },
  {
   "cell_type": "markdown",
   "id": "d00aa291",
   "metadata": {},
   "source": [
    "## Langkah Terakhir\n",
    "#### 1. Mengubah tipe data dari 2 kolom, yaitu \"Ratings\" menjadi float & \"Harga\" menjadi int.\n",
    "#### 2. Mengubah nama kolom \"Harga\" menjadi \"Harga per Bulan\" karena semua data kos yang saya dapatkan memperoleh informasi bahwa harga tersebut adalah harga per 1 bulan, yang kolomnya kita sudah drop di langkah pembukaan.\n",
    "#### 3. Simpan data dengan nama \"data_kos_malang_clean.csv\""
   ]
  },
  {
   "cell_type": "code",
   "execution_count": 25,
   "id": "3f1b0072",
   "metadata": {},
   "outputs": [],
   "source": [
    "# ratings\n",
    "data['Ratings'] = data['Ratings'].astype('float')"
   ]
  },
  {
   "cell_type": "code",
   "execution_count": 26,
   "id": "e4f6a9e1",
   "metadata": {},
   "outputs": [],
   "source": [
    "# harga\n",
    "data['Harga'] = data['Harga'].astype('int')"
   ]
  },
  {
   "cell_type": "code",
   "execution_count": 27,
   "id": "6d0b3e4a",
   "metadata": {},
   "outputs": [
    {
     "data": {
      "text/plain": [
       "Nama Kos      object\n",
       "Lokasi        object\n",
       "Fasilitas     object\n",
       "Ratings      float64\n",
       "Harga          int32\n",
       "dtype: object"
      ]
     },
     "execution_count": 27,
     "metadata": {},
     "output_type": "execute_result"
    }
   ],
   "source": [
    "data.dtypes"
   ]
  },
  {
   "cell_type": "code",
   "execution_count": 28,
   "id": "8f9ba70b",
   "metadata": {},
   "outputs": [],
   "source": [
    "# rename column \"Harga\" to \"Harga per Bulan\"\n",
    "data = data.rename(columns={'Harga' : 'Harga per Bulan'})"
   ]
  },
  {
   "cell_type": "code",
   "execution_count": 29,
   "id": "7bc88b1e",
   "metadata": {},
   "outputs": [
    {
     "data": {
      "text/html": [
       "<div>\n",
       "<style scoped>\n",
       "    .dataframe tbody tr th:only-of-type {\n",
       "        vertical-align: middle;\n",
       "    }\n",
       "\n",
       "    .dataframe tbody tr th {\n",
       "        vertical-align: top;\n",
       "    }\n",
       "\n",
       "    .dataframe thead th {\n",
       "        text-align: right;\n",
       "    }\n",
       "</style>\n",
       "<table border=\"1\" class=\"dataframe\">\n",
       "  <thead>\n",
       "    <tr style=\"text-align: right;\">\n",
       "      <th></th>\n",
       "      <th>Nama Kos</th>\n",
       "      <th>Lokasi</th>\n",
       "      <th>Fasilitas</th>\n",
       "      <th>Ratings</th>\n",
       "      <th>Harga per Bulan</th>\n",
       "    </tr>\n",
       "  </thead>\n",
       "  <tbody>\n",
       "    <tr>\n",
       "      <th>0</th>\n",
       "      <td>Kost Wisma Kencana Hidayah</td>\n",
       "      <td>Lowokwaru</td>\n",
       "      <td>WiFi, Kasur, Akses 24 Jam</td>\n",
       "      <td>4.1</td>\n",
       "      <td>600000</td>\n",
       "    </tr>\n",
       "    <tr>\n",
       "      <th>1</th>\n",
       "      <td>Kost Omah Tipe 1</td>\n",
       "      <td>Lowokwaru</td>\n",
       "      <td>K. Mandi Dalam, WiFi, Kloset Duduk, Kasur, Aks...</td>\n",
       "      <td>NaN</td>\n",
       "      <td>950000</td>\n",
       "    </tr>\n",
       "    <tr>\n",
       "      <th>2</th>\n",
       "      <td>Kost Graha Kamila Tipe Standar</td>\n",
       "      <td>Lowokwaru</td>\n",
       "      <td>WiFi, Kloset Duduk, Kasur, Akses 24 Jam</td>\n",
       "      <td>NaN</td>\n",
       "      <td>1000000</td>\n",
       "    </tr>\n",
       "    <tr>\n",
       "      <th>3</th>\n",
       "      <td>Kost Semanggi</td>\n",
       "      <td>Lowokwaru</td>\n",
       "      <td>Kasur</td>\n",
       "      <td>NaN</td>\n",
       "      <td>500000</td>\n",
       "    </tr>\n",
       "    <tr>\n",
       "      <th>4</th>\n",
       "      <td>Kost CM6</td>\n",
       "      <td>Lowokwaru</td>\n",
       "      <td>WiFi, Kasur, Akses 24 Jam</td>\n",
       "      <td>NaN</td>\n",
       "      <td>950000</td>\n",
       "    </tr>\n",
       "    <tr>\n",
       "      <th>...</th>\n",
       "      <td>...</td>\n",
       "      <td>...</td>\n",
       "      <td>...</td>\n",
       "      <td>...</td>\n",
       "      <td>...</td>\n",
       "    </tr>\n",
       "    <tr>\n",
       "      <th>334</th>\n",
       "      <td>Kost Syariah Kertosentono</td>\n",
       "      <td>Lowokwaru</td>\n",
       "      <td>WiFi, Kasur, Akses 24 Jam</td>\n",
       "      <td>NaN</td>\n",
       "      <td>650000</td>\n",
       "    </tr>\n",
       "    <tr>\n",
       "      <th>335</th>\n",
       "      <td>Kost Candi Mendut Tipe A1</td>\n",
       "      <td>Lowokwaru</td>\n",
       "      <td>K. Mandi Dalam, Kloset Duduk, Kasur, Akses 24 Jam</td>\n",
       "      <td>NaN</td>\n",
       "      <td>900000</td>\n",
       "    </tr>\n",
       "    <tr>\n",
       "      <th>336</th>\n",
       "      <td>Kost Borobudur Utara</td>\n",
       "      <td>Lowokwaru</td>\n",
       "      <td>WiFi, Kloset Duduk, Kasur, Akses 24 Jam</td>\n",
       "      <td>NaN</td>\n",
       "      <td>500000</td>\n",
       "    </tr>\n",
       "    <tr>\n",
       "      <th>337</th>\n",
       "      <td>Kost CMG Tipe Vip</td>\n",
       "      <td>Lowokwaru</td>\n",
       "      <td>K. Mandi Dalam, WiFi, Kloset Duduk, Kasur</td>\n",
       "      <td>NaN</td>\n",
       "      <td>900000</td>\n",
       "    </tr>\n",
       "    <tr>\n",
       "      <th>338</th>\n",
       "      <td>Kost Ilham Tipe Standard</td>\n",
       "      <td>Lowokwaru</td>\n",
       "      <td>WiFi, Kasur, Akses 24 Jam</td>\n",
       "      <td>NaN</td>\n",
       "      <td>580000</td>\n",
       "    </tr>\n",
       "  </tbody>\n",
       "</table>\n",
       "<p>240 rows × 5 columns</p>\n",
       "</div>"
      ],
      "text/plain": [
       "                           Nama Kos     Lokasi  \\\n",
       "0        Kost Wisma Kencana Hidayah  Lowokwaru   \n",
       "1                  Kost Omah Tipe 1  Lowokwaru   \n",
       "2    Kost Graha Kamila Tipe Standar  Lowokwaru   \n",
       "3                     Kost Semanggi  Lowokwaru   \n",
       "4                          Kost CM6  Lowokwaru   \n",
       "..                              ...        ...   \n",
       "334       Kost Syariah Kertosentono  Lowokwaru   \n",
       "335       Kost Candi Mendut Tipe A1  Lowokwaru   \n",
       "336            Kost Borobudur Utara  Lowokwaru   \n",
       "337               Kost CMG Tipe Vip  Lowokwaru   \n",
       "338        Kost Ilham Tipe Standard  Lowokwaru   \n",
       "\n",
       "                                             Fasilitas  Ratings  \\\n",
       "0                            WiFi, Kasur, Akses 24 Jam      4.1   \n",
       "1    K. Mandi Dalam, WiFi, Kloset Duduk, Kasur, Aks...      NaN   \n",
       "2              WiFi, Kloset Duduk, Kasur, Akses 24 Jam      NaN   \n",
       "3                                                Kasur      NaN   \n",
       "4                            WiFi, Kasur, Akses 24 Jam      NaN   \n",
       "..                                                 ...      ...   \n",
       "334                          WiFi, Kasur, Akses 24 Jam      NaN   \n",
       "335  K. Mandi Dalam, Kloset Duduk, Kasur, Akses 24 Jam      NaN   \n",
       "336            WiFi, Kloset Duduk, Kasur, Akses 24 Jam      NaN   \n",
       "337          K. Mandi Dalam, WiFi, Kloset Duduk, Kasur      NaN   \n",
       "338                          WiFi, Kasur, Akses 24 Jam      NaN   \n",
       "\n",
       "     Harga per Bulan  \n",
       "0             600000  \n",
       "1             950000  \n",
       "2            1000000  \n",
       "3             500000  \n",
       "4             950000  \n",
       "..               ...  \n",
       "334           650000  \n",
       "335           900000  \n",
       "336           500000  \n",
       "337           900000  \n",
       "338           580000  \n",
       "\n",
       "[240 rows x 5 columns]"
      ]
     },
     "execution_count": 29,
     "metadata": {},
     "output_type": "execute_result"
    }
   ],
   "source": [
    "data"
   ]
  },
  {
   "cell_type": "code",
   "execution_count": 30,
   "id": "ead2c681",
   "metadata": {},
   "outputs": [],
   "source": [
    "data.to_csv('data/data_kos_malang_clean.csv',index=False)"
   ]
  },
  {
   "cell_type": "code",
   "execution_count": null,
   "id": "fb360c62",
   "metadata": {},
   "outputs": [],
   "source": []
  }
 ],
 "metadata": {
  "kernelspec": {
   "display_name": "Python [conda env:employee_project]",
   "language": "python",
   "name": "conda-env-employee_project-py"
  },
  "language_info": {
   "codemirror_mode": {
    "name": "ipython",
    "version": 3
   },
   "file_extension": ".py",
   "mimetype": "text/x-python",
   "name": "python",
   "nbconvert_exporter": "python",
   "pygments_lexer": "ipython3",
   "version": "3.11.4"
  }
 },
 "nbformat": 4,
 "nbformat_minor": 5
}
