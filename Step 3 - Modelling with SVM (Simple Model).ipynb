{
 "cells": [
  {
   "cell_type": "markdown",
   "id": "f6a740ac",
   "metadata": {},
   "source": [
    "# Overview\n",
    "### (English)"
   ]
  },
  {
   "cell_type": "markdown",
   "id": "502dcfaa",
   "metadata": {},
   "source": [
    "#### In this Notebook, I will create a ML model (Machine Learning) to predict the price of boarding houses based on the features in the data that I previously obtained from the mamikos.com website.\n",
    "#### I will use the SVM (Support Vector Machine) algorithm for this project."
   ]
  },
  {
   "cell_type": "markdown",
   "id": "a72db226",
   "metadata": {},
   "source": [
    "# Ringkasan\n",
    "### (Bahasa Indonesia)"
   ]
  },
  {
   "cell_type": "markdown",
   "id": "e41eda94",
   "metadata": {},
   "source": [
    "#### Dalam Notebook ini, saya akan membuat model ML (Machine Learning) untuk memprediksi harga dari kos berdasarkan fitur yang ada dalam data yang saya peproleh dari web mamikos.com sebelumnya.\n",
    "#### Saya akan menggunakan algoritma SVM (Support Vector Machine) untuk project kal ini."
   ]
  },
  {
   "cell_type": "code",
   "execution_count": 1,
   "id": "31807611",
   "metadata": {},
   "outputs": [],
   "source": [
    "# import common package\n",
    "import pandas as pd\n",
    "import numpy as np\n",
    "\n",
    "import warnings\n",
    "warnings.filterwarnings('ignore')"
   ]
  },
  {
   "cell_type": "code",
   "execution_count": 2,
   "id": "d9e20ebf",
   "metadata": {},
   "outputs": [
    {
     "data": {
      "text/html": [
       "<div>\n",
       "<style scoped>\n",
       "    .dataframe tbody tr th:only-of-type {\n",
       "        vertical-align: middle;\n",
       "    }\n",
       "\n",
       "    .dataframe tbody tr th {\n",
       "        vertical-align: top;\n",
       "    }\n",
       "\n",
       "    .dataframe thead th {\n",
       "        text-align: right;\n",
       "    }\n",
       "</style>\n",
       "<table border=\"1\" class=\"dataframe\">\n",
       "  <thead>\n",
       "    <tr style=\"text-align: right;\">\n",
       "      <th></th>\n",
       "      <th>Nama Kos</th>\n",
       "      <th>Lokasi</th>\n",
       "      <th>Fasilitas</th>\n",
       "      <th>Ratings</th>\n",
       "      <th>Harga per Bulan</th>\n",
       "    </tr>\n",
       "  </thead>\n",
       "  <tbody>\n",
       "    <tr>\n",
       "      <th>0</th>\n",
       "      <td>Kost Wisma Kencana Hidayah</td>\n",
       "      <td>Lowokwaru</td>\n",
       "      <td>WiFi, Kasur, Akses 24 Jam</td>\n",
       "      <td>4.1</td>\n",
       "      <td>600000</td>\n",
       "    </tr>\n",
       "    <tr>\n",
       "      <th>1</th>\n",
       "      <td>Kost Omah Tipe 1</td>\n",
       "      <td>Lowokwaru</td>\n",
       "      <td>K. Mandi Dalam, WiFi, Kloset Duduk, Kasur, Aks...</td>\n",
       "      <td>NaN</td>\n",
       "      <td>950000</td>\n",
       "    </tr>\n",
       "    <tr>\n",
       "      <th>2</th>\n",
       "      <td>Kost Graha Kamila Tipe Standar</td>\n",
       "      <td>Lowokwaru</td>\n",
       "      <td>WiFi, Kloset Duduk, Kasur, Akses 24 Jam</td>\n",
       "      <td>NaN</td>\n",
       "      <td>1000000</td>\n",
       "    </tr>\n",
       "    <tr>\n",
       "      <th>3</th>\n",
       "      <td>Kost Semanggi</td>\n",
       "      <td>Lowokwaru</td>\n",
       "      <td>Kasur</td>\n",
       "      <td>NaN</td>\n",
       "      <td>500000</td>\n",
       "    </tr>\n",
       "    <tr>\n",
       "      <th>4</th>\n",
       "      <td>Kost CM6</td>\n",
       "      <td>Lowokwaru</td>\n",
       "      <td>WiFi, Kasur, Akses 24 Jam</td>\n",
       "      <td>NaN</td>\n",
       "      <td>950000</td>\n",
       "    </tr>\n",
       "    <tr>\n",
       "      <th>5</th>\n",
       "      <td>Kost Cozy Dozy 1 Tipe A</td>\n",
       "      <td>Lowokwaru</td>\n",
       "      <td>WiFi, Kasur, Akses 24 Jam</td>\n",
       "      <td>4.9</td>\n",
       "      <td>500000</td>\n",
       "    </tr>\n",
       "    <tr>\n",
       "      <th>6</th>\n",
       "      <td>Kost Putra Cantewa Tipe B</td>\n",
       "      <td>Lowokwaru</td>\n",
       "      <td>K. Mandi Dalam, WiFi, Kasur, Akses 24 Jam</td>\n",
       "      <td>NaN</td>\n",
       "      <td>850000</td>\n",
       "    </tr>\n",
       "    <tr>\n",
       "      <th>7</th>\n",
       "      <td>Kost Bangkit Boarding House Tipe A</td>\n",
       "      <td>Lowokwaru</td>\n",
       "      <td>WiFi, Kasur, Akses 24 Jam</td>\n",
       "      <td>NaN</td>\n",
       "      <td>650000</td>\n",
       "    </tr>\n",
       "    <tr>\n",
       "      <th>8</th>\n",
       "      <td>Kost Bantaran IIID</td>\n",
       "      <td>Lowokwaru</td>\n",
       "      <td>WiFi, Kasur, Akses 24 Jam</td>\n",
       "      <td>5.0</td>\n",
       "      <td>550000</td>\n",
       "    </tr>\n",
       "    <tr>\n",
       "      <th>9</th>\n",
       "      <td>Kost Basecamp</td>\n",
       "      <td>Blimbing</td>\n",
       "      <td>K. Mandi Dalam, WiFi, Kasur, Akses 24 Jam</td>\n",
       "      <td>4.1</td>\n",
       "      <td>680000</td>\n",
       "    </tr>\n",
       "  </tbody>\n",
       "</table>\n",
       "</div>"
      ],
      "text/plain": [
       "                             Nama Kos     Lokasi  \\\n",
       "0          Kost Wisma Kencana Hidayah  Lowokwaru   \n",
       "1                    Kost Omah Tipe 1  Lowokwaru   \n",
       "2      Kost Graha Kamila Tipe Standar  Lowokwaru   \n",
       "3                       Kost Semanggi  Lowokwaru   \n",
       "4                            Kost CM6  Lowokwaru   \n",
       "5             Kost Cozy Dozy 1 Tipe A  Lowokwaru   \n",
       "6           Kost Putra Cantewa Tipe B  Lowokwaru   \n",
       "7  Kost Bangkit Boarding House Tipe A  Lowokwaru   \n",
       "8                  Kost Bantaran IIID  Lowokwaru   \n",
       "9                       Kost Basecamp   Blimbing   \n",
       "\n",
       "                                           Fasilitas  Ratings  Harga per Bulan  \n",
       "0                          WiFi, Kasur, Akses 24 Jam      4.1           600000  \n",
       "1  K. Mandi Dalam, WiFi, Kloset Duduk, Kasur, Aks...      NaN           950000  \n",
       "2            WiFi, Kloset Duduk, Kasur, Akses 24 Jam      NaN          1000000  \n",
       "3                                              Kasur      NaN           500000  \n",
       "4                          WiFi, Kasur, Akses 24 Jam      NaN           950000  \n",
       "5                          WiFi, Kasur, Akses 24 Jam      4.9           500000  \n",
       "6          K. Mandi Dalam, WiFi, Kasur, Akses 24 Jam      NaN           850000  \n",
       "7                          WiFi, Kasur, Akses 24 Jam      NaN           650000  \n",
       "8                          WiFi, Kasur, Akses 24 Jam      5.0           550000  \n",
       "9          K. Mandi Dalam, WiFi, Kasur, Akses 24 Jam      4.1           680000  "
      ]
     },
     "execution_count": 2,
     "metadata": {},
     "output_type": "execute_result"
    }
   ],
   "source": [
    "# load data\n",
    "data = pd.read_csv('data/data_kos_malang_clean.csv')\n",
    "data.head(10)"
   ]
  },
  {
   "cell_type": "markdown",
   "id": "65882439",
   "metadata": {},
   "source": [
    "## Check Data\n",
    "#### Check for missing/empty data & delete columns that are not needed. Delete columns that have a lot of missing data, and category columns that have a lot of unique values ​​because the feature cannot do this"
   ]
  },
  {
   "cell_type": "markdown",
   "id": "0cad0c93",
   "metadata": {},
   "source": [
    "## Cek Data\n",
    "#### Cek data bolong / kosong & hapus kolom yang tidak diperlukan. Hapus kolom yang memiliki banyak data hilang, dan kolom categori yang memiliki banyak value unik karena tidak dapat dilakukan fitur"
   ]
  },
  {
   "cell_type": "code",
   "execution_count": 3,
   "id": "48b63fad",
   "metadata": {},
   "outputs": [
    {
     "data": {
      "text/plain": [
       "Nama Kos           0.000000\n",
       "Lokasi             0.000000\n",
       "Fasilitas          0.000000\n",
       "Ratings            0.829167\n",
       "Harga per Bulan    0.000000\n",
       "dtype: float64"
      ]
     },
     "execution_count": 3,
     "metadata": {},
     "output_type": "execute_result"
    }
   ],
   "source": [
    "# check missing value\n",
    "data.isna().mean()"
   ]
  },
  {
   "cell_type": "code",
   "execution_count": 4,
   "id": "f97ad14d",
   "metadata": {},
   "outputs": [],
   "source": [
    "# drop colum Ratings\n",
    "data.drop(['Nama Kos','Ratings'], axis=1, inplace=True)"
   ]
  },
  {
   "cell_type": "markdown",
   "id": "4ba3a9e6",
   "metadata": {},
   "source": [
    "## Data Splitting\n",
    "#### After loading the data, the next step is to separate our data into 2 parts, namely training and testing data, training data is used to train our model and testing data is used to make experimental predictions for our model."
   ]
  },
  {
   "cell_type": "markdown",
   "id": "0624b0ae",
   "metadata": {},
   "source": [
    "## Data Spliting \n",
    "#### Setelah load data langkah selanjutnya, kita memisah data kita menjadi 2 bagian yaitu data training dan testing, data training digunakan untuk melatih model kita dan data testing digunakan untuk membuat prediksi percobaan untuk model kita."
   ]
  },
  {
   "cell_type": "code",
   "execution_count": 5,
   "id": "e497c2ca",
   "metadata": {},
   "outputs": [],
   "source": [
    "# define features (X) and label (y)\n",
    "X = data.drop('Harga per Bulan', axis=1)\n",
    "y = data['Harga per Bulan']"
   ]
  },
  {
   "cell_type": "code",
   "execution_count": 6,
   "id": "9a6185e2",
   "metadata": {},
   "outputs": [
    {
     "data": {
      "text/plain": [
       "((180, 2), (180,))"
      ]
     },
     "execution_count": 6,
     "metadata": {},
     "output_type": "execute_result"
    }
   ],
   "source": [
    "# splitting data\n",
    "from sklearn.model_selection import train_test_split\n",
    "X_train, X_test, y_train, y_test = train_test_split(X, y,\n",
    "                                                   test_size=0.25,\n",
    "                                                   random_state=42)\n",
    "X_train.shape, y_train.shape"
   ]
  },
  {
   "cell_type": "markdown",
   "id": "7a047033",
   "metadata": {},
   "source": [
    "## Processing & Modeling Data\n",
    "#### The next step is processing the data, giving numerical labels to the data, scaling the data, etc. which we will wrap in a pipeline so that it can be used for processing test data and avoiding data leaks.\n",
    "#### and also includes the SVM algorithm (regression task) then tuning the parameters and finally checking the score to be used as a measurement for the next model improvisation. r can be used for processing test data and avoiding data leakage."
   ]
  },
  {
   "cell_type": "markdown",
   "id": "d7ee8147",
   "metadata": {},
   "source": [
    "## Memproses & Memodelkan Data\n",
    "#### Step selanjutnya adalah memproses data, memberikan label numeric kepada data, menskalakan data dll yang akan kita bungkus dalam pipeline agar bisa digunakan untuk pemrosesan data test dan menghindari kebocoran data (data leakage).\n",
    "#### dan juga menyertakan algoritma SVM (regression task)  lalu tuning parameter dan yang terakhir cek score untuk dijadikan pengukuran atas improvisasi model berikutnya."
   ]
  },
  {
   "cell_type": "code",
   "execution_count": 7,
   "id": "ecec85a2",
   "metadata": {},
   "outputs": [],
   "source": [
    "from sklearn.pipeline import Pipeline\n",
    "from sklearn.compose import ColumnTransformer\n",
    "from sklearn.impute import SimpleImputer\n",
    "from sklearn.preprocessing import OneHotEncoder, MinMaxScaler, StandardScaler, FunctionTransformer\n",
    "from sklearn.svm import SVR"
   ]
  },
  {
   "cell_type": "code",
   "execution_count": 8,
   "id": "bd5fec61",
   "metadata": {},
   "outputs": [],
   "source": [
    "# check unique data facilities\n",
    "unique_facility = []\n",
    "for f in data['Fasilitas']:\n",
    "    d = f.split(', ')\n",
    "    \n",
    "    for i in d:\n",
    "        if i in unique_facility:\n",
    "            continue\n",
    "        else:\n",
    "            unique_facility.append(i)"
   ]
  },
  {
   "cell_type": "code",
   "execution_count": 9,
   "id": "6ed16b5b",
   "metadata": {},
   "outputs": [
    {
     "data": {
      "text/plain": [
       "['WiFi', 'Kasur', 'Akses 24 Jam', 'K. Mandi Dalam', 'Kloset Duduk', 'AC']"
      ]
     },
     "execution_count": 9,
     "metadata": {},
     "output_type": "execute_result"
    }
   ],
   "source": [
    "# check unique\n",
    "unique_facility"
   ]
  },
  {
   "cell_type": "code",
   "execution_count": 10,
   "id": "90d18ad8",
   "metadata": {},
   "outputs": [],
   "source": [
    "# get facilities\n",
    "\n",
    "def get_facilities(DATA):\n",
    "    \n",
    "    # list for new unique value\n",
    "    wifi = []\n",
    "    kasur = []\n",
    "    akses = []\n",
    "    KMD = []\n",
    "    KD = []\n",
    "    AC = []\n",
    "\n",
    "    D = DATA.copy(deep=True) # copy dataframe\n",
    "    \n",
    "    # looping for index in colum of dataframe\n",
    "    for d in D['Fasilitas']:\n",
    "        L = d.split(', ') # split value\n",
    "        \n",
    "        for uf,new in zip(unique_facility,[wifi, kasur, akses, KMD, KD, AC]):\n",
    "            if uf in L:\n",
    "                new.append(1)\n",
    "            else:\n",
    "                new.append(0)\n",
    "    \n",
    "    D.drop('Fasilitas', axis=1, inplace=True)\n",
    "    new_df = pd.DataFrame({\n",
    "        'Wifi': wifi,\n",
    "        'Kasur': kasur,\n",
    "        'Akses 24 Jam': akses,\n",
    "        'K. Mandi Dalam': KMD,\n",
    "        'Kloset Duduk': KD,\n",
    "        'AC': AC\n",
    "    })\n",
    "    \n",
    "    # suitable index\n",
    "    new_df.index = D.index\n",
    "    \n",
    "    return pd.concat([D, new_df], axis=1)"
   ]
  },
  {
   "cell_type": "code",
   "execution_count": 11,
   "id": "c16221cd",
   "metadata": {},
   "outputs": [
    {
     "data": {
      "text/html": [
       "<div>\n",
       "<style scoped>\n",
       "    .dataframe tbody tr th:only-of-type {\n",
       "        vertical-align: middle;\n",
       "    }\n",
       "\n",
       "    .dataframe tbody tr th {\n",
       "        vertical-align: top;\n",
       "    }\n",
       "\n",
       "    .dataframe thead th {\n",
       "        text-align: right;\n",
       "    }\n",
       "</style>\n",
       "<table border=\"1\" class=\"dataframe\">\n",
       "  <thead>\n",
       "    <tr style=\"text-align: right;\">\n",
       "      <th></th>\n",
       "      <th>Lokasi</th>\n",
       "      <th>Harga per Bulan</th>\n",
       "      <th>Wifi</th>\n",
       "      <th>Kasur</th>\n",
       "      <th>Akses 24 Jam</th>\n",
       "      <th>K. Mandi Dalam</th>\n",
       "      <th>Kloset Duduk</th>\n",
       "      <th>AC</th>\n",
       "    </tr>\n",
       "  </thead>\n",
       "  <tbody>\n",
       "    <tr>\n",
       "      <th>0</th>\n",
       "      <td>Lowokwaru</td>\n",
       "      <td>600000</td>\n",
       "      <td>1</td>\n",
       "      <td>1</td>\n",
       "      <td>1</td>\n",
       "      <td>0</td>\n",
       "      <td>0</td>\n",
       "      <td>0</td>\n",
       "    </tr>\n",
       "    <tr>\n",
       "      <th>1</th>\n",
       "      <td>Lowokwaru</td>\n",
       "      <td>950000</td>\n",
       "      <td>1</td>\n",
       "      <td>1</td>\n",
       "      <td>1</td>\n",
       "      <td>1</td>\n",
       "      <td>1</td>\n",
       "      <td>0</td>\n",
       "    </tr>\n",
       "    <tr>\n",
       "      <th>2</th>\n",
       "      <td>Lowokwaru</td>\n",
       "      <td>1000000</td>\n",
       "      <td>1</td>\n",
       "      <td>1</td>\n",
       "      <td>1</td>\n",
       "      <td>0</td>\n",
       "      <td>1</td>\n",
       "      <td>0</td>\n",
       "    </tr>\n",
       "    <tr>\n",
       "      <th>3</th>\n",
       "      <td>Lowokwaru</td>\n",
       "      <td>500000</td>\n",
       "      <td>0</td>\n",
       "      <td>1</td>\n",
       "      <td>0</td>\n",
       "      <td>0</td>\n",
       "      <td>0</td>\n",
       "      <td>0</td>\n",
       "    </tr>\n",
       "    <tr>\n",
       "      <th>4</th>\n",
       "      <td>Lowokwaru</td>\n",
       "      <td>950000</td>\n",
       "      <td>1</td>\n",
       "      <td>1</td>\n",
       "      <td>1</td>\n",
       "      <td>0</td>\n",
       "      <td>0</td>\n",
       "      <td>0</td>\n",
       "    </tr>\n",
       "  </tbody>\n",
       "</table>\n",
       "</div>"
      ],
      "text/plain": [
       "      Lokasi  Harga per Bulan  Wifi  Kasur  Akses 24 Jam  K. Mandi Dalam  \\\n",
       "0  Lowokwaru           600000     1      1             1               0   \n",
       "1  Lowokwaru           950000     1      1             1               1   \n",
       "2  Lowokwaru          1000000     1      1             1               0   \n",
       "3  Lowokwaru           500000     0      1             0               0   \n",
       "4  Lowokwaru           950000     1      1             1               0   \n",
       "\n",
       "   Kloset Duduk  AC  \n",
       "0             0   0  \n",
       "1             1   0  \n",
       "2             1   0  \n",
       "3             0   0  \n",
       "4             0   0  "
      ]
     },
     "execution_count": 11,
     "metadata": {},
     "output_type": "execute_result"
    }
   ],
   "source": [
    "# check function\n",
    "a = get_facilities(data)\n",
    "a.head()"
   ]
  },
  {
   "cell_type": "code",
   "execution_count": 12,
   "id": "8ad76b18",
   "metadata": {},
   "outputs": [
    {
     "data": {
      "text/html": [
       "<div>\n",
       "<style scoped>\n",
       "    .dataframe tbody tr th:only-of-type {\n",
       "        vertical-align: middle;\n",
       "    }\n",
       "\n",
       "    .dataframe tbody tr th {\n",
       "        vertical-align: top;\n",
       "    }\n",
       "\n",
       "    .dataframe thead th {\n",
       "        text-align: right;\n",
       "    }\n",
       "</style>\n",
       "<table border=\"1\" class=\"dataframe\">\n",
       "  <thead>\n",
       "    <tr style=\"text-align: right;\">\n",
       "      <th></th>\n",
       "      <th>Lokasi</th>\n",
       "      <th>Fasilitas</th>\n",
       "      <th>Harga per Bulan</th>\n",
       "    </tr>\n",
       "  </thead>\n",
       "  <tbody>\n",
       "    <tr>\n",
       "      <th>0</th>\n",
       "      <td>Lowokwaru</td>\n",
       "      <td>WiFi, Kasur, Akses 24 Jam</td>\n",
       "      <td>600000</td>\n",
       "    </tr>\n",
       "    <tr>\n",
       "      <th>1</th>\n",
       "      <td>Lowokwaru</td>\n",
       "      <td>K. Mandi Dalam, WiFi, Kloset Duduk, Kasur, Aks...</td>\n",
       "      <td>950000</td>\n",
       "    </tr>\n",
       "    <tr>\n",
       "      <th>2</th>\n",
       "      <td>Lowokwaru</td>\n",
       "      <td>WiFi, Kloset Duduk, Kasur, Akses 24 Jam</td>\n",
       "      <td>1000000</td>\n",
       "    </tr>\n",
       "    <tr>\n",
       "      <th>3</th>\n",
       "      <td>Lowokwaru</td>\n",
       "      <td>Kasur</td>\n",
       "      <td>500000</td>\n",
       "    </tr>\n",
       "    <tr>\n",
       "      <th>4</th>\n",
       "      <td>Lowokwaru</td>\n",
       "      <td>WiFi, Kasur, Akses 24 Jam</td>\n",
       "      <td>950000</td>\n",
       "    </tr>\n",
       "  </tbody>\n",
       "</table>\n",
       "</div>"
      ],
      "text/plain": [
       "      Lokasi                                          Fasilitas  \\\n",
       "0  Lowokwaru                          WiFi, Kasur, Akses 24 Jam   \n",
       "1  Lowokwaru  K. Mandi Dalam, WiFi, Kloset Duduk, Kasur, Aks...   \n",
       "2  Lowokwaru            WiFi, Kloset Duduk, Kasur, Akses 24 Jam   \n",
       "3  Lowokwaru                                              Kasur   \n",
       "4  Lowokwaru                          WiFi, Kasur, Akses 24 Jam   \n",
       "\n",
       "   Harga per Bulan  \n",
       "0           600000  \n",
       "1           950000  \n",
       "2          1000000  \n",
       "3           500000  \n",
       "4           950000  "
      ]
     },
     "execution_count": 12,
     "metadata": {},
     "output_type": "execute_result"
    }
   ],
   "source": [
    "data.head()"
   ]
  },
  {
   "cell_type": "code",
   "execution_count": 13,
   "id": "2f7cb0ee",
   "metadata": {},
   "outputs": [],
   "source": [
    "# data processing pipeline\n",
    "\n",
    "prep = Pipeline([\n",
    "    ('split_facilities', FunctionTransformer(get_facilities)),\n",
    "    ('labeling', ColumnTransformer([\n",
    "        ('label',OneHotEncoder(sparse=False),['Lokasi'])\n",
    "    ], remainder='passthrough')),\n",
    "    ('scaling' , MinMaxScaler())\n",
    "])"
   ]
  },
  {
   "cell_type": "code",
   "execution_count": 14,
   "id": "a434c1e9",
   "metadata": {},
   "outputs": [
    {
     "data": {
      "text/plain": [
       "(180, 10)"
      ]
     },
     "execution_count": 14,
     "metadata": {},
     "output_type": "execute_result"
    }
   ],
   "source": [
    "# check processing pipeline\n",
    "prep.fit_transform(X_train).shape"
   ]
  },
  {
   "cell_type": "code",
   "execution_count": 15,
   "id": "0b2839ef",
   "metadata": {},
   "outputs": [],
   "source": [
    "param_grid = {\n",
    "    'algo__kernel': ['linear', 'rbf', 'poly'],\n",
    "    'algo__C': [0.1, 1, 10, 100],\n",
    "    'algo__gamma': ['scale', 'auto'],\n",
    "    'algo__epsilon': [0.1, 0.2, 0.5]\n",
    "}\n",
    "\n",
    "# pipeline model\n",
    "pipeline = Pipeline([\n",
    "    ('prep', prep),\n",
    "    ('algo', SVR())\n",
    "])"
   ]
  },
  {
   "cell_type": "code",
   "execution_count": 16,
   "id": "0d3c21cb",
   "metadata": {},
   "outputs": [
    {
     "name": "stdout",
     "output_type": "stream",
     "text": [
      "Fitting 3 folds for each of 72 candidates, totalling 216 fits\n"
     ]
    },
    {
     "data": {
      "text/html": [
       "<style>#sk-container-id-1 {color: black;background-color: white;}#sk-container-id-1 pre{padding: 0;}#sk-container-id-1 div.sk-toggleable {background-color: white;}#sk-container-id-1 label.sk-toggleable__label {cursor: pointer;display: block;width: 100%;margin-bottom: 0;padding: 0.3em;box-sizing: border-box;text-align: center;}#sk-container-id-1 label.sk-toggleable__label-arrow:before {content: \"▸\";float: left;margin-right: 0.25em;color: #696969;}#sk-container-id-1 label.sk-toggleable__label-arrow:hover:before {color: black;}#sk-container-id-1 div.sk-estimator:hover label.sk-toggleable__label-arrow:before {color: black;}#sk-container-id-1 div.sk-toggleable__content {max-height: 0;max-width: 0;overflow: hidden;text-align: left;background-color: #f0f8ff;}#sk-container-id-1 div.sk-toggleable__content pre {margin: 0.2em;color: black;border-radius: 0.25em;background-color: #f0f8ff;}#sk-container-id-1 input.sk-toggleable__control:checked~div.sk-toggleable__content {max-height: 200px;max-width: 100%;overflow: auto;}#sk-container-id-1 input.sk-toggleable__control:checked~label.sk-toggleable__label-arrow:before {content: \"▾\";}#sk-container-id-1 div.sk-estimator input.sk-toggleable__control:checked~label.sk-toggleable__label {background-color: #d4ebff;}#sk-container-id-1 div.sk-label input.sk-toggleable__control:checked~label.sk-toggleable__label {background-color: #d4ebff;}#sk-container-id-1 input.sk-hidden--visually {border: 0;clip: rect(1px 1px 1px 1px);clip: rect(1px, 1px, 1px, 1px);height: 1px;margin: -1px;overflow: hidden;padding: 0;position: absolute;width: 1px;}#sk-container-id-1 div.sk-estimator {font-family: monospace;background-color: #f0f8ff;border: 1px dotted black;border-radius: 0.25em;box-sizing: border-box;margin-bottom: 0.5em;}#sk-container-id-1 div.sk-estimator:hover {background-color: #d4ebff;}#sk-container-id-1 div.sk-parallel-item::after {content: \"\";width: 100%;border-bottom: 1px solid gray;flex-grow: 1;}#sk-container-id-1 div.sk-label:hover label.sk-toggleable__label {background-color: #d4ebff;}#sk-container-id-1 div.sk-serial::before {content: \"\";position: absolute;border-left: 1px solid gray;box-sizing: border-box;top: 0;bottom: 0;left: 50%;z-index: 0;}#sk-container-id-1 div.sk-serial {display: flex;flex-direction: column;align-items: center;background-color: white;padding-right: 0.2em;padding-left: 0.2em;position: relative;}#sk-container-id-1 div.sk-item {position: relative;z-index: 1;}#sk-container-id-1 div.sk-parallel {display: flex;align-items: stretch;justify-content: center;background-color: white;position: relative;}#sk-container-id-1 div.sk-item::before, #sk-container-id-1 div.sk-parallel-item::before {content: \"\";position: absolute;border-left: 1px solid gray;box-sizing: border-box;top: 0;bottom: 0;left: 50%;z-index: -1;}#sk-container-id-1 div.sk-parallel-item {display: flex;flex-direction: column;z-index: 1;position: relative;background-color: white;}#sk-container-id-1 div.sk-parallel-item:first-child::after {align-self: flex-end;width: 50%;}#sk-container-id-1 div.sk-parallel-item:last-child::after {align-self: flex-start;width: 50%;}#sk-container-id-1 div.sk-parallel-item:only-child::after {width: 0;}#sk-container-id-1 div.sk-dashed-wrapped {border: 1px dashed gray;margin: 0 0.4em 0.5em 0.4em;box-sizing: border-box;padding-bottom: 0.4em;background-color: white;}#sk-container-id-1 div.sk-label label {font-family: monospace;font-weight: bold;display: inline-block;line-height: 1.2em;}#sk-container-id-1 div.sk-label-container {text-align: center;}#sk-container-id-1 div.sk-container {/* jupyter's `normalize.less` sets `[hidden] { display: none; }` but bootstrap.min.css set `[hidden] { display: none !important; }` so we also need the `!important` here to be able to override the default hidden behavior on the sphinx rendered scikit-learn.org. See: https://github.com/scikit-learn/scikit-learn/issues/21755 */display: inline-block !important;position: relative;}#sk-container-id-1 div.sk-text-repr-fallback {display: none;}</style><div id=\"sk-container-id-1\" class=\"sk-top-container\"><div class=\"sk-text-repr-fallback\"><pre>GridSearchCV(cv=3,\n",
       "             estimator=Pipeline(steps=[(&#x27;prep&#x27;,\n",
       "                                        Pipeline(steps=[(&#x27;split_facilities&#x27;,\n",
       "                                                         FunctionTransformer(func=&lt;function get_facilities at 0x000002062DF9E3E0&gt;)),\n",
       "                                                        (&#x27;labeling&#x27;,\n",
       "                                                         ColumnTransformer(remainder=&#x27;passthrough&#x27;,\n",
       "                                                                           transformers=[(&#x27;label&#x27;,\n",
       "                                                                                          OneHotEncoder(sparse=False),\n",
       "                                                                                          [&#x27;Lokasi&#x27;])])),\n",
       "                                                        (&#x27;scaling&#x27;,\n",
       "                                                         MinMaxScaler())])),\n",
       "                                       (&#x27;algo&#x27;, SVR())]),\n",
       "             n_jobs=-1,\n",
       "             param_grid={&#x27;algo__C&#x27;: [0.1, 1, 10, 100],\n",
       "                         &#x27;algo__epsilon&#x27;: [0.1, 0.2, 0.5],\n",
       "                         &#x27;algo__gamma&#x27;: [&#x27;scale&#x27;, &#x27;auto&#x27;],\n",
       "                         &#x27;algo__kernel&#x27;: [&#x27;linear&#x27;, &#x27;rbf&#x27;, &#x27;poly&#x27;]},\n",
       "             scoring=&#x27;neg_mean_squared_error&#x27;, verbose=1)</pre><b>In a Jupyter environment, please rerun this cell to show the HTML representation or trust the notebook. <br />On GitHub, the HTML representation is unable to render, please try loading this page with nbviewer.org.</b></div><div class=\"sk-container\" hidden><div class=\"sk-item sk-dashed-wrapped\"><div class=\"sk-label-container\"><div class=\"sk-label sk-toggleable\"><input class=\"sk-toggleable__control sk-hidden--visually\" id=\"sk-estimator-id-1\" type=\"checkbox\" ><label for=\"sk-estimator-id-1\" class=\"sk-toggleable__label sk-toggleable__label-arrow\">GridSearchCV</label><div class=\"sk-toggleable__content\"><pre>GridSearchCV(cv=3,\n",
       "             estimator=Pipeline(steps=[(&#x27;prep&#x27;,\n",
       "                                        Pipeline(steps=[(&#x27;split_facilities&#x27;,\n",
       "                                                         FunctionTransformer(func=&lt;function get_facilities at 0x000002062DF9E3E0&gt;)),\n",
       "                                                        (&#x27;labeling&#x27;,\n",
       "                                                         ColumnTransformer(remainder=&#x27;passthrough&#x27;,\n",
       "                                                                           transformers=[(&#x27;label&#x27;,\n",
       "                                                                                          OneHotEncoder(sparse=False),\n",
       "                                                                                          [&#x27;Lokasi&#x27;])])),\n",
       "                                                        (&#x27;scaling&#x27;,\n",
       "                                                         MinMaxScaler())])),\n",
       "                                       (&#x27;algo&#x27;, SVR())]),\n",
       "             n_jobs=-1,\n",
       "             param_grid={&#x27;algo__C&#x27;: [0.1, 1, 10, 100],\n",
       "                         &#x27;algo__epsilon&#x27;: [0.1, 0.2, 0.5],\n",
       "                         &#x27;algo__gamma&#x27;: [&#x27;scale&#x27;, &#x27;auto&#x27;],\n",
       "                         &#x27;algo__kernel&#x27;: [&#x27;linear&#x27;, &#x27;rbf&#x27;, &#x27;poly&#x27;]},\n",
       "             scoring=&#x27;neg_mean_squared_error&#x27;, verbose=1)</pre></div></div></div><div class=\"sk-parallel\"><div class=\"sk-parallel-item\"><div class=\"sk-item\"><div class=\"sk-label-container\"><div class=\"sk-label sk-toggleable\"><input class=\"sk-toggleable__control sk-hidden--visually\" id=\"sk-estimator-id-2\" type=\"checkbox\" ><label for=\"sk-estimator-id-2\" class=\"sk-toggleable__label sk-toggleable__label-arrow\">estimator: Pipeline</label><div class=\"sk-toggleable__content\"><pre>Pipeline(steps=[(&#x27;prep&#x27;,\n",
       "                 Pipeline(steps=[(&#x27;split_facilities&#x27;,\n",
       "                                  FunctionTransformer(func=&lt;function get_facilities at 0x000002062DF9E3E0&gt;)),\n",
       "                                 (&#x27;labeling&#x27;,\n",
       "                                  ColumnTransformer(remainder=&#x27;passthrough&#x27;,\n",
       "                                                    transformers=[(&#x27;label&#x27;,\n",
       "                                                                   OneHotEncoder(sparse=False),\n",
       "                                                                   [&#x27;Lokasi&#x27;])])),\n",
       "                                 (&#x27;scaling&#x27;, MinMaxScaler())])),\n",
       "                (&#x27;algo&#x27;, SVR())])</pre></div></div></div><div class=\"sk-serial\"><div class=\"sk-item\"><div class=\"sk-serial\"><div class=\"sk-item\"><div class=\"sk-label-container\"><div class=\"sk-label sk-toggleable\"><input class=\"sk-toggleable__control sk-hidden--visually\" id=\"sk-estimator-id-3\" type=\"checkbox\" ><label for=\"sk-estimator-id-3\" class=\"sk-toggleable__label sk-toggleable__label-arrow\">prep: Pipeline</label><div class=\"sk-toggleable__content\"><pre>Pipeline(steps=[(&#x27;split_facilities&#x27;,\n",
       "                 FunctionTransformer(func=&lt;function get_facilities at 0x000002062DF9E3E0&gt;)),\n",
       "                (&#x27;labeling&#x27;,\n",
       "                 ColumnTransformer(remainder=&#x27;passthrough&#x27;,\n",
       "                                   transformers=[(&#x27;label&#x27;,\n",
       "                                                  OneHotEncoder(sparse=False),\n",
       "                                                  [&#x27;Lokasi&#x27;])])),\n",
       "                (&#x27;scaling&#x27;, MinMaxScaler())])</pre></div></div></div><div class=\"sk-serial\"><div class=\"sk-item\"><div class=\"sk-estimator sk-toggleable\"><input class=\"sk-toggleable__control sk-hidden--visually\" id=\"sk-estimator-id-4\" type=\"checkbox\" ><label for=\"sk-estimator-id-4\" class=\"sk-toggleable__label sk-toggleable__label-arrow\">FunctionTransformer</label><div class=\"sk-toggleable__content\"><pre>FunctionTransformer(func=&lt;function get_facilities at 0x000002062DF9E3E0&gt;)</pre></div></div></div><div class=\"sk-item sk-dashed-wrapped\"><div class=\"sk-label-container\"><div class=\"sk-label sk-toggleable\"><input class=\"sk-toggleable__control sk-hidden--visually\" id=\"sk-estimator-id-5\" type=\"checkbox\" ><label for=\"sk-estimator-id-5\" class=\"sk-toggleable__label sk-toggleable__label-arrow\">labeling: ColumnTransformer</label><div class=\"sk-toggleable__content\"><pre>ColumnTransformer(remainder=&#x27;passthrough&#x27;,\n",
       "                  transformers=[(&#x27;label&#x27;, OneHotEncoder(sparse=False),\n",
       "                                 [&#x27;Lokasi&#x27;])])</pre></div></div></div><div class=\"sk-parallel\"><div class=\"sk-parallel-item\"><div class=\"sk-item\"><div class=\"sk-label-container\"><div class=\"sk-label sk-toggleable\"><input class=\"sk-toggleable__control sk-hidden--visually\" id=\"sk-estimator-id-6\" type=\"checkbox\" ><label for=\"sk-estimator-id-6\" class=\"sk-toggleable__label sk-toggleable__label-arrow\">label</label><div class=\"sk-toggleable__content\"><pre>[&#x27;Lokasi&#x27;]</pre></div></div></div><div class=\"sk-serial\"><div class=\"sk-item\"><div class=\"sk-estimator sk-toggleable\"><input class=\"sk-toggleable__control sk-hidden--visually\" id=\"sk-estimator-id-7\" type=\"checkbox\" ><label for=\"sk-estimator-id-7\" class=\"sk-toggleable__label sk-toggleable__label-arrow\">OneHotEncoder</label><div class=\"sk-toggleable__content\"><pre>OneHotEncoder(sparse=False)</pre></div></div></div></div></div></div><div class=\"sk-parallel-item\"><div class=\"sk-item\"><div class=\"sk-label-container\"><div class=\"sk-label sk-toggleable\"><input class=\"sk-toggleable__control sk-hidden--visually\" id=\"sk-estimator-id-8\" type=\"checkbox\" ><label for=\"sk-estimator-id-8\" class=\"sk-toggleable__label sk-toggleable__label-arrow\">remainder</label><div class=\"sk-toggleable__content\"><pre>[&#x27;Wifi&#x27;, &#x27;Kasur&#x27;, &#x27;Akses 24 Jam&#x27;, &#x27;K. Mandi Dalam&#x27;, &#x27;Kloset Duduk&#x27;, &#x27;AC&#x27;]</pre></div></div></div><div class=\"sk-serial\"><div class=\"sk-item\"><div class=\"sk-estimator sk-toggleable\"><input class=\"sk-toggleable__control sk-hidden--visually\" id=\"sk-estimator-id-9\" type=\"checkbox\" ><label for=\"sk-estimator-id-9\" class=\"sk-toggleable__label sk-toggleable__label-arrow\">passthrough</label><div class=\"sk-toggleable__content\"><pre>passthrough</pre></div></div></div></div></div></div></div></div><div class=\"sk-item\"><div class=\"sk-estimator sk-toggleable\"><input class=\"sk-toggleable__control sk-hidden--visually\" id=\"sk-estimator-id-10\" type=\"checkbox\" ><label for=\"sk-estimator-id-10\" class=\"sk-toggleable__label sk-toggleable__label-arrow\">MinMaxScaler</label><div class=\"sk-toggleable__content\"><pre>MinMaxScaler()</pre></div></div></div></div></div><div class=\"sk-item\"><div class=\"sk-estimator sk-toggleable\"><input class=\"sk-toggleable__control sk-hidden--visually\" id=\"sk-estimator-id-11\" type=\"checkbox\" ><label for=\"sk-estimator-id-11\" class=\"sk-toggleable__label sk-toggleable__label-arrow\">SVR</label><div class=\"sk-toggleable__content\"><pre>SVR()</pre></div></div></div></div></div></div></div></div></div></div></div></div>"
      ],
      "text/plain": [
       "GridSearchCV(cv=3,\n",
       "             estimator=Pipeline(steps=[('prep',\n",
       "                                        Pipeline(steps=[('split_facilities',\n",
       "                                                         FunctionTransformer(func=<function get_facilities at 0x000002062DF9E3E0>)),\n",
       "                                                        ('labeling',\n",
       "                                                         ColumnTransformer(remainder='passthrough',\n",
       "                                                                           transformers=[('label',\n",
       "                                                                                          OneHotEncoder(sparse=False),\n",
       "                                                                                          ['Lokasi'])])),\n",
       "                                                        ('scaling',\n",
       "                                                         MinMaxScaler())])),\n",
       "                                       ('algo', SVR())]),\n",
       "             n_jobs=-1,\n",
       "             param_grid={'algo__C': [0.1, 1, 10, 100],\n",
       "                         'algo__epsilon': [0.1, 0.2, 0.5],\n",
       "                         'algo__gamma': ['scale', 'auto'],\n",
       "                         'algo__kernel': ['linear', 'rbf', 'poly']},\n",
       "             scoring='neg_mean_squared_error', verbose=1)"
      ]
     },
     "execution_count": 16,
     "metadata": {},
     "output_type": "execute_result"
    }
   ],
   "source": [
    "# tuning\n",
    "from sklearn.model_selection import GridSearchCV\n",
    "model = GridSearchCV(pipeline, param_grid=param_grid, cv=3, scoring='neg_mean_squared_error', n_jobs=-1, verbose=1)\n",
    "model.fit(X_train, y_train)"
   ]
  },
  {
   "cell_type": "markdown",
   "id": "1be79d0a",
   "metadata": {},
   "source": [
    "## Evaluation Model\n",
    "#### View the best parameters & evaluate the model using \"Mean Squared Error\"."
   ]
  },
  {
   "cell_type": "markdown",
   "id": "f4925771",
   "metadata": {},
   "source": [
    "## Evaluasi Model\n",
    "#### Melihat parameter terbaik & mengevaluasi model menggunakan \"Mean Squared Error\"."
   ]
  },
  {
   "cell_type": "code",
   "execution_count": 17,
   "id": "70a6630c",
   "metadata": {},
   "outputs": [
    {
     "name": "stdout",
     "output_type": "stream",
     "text": [
      "best param : {'algo__C': 100, 'algo__epsilon': 0.1, 'algo__gamma': 'scale', 'algo__kernel': 'poly'}\n",
      "Validation : -27185700983.180664\n",
      "Testing : -22849923253.397713\n"
     ]
    }
   ],
   "source": [
    "# evaluate data\n",
    "print(f'best param : {model.best_params_}')\n",
    "print(f'Validation : {model.score(X_train, y_train)}')\n",
    "print(f'Testing : {model.score(X_test, y_test)}')"
   ]
  },
  {
   "cell_type": "code",
   "execution_count": 18,
   "id": "be4de014",
   "metadata": {},
   "outputs": [
    {
     "data": {
      "image/png": "[encoded data removed]",
      "text/plain": [
       "<Figure size 640x480 with 1 Axes>"
      ]
     },
     "metadata": {},
     "output_type": "display_data"
    }
   ],
   "source": [
    "# visualisation model prediction & actual data.\n",
    "import matplotlib.pyplot as plt\n",
    "import seaborn as sns\n",
    "\n",
    "# make prediction\n",
    "y_pred = model.predict(X_test)\n",
    "\n",
    "sns.lineplot(x=range(1,len(X_test)+1), y=y_test, label='Data Actual')\n",
    "sns.lineplot(x=range(1,len(X_test)+1), y=y_pred, label='Prediction')\n",
    "plt.legend()\n",
    "plt.show()"
   ]
  },
  {
   "cell_type": "markdown",
   "id": "f94d2d03",
   "metadata": {},
   "source": [
    "## Save Model & Data"
   ]
  },
  {
   "cell_type": "markdown",
   "id": "12d2f1a5",
   "metadata": {},
   "source": [
    "#### Save model with svm.pkl and train.csv for data "
   ]
  },
  {
   "cell_type": "markdown",
   "id": "746e8977",
   "metadata": {},
   "source": [
    "## Menyimpan Model & Data"
   ]
  },
  {
   "cell_type": "markdown",
   "id": "bca5c5d6",
   "metadata": {},
   "source": [
    "#### Menyimpan model menggunakan svm.pkl dan train.csv untuk data"
   ]
  },
  {
   "cell_type": "code",
   "execution_count": 19,
   "id": "3b679cd9",
   "metadata": {},
   "outputs": [],
   "source": [
    "# save model\n",
    "import pickle\n",
    "\n",
    "with open('model/svm_regression.pkl','wb') as file:\n",
    "    pickle.dump(model.best_params_, file)"
   ]
  },
  {
   "cell_type": "code",
   "execution_count": 20,
   "id": "f44e4e31",
   "metadata": {},
   "outputs": [],
   "source": [
    "# save data\n",
    "X_train.to_csv('data/train.csv')"
   ]
  },
  {
   "cell_type": "markdown",
   "id": "7efbffab",
   "metadata": {},
   "source": [
    "# Conclusion\n",
    "#### The model is very bad, I will make an EDA from the train data in the next step and will improve the model through the information I get later."
   ]
  },
  {
   "cell_type": "markdown",
   "id": "bd554e1f",
   "metadata": {},
   "source": [
    "# Kesimpulan\n",
    "#### Model sangat buruk, saya akan membuat EDA dari data train pada step selanjutnya dan akan improve model melalui informasi informasi yang saya dapatkan nantinya."
   ]
  },
  {
   "cell_type": "code",
   "execution_count": null,
   "id": "15c146e0",
   "metadata": {},
   "outputs": [],
   "source": []
  }
 ],
 "metadata": {
  "kernelspec": {
   "display_name": "Python [conda env:employee_project]",
   "language": "python",
   "name": "conda-env-employee_project-py"
  },
  "language_info": {
   "codemirror_mode": {
    "name": "ipython",
    "version": 3
   },
   "file_extension": ".py",
   "mimetype": "text/x-python",
   "name": "python",
   "nbconvert_exporter": "python",
   "pygments_lexer": "ipython3",
   "version": "3.11.4"
  }
 },
 "nbformat": 4,
 "nbformat_minor": 5
}
